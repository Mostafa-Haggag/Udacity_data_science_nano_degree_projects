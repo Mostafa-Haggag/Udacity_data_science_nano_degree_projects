{
 "cells": [
  {
   "cell_type": "markdown",
   "metadata": {},
   "source": [
    "# ML Pipeline Preparation\n",
    "Follow the instructions below to help you create your ML pipeline.\n",
    "### 1. Import libraries and load data from database.\n",
    "- Import Python libraries\n",
    "- Load dataset from database with [`read_sql_table`](https://pandas.pydata.org/pandas-docs/stable/generated/pandas.read_sql_table.html)\n",
    "- Define feature and target variables X and Y"
   ]
  },
  {
   "cell_type": "code",
   "execution_count": 31,
   "metadata": {},
   "outputs": [],
   "source": [
    "# import libraries\n",
    "import nltk\n",
    "import numpy as np\n",
    "import pandas as pd\n",
    "from sqlalchemy import create_engine\n",
    "import os\n",
    "import re\n",
    "from scipy.stats import gmean\n",
    "import pickle\n",
    "\n",
    "from sklearn.pipeline import Pipeline, FeatureUnion\n",
    "from sklearn.model_selection import train_test_split ,GridSearchCV\n",
    "from sklearn.feature_extraction.text import TfidfTransformer, CountVectorizer\n",
    "from sklearn.base import BaseEstimator,TransformerMixin\n",
    "from sklearn.ensemble import GradientBoostingClassifier, RandomForestClassifier, AdaBoostClassifier\n",
    "from sklearn.metrics import confusion_matrix,classification_report,fbeta_score, make_scorer\n",
    "from nltk.stem import WordNetLemmatizer\n",
    "from nltk.tokenize import word_tokenize\n",
    "from sklearn.multioutput import MultiOutputClassifier\n"
   ]
  },
  {
   "cell_type": "code",
   "execution_count": 2,
   "metadata": {},
   "outputs": [],
   "source": [
    "database_filepath = \"disaster_response_db.db\"\n",
    "engine = create_engine('sqlite:///' + database_filepath)\n",
    "table_name = os.path.basename(database_filepath).replace(\".db\",\"\") + \"_table\"\n",
    "df = pd.read_sql_table(table_name,engine)"
   ]
  },
  {
   "cell_type": "code",
   "execution_count": 3,
   "metadata": {},
   "outputs": [
    {
     "data": {
      "text/html": [
       "<div>\n",
       "<style scoped>\n",
       "    .dataframe tbody tr th:only-of-type {\n",
       "        vertical-align: middle;\n",
       "    }\n",
       "\n",
       "    .dataframe tbody tr th {\n",
       "        vertical-align: top;\n",
       "    }\n",
       "\n",
       "    .dataframe thead th {\n",
       "        text-align: right;\n",
       "    }\n",
       "</style>\n",
       "<table border=\"1\" class=\"dataframe\">\n",
       "  <thead>\n",
       "    <tr style=\"text-align: right;\">\n",
       "      <th></th>\n",
       "      <th>id</th>\n",
       "      <th>message</th>\n",
       "      <th>original</th>\n",
       "      <th>genre</th>\n",
       "      <th>related</th>\n",
       "      <th>request</th>\n",
       "      <th>offer</th>\n",
       "      <th>aid_related</th>\n",
       "      <th>medical_help</th>\n",
       "      <th>medical_products</th>\n",
       "      <th>...</th>\n",
       "      <th>aid_centers</th>\n",
       "      <th>other_infrastructure</th>\n",
       "      <th>weather_related</th>\n",
       "      <th>floods</th>\n",
       "      <th>storm</th>\n",
       "      <th>fire</th>\n",
       "      <th>earthquake</th>\n",
       "      <th>cold</th>\n",
       "      <th>other_weather</th>\n",
       "      <th>direct_report</th>\n",
       "    </tr>\n",
       "  </thead>\n",
       "  <tbody>\n",
       "    <tr>\n",
       "      <th>0</th>\n",
       "      <td>2</td>\n",
       "      <td>Weather update - a cold front from Cuba that c...</td>\n",
       "      <td>Un front froid se retrouve sur Cuba ce matin. ...</td>\n",
       "      <td>direct</td>\n",
       "      <td>1</td>\n",
       "      <td>0</td>\n",
       "      <td>0</td>\n",
       "      <td>0</td>\n",
       "      <td>0</td>\n",
       "      <td>0</td>\n",
       "      <td>...</td>\n",
       "      <td>0</td>\n",
       "      <td>0</td>\n",
       "      <td>0</td>\n",
       "      <td>0</td>\n",
       "      <td>0</td>\n",
       "      <td>0</td>\n",
       "      <td>0</td>\n",
       "      <td>0</td>\n",
       "      <td>0</td>\n",
       "      <td>0</td>\n",
       "    </tr>\n",
       "    <tr>\n",
       "      <th>1</th>\n",
       "      <td>7</td>\n",
       "      <td>Is the Hurricane over or is it not over</td>\n",
       "      <td>Cyclone nan fini osinon li pa fini</td>\n",
       "      <td>direct</td>\n",
       "      <td>1</td>\n",
       "      <td>0</td>\n",
       "      <td>0</td>\n",
       "      <td>1</td>\n",
       "      <td>0</td>\n",
       "      <td>0</td>\n",
       "      <td>...</td>\n",
       "      <td>0</td>\n",
       "      <td>0</td>\n",
       "      <td>1</td>\n",
       "      <td>0</td>\n",
       "      <td>1</td>\n",
       "      <td>0</td>\n",
       "      <td>0</td>\n",
       "      <td>0</td>\n",
       "      <td>0</td>\n",
       "      <td>0</td>\n",
       "    </tr>\n",
       "    <tr>\n",
       "      <th>2</th>\n",
       "      <td>8</td>\n",
       "      <td>Looking for someone but no name</td>\n",
       "      <td>Patnm, di Maryani relem pou li banm nouvel li ...</td>\n",
       "      <td>direct</td>\n",
       "      <td>1</td>\n",
       "      <td>0</td>\n",
       "      <td>0</td>\n",
       "      <td>0</td>\n",
       "      <td>0</td>\n",
       "      <td>0</td>\n",
       "      <td>...</td>\n",
       "      <td>0</td>\n",
       "      <td>0</td>\n",
       "      <td>0</td>\n",
       "      <td>0</td>\n",
       "      <td>0</td>\n",
       "      <td>0</td>\n",
       "      <td>0</td>\n",
       "      <td>0</td>\n",
       "      <td>0</td>\n",
       "      <td>0</td>\n",
       "    </tr>\n",
       "    <tr>\n",
       "      <th>3</th>\n",
       "      <td>9</td>\n",
       "      <td>UN reports Leogane 80-90 destroyed. Only Hospi...</td>\n",
       "      <td>UN reports Leogane 80-90 destroyed. Only Hospi...</td>\n",
       "      <td>direct</td>\n",
       "      <td>1</td>\n",
       "      <td>1</td>\n",
       "      <td>0</td>\n",
       "      <td>1</td>\n",
       "      <td>0</td>\n",
       "      <td>1</td>\n",
       "      <td>...</td>\n",
       "      <td>0</td>\n",
       "      <td>0</td>\n",
       "      <td>0</td>\n",
       "      <td>0</td>\n",
       "      <td>0</td>\n",
       "      <td>0</td>\n",
       "      <td>0</td>\n",
       "      <td>0</td>\n",
       "      <td>0</td>\n",
       "      <td>0</td>\n",
       "    </tr>\n",
       "    <tr>\n",
       "      <th>4</th>\n",
       "      <td>12</td>\n",
       "      <td>says: west side of Haiti, rest of the country ...</td>\n",
       "      <td>facade ouest d Haiti et le reste du pays aujou...</td>\n",
       "      <td>direct</td>\n",
       "      <td>1</td>\n",
       "      <td>0</td>\n",
       "      <td>0</td>\n",
       "      <td>0</td>\n",
       "      <td>0</td>\n",
       "      <td>0</td>\n",
       "      <td>...</td>\n",
       "      <td>0</td>\n",
       "      <td>0</td>\n",
       "      <td>0</td>\n",
       "      <td>0</td>\n",
       "      <td>0</td>\n",
       "      <td>0</td>\n",
       "      <td>0</td>\n",
       "      <td>0</td>\n",
       "      <td>0</td>\n",
       "      <td>0</td>\n",
       "    </tr>\n",
       "  </tbody>\n",
       "</table>\n",
       "<p>5 rows × 40 columns</p>\n",
       "</div>"
      ],
      "text/plain": [
       "   id                                            message  \\\n",
       "0   2  Weather update - a cold front from Cuba that c...   \n",
       "1   7            Is the Hurricane over or is it not over   \n",
       "2   8                    Looking for someone but no name   \n",
       "3   9  UN reports Leogane 80-90 destroyed. Only Hospi...   \n",
       "4  12  says: west side of Haiti, rest of the country ...   \n",
       "\n",
       "                                            original   genre  related  \\\n",
       "0  Un front froid se retrouve sur Cuba ce matin. ...  direct        1   \n",
       "1                 Cyclone nan fini osinon li pa fini  direct        1   \n",
       "2  Patnm, di Maryani relem pou li banm nouvel li ...  direct        1   \n",
       "3  UN reports Leogane 80-90 destroyed. Only Hospi...  direct        1   \n",
       "4  facade ouest d Haiti et le reste du pays aujou...  direct        1   \n",
       "\n",
       "   request  offer  aid_related  medical_help  medical_products  ...  \\\n",
       "0        0      0            0             0                 0  ...   \n",
       "1        0      0            1             0                 0  ...   \n",
       "2        0      0            0             0                 0  ...   \n",
       "3        1      0            1             0                 1  ...   \n",
       "4        0      0            0             0                 0  ...   \n",
       "\n",
       "   aid_centers  other_infrastructure  weather_related  floods  storm  fire  \\\n",
       "0            0                     0                0       0      0     0   \n",
       "1            0                     0                1       0      1     0   \n",
       "2            0                     0                0       0      0     0   \n",
       "3            0                     0                0       0      0     0   \n",
       "4            0                     0                0       0      0     0   \n",
       "\n",
       "   earthquake  cold  other_weather  direct_report  \n",
       "0           0     0              0              0  \n",
       "1           0     0              0              0  \n",
       "2           0     0              0              0  \n",
       "3           0     0              0              0  \n",
       "4           0     0              0              0  \n",
       "\n",
       "[5 rows x 40 columns]"
      ]
     },
     "execution_count": 3,
     "metadata": {},
     "output_type": "execute_result"
    }
   ],
   "source": [
    "df.head(5)"
   ]
  },
  {
   "cell_type": "code",
   "execution_count": 4,
   "metadata": {
    "scrolled": true
   },
   "outputs": [
    {
     "data": {
      "text/plain": [
       "Index(['id', 'message', 'original', 'genre', 'related', 'request', 'offer',\n",
       "       'aid_related', 'medical_help', 'medical_products', 'search_and_rescue',\n",
       "       'security', 'military', 'child_alone', 'water', 'food', 'shelter',\n",
       "       'clothing', 'money', 'missing_people', 'refugees', 'death', 'other_aid',\n",
       "       'infrastructure_related', 'transport', 'buildings', 'electricity',\n",
       "       'tools', 'hospitals', 'shops', 'aid_centers', 'other_infrastructure',\n",
       "       'weather_related', 'floods', 'storm', 'fire', 'earthquake', 'cold',\n",
       "       'other_weather', 'direct_report'],\n",
       "      dtype='object')"
      ]
     },
     "execution_count": 4,
     "metadata": {},
     "output_type": "execute_result"
    }
   ],
   "source": [
    "df.columns"
   ]
  },
  {
   "cell_type": "code",
   "execution_count": 5,
   "metadata": {},
   "outputs": [],
   "source": [
    "df['related']=df['related'].map(lambda x: 0 if x == 2 else x)"
   ]
  },
  {
   "cell_type": "code",
   "execution_count": 6,
   "metadata": {},
   "outputs": [],
   "source": [
    "df = df.drop(['child_alone'],axis=1)"
   ]
  },
  {
   "cell_type": "code",
   "execution_count": 8,
   "metadata": {},
   "outputs": [
    {
     "data": {
      "text/plain": [
       "array([1, 0])"
      ]
     },
     "execution_count": 8,
     "metadata": {},
     "output_type": "execute_result"
    }
   ],
   "source": [
    "df['related'].unique()"
   ]
  },
  {
   "cell_type": "code",
   "execution_count": 9,
   "metadata": {},
   "outputs": [],
   "source": [
    "# load data from database\n",
    "X = df['message']\n",
    "Y = df.iloc[:,4:]"
   ]
  },
  {
   "cell_type": "markdown",
   "metadata": {},
   "source": [
    "### 2. Write a tokenization function to process your text data"
   ]
  },
  {
   "cell_type": "code",
   "execution_count": 10,
   "metadata": {},
   "outputs": [],
   "source": [
    "def tokenize(text):\n",
    "    # Replace all urls with a urlplaceholder string\n",
    "    url_regex = 'http[s]?://(?:[a-zA-Z]|[0-9]|[$-_@.&+]|[!*\\(\\),]|(?:%[0-9a-fA-F][0-9a-fA-F]))+'\n",
    "    \n",
    "    # Extract all the urls from the provided text \n",
    "    detected_urls = re.findall(url_regex, text)\n",
    "    \n",
    "    # Replace url with a url placeholder string\n",
    "    for detected_url in detected_urls:\n",
    "        text = text.replace(detected_url, \"urlplaceholder\")\n",
    "\n",
    "    # Extract the word tokens from the provided text\n",
    "    tokens = nltk.word_tokenize(text)\n",
    "    \n",
    "    #Lemmanitizer to remove inflectional and derivationally related forms of a word\n",
    "    lemmatizer = nltk.WordNetLemmatizer()\n",
    "\n",
    "    # List of clean tokens\n",
    "    clean_tokens = [lemmatizer.lemmatize(w).lower().strip() for w in tokens]\n",
    "    return clean_tokens"
   ]
  },
  {
   "cell_type": "code",
   "execution_count": 11,
   "metadata": {},
   "outputs": [],
   "source": [
    "class StartingVerbExtractor(BaseEstimator, TransformerMixin):\n",
    "    \"\"\"\n",
    "    Starting Verb Extractor class\n",
    "    \n",
    "    This class extract the starting verb of a sentence,\n",
    "    creating a new feature for the ML classifier\n",
    "    \"\"\"\n",
    "\n",
    "    def starting_verb(self, text):\n",
    "        sentence_list = nltk.sent_tokenize(text)\n",
    "        for sentence in sentence_list:\n",
    "            pos_tags = nltk.pos_tag(tokenize(sentence))\n",
    "            first_word, first_tag = pos_tags[0]\n",
    "            if first_tag in ['VB', 'VBP'] or first_word == 'RT':\n",
    "                return True\n",
    "        return False\n",
    "\n",
    "    # Given it is a tranformer we can return the self \n",
    "    def fit(self, X, y=None):\n",
    "        return self\n",
    "\n",
    "    def transform(self, X):\n",
    "        X_tagged = pd.Series(X).apply(self.starting_verb)\n",
    "        return pd.DataFrame(X_tagged)"
   ]
  },
  {
   "cell_type": "markdown",
   "metadata": {},
   "source": [
    "### 3. Build a machine learning pipeline\n",
    "This machine pipeline should take in the `message` column as input and output classification results on the other 36 categories in the dataset. You may find the [MultiOutputClassifier](http://scikit-learn.org/stable/modules/generated/sklearn.multioutput.MultiOutputClassifier.html) helpful for predicting multiple target variables."
   ]
  },
  {
   "cell_type": "code",
   "execution_count": 18,
   "metadata": {},
   "outputs": [],
   "source": [
    "pipeline0 = Pipeline([\n",
    "        ('features', FeatureUnion([\n",
    "\n",
    "            ('text_pipeline', Pipeline([\n",
    "                ('vect', CountVectorizer(tokenizer=tokenize)),\n",
    "                ('tfidf', TfidfTransformer())\n",
    "            ])),\n",
    "\n",
    "            ('starting_verb', StartingVerbExtractor())\n",
    "        ])),\n",
    "\n",
    "        ('classifier', MultiOutputClassifier(AdaBoostClassifier()))\n",
    "    ])\n",
    "\n",
    "\n",
    "pipeline1 = Pipeline([\n",
    "                ('count_vectorizer', CountVectorizer(tokenizer=tokenize)),\n",
    "                ('tfidf_transformer', TfidfTransformer()),\n",
    "                ('classifier', MultiOutputClassifier(AdaBoostClassifier()))\n",
    "    ])"
   ]
  },
  {
   "cell_type": "markdown",
   "metadata": {},
   "source": [
    "### 4. Train pipeline\n",
    "- Split data into train and test sets\n",
    "- Train pipeline"
   ]
  },
  {
   "cell_type": "code",
   "execution_count": 19,
   "metadata": {},
   "outputs": [],
   "source": [
    "X_train, X_test, y_train, y_test = train_test_split(X, Y)\n",
    "pipeline_fit = pipeline0.fit(X_train, y_train)"
   ]
  },
  {
   "cell_type": "markdown",
   "metadata": {},
   "source": [
    "### 5. Test your model\n",
    "Report the f1 score, precision and recall for each output category of the dataset. You can do this by iterating through the columns and calling sklearn's `classification_report` on each."
   ]
  },
  {
   "cell_type": "code",
   "execution_count": 20,
   "metadata": {},
   "outputs": [],
   "source": [
    "y_prediction_train = pipeline_fit.predict(X_train)\n",
    "y_prediction_test = pipeline_fit.predict(X_test)\n",
    "#print(classification_report(y_test.values, y_prediction_test, target_names=Y.columns.values))"
   ]
  },
  {
   "cell_type": "code",
   "execution_count": 21,
   "metadata": {},
   "outputs": [
    {
     "name": "stdout",
     "output_type": "stream",
     "text": [
      "                        precision    recall  f1-score   support\n",
      "\n",
      "               related       0.83      0.93      0.88      5005\n",
      "               request       0.75      0.53      0.62      1129\n",
      "                 offer       0.00      0.00      0.00        24\n",
      "           aid_related       0.75      0.59      0.66      2687\n",
      "          medical_help       0.56      0.26      0.35       526\n",
      "      medical_products       0.64      0.32      0.43       338\n",
      "     search_and_rescue       0.57      0.18      0.28       187\n",
      "              security       0.19      0.03      0.05       135\n",
      "              military       0.53      0.27      0.36       200\n",
      "                 water       0.72      0.66      0.69       424\n",
      "                  food       0.80      0.69      0.74       723\n",
      "               shelter       0.75      0.55      0.63       565\n",
      "              clothing       0.70      0.43      0.53       100\n",
      "                 money       0.49      0.24      0.32       147\n",
      "        missing_people       0.59      0.12      0.20        82\n",
      "              refugees       0.58      0.25      0.35       227\n",
      "                 death       0.71      0.50      0.59       303\n",
      "             other_aid       0.49      0.14      0.22       840\n",
      "infrastructure_related       0.53      0.12      0.19       467\n",
      "             transport       0.67      0.19      0.30       338\n",
      "             buildings       0.65      0.38      0.48       325\n",
      "           electricity       0.57      0.28      0.38       135\n",
      "                 tools       0.00      0.00      0.00        49\n",
      "             hospitals       0.25      0.08      0.12        73\n",
      "                 shops       0.00      0.00      0.00        37\n",
      "           aid_centers       0.50      0.17      0.25        88\n",
      "  other_infrastructure       0.47      0.10      0.17       316\n",
      "       weather_related       0.86      0.65      0.74      1875\n",
      "                floods       0.88      0.50      0.64       579\n",
      "                 storm       0.71      0.51      0.59       604\n",
      "                  fire       0.41      0.22      0.29        59\n",
      "            earthquake       0.87      0.77      0.82       647\n",
      "                  cold       0.75      0.29      0.42       138\n",
      "         other_weather       0.40      0.15      0.22       342\n",
      "         direct_report       0.74      0.47      0.58      1268\n",
      "\n",
      "             micro avg       0.77      0.57      0.66     20982\n",
      "             macro avg       0.57      0.33      0.40     20982\n",
      "          weighted avg       0.73      0.57      0.62     20982\n",
      "           samples avg       0.63      0.50      0.51     20982\n",
      "\n"
     ]
    },
    {
     "name": "stderr",
     "output_type": "stream",
     "text": [
      "/home/mostafahaggag/Data_science_enviroment/data_science_enviroment/lib/python3.8/site-packages/sklearn/metrics/_classification.py:1221: UndefinedMetricWarning: Precision and F-score are ill-defined and being set to 0.0 in samples with no predicted labels. Use `zero_division` parameter to control this behavior.\n",
      "  _warn_prf(average, modifier, msg_start, len(result))\n",
      "/home/mostafahaggag/Data_science_enviroment/data_science_enviroment/lib/python3.8/site-packages/sklearn/metrics/_classification.py:1221: UndefinedMetricWarning: Recall and F-score are ill-defined and being set to 0.0 in samples with no true labels. Use `zero_division` parameter to control this behavior.\n",
      "  _warn_prf(average, modifier, msg_start, len(result))\n"
     ]
    }
   ],
   "source": [
    "print(classification_report((y_test.values), (y_prediction_test), target_names=Y.columns.values))"
   ]
  },
  {
   "cell_type": "markdown",
   "metadata": {},
   "source": [
    "### 6. Improve your model\n",
    "Use grid search to find better parameters. "
   ]
  },
  {
   "cell_type": "code",
   "execution_count": 22,
   "metadata": {},
   "outputs": [
    {
     "data": {
      "text/plain": [
       "dict_keys(['memory', 'steps', 'verbose', 'count_vectorizer', 'tfidf_transformer', 'classifier', 'count_vectorizer__analyzer', 'count_vectorizer__binary', 'count_vectorizer__decode_error', 'count_vectorizer__dtype', 'count_vectorizer__encoding', 'count_vectorizer__input', 'count_vectorizer__lowercase', 'count_vectorizer__max_df', 'count_vectorizer__max_features', 'count_vectorizer__min_df', 'count_vectorizer__ngram_range', 'count_vectorizer__preprocessor', 'count_vectorizer__stop_words', 'count_vectorizer__strip_accents', 'count_vectorizer__token_pattern', 'count_vectorizer__tokenizer', 'count_vectorizer__vocabulary', 'tfidf_transformer__norm', 'tfidf_transformer__smooth_idf', 'tfidf_transformer__sublinear_tf', 'tfidf_transformer__use_idf', 'classifier__estimator__algorithm', 'classifier__estimator__base_estimator', 'classifier__estimator__learning_rate', 'classifier__estimator__n_estimators', 'classifier__estimator__random_state', 'classifier__estimator', 'classifier__n_jobs'])"
      ]
     },
     "execution_count": 22,
     "metadata": {},
     "output_type": "execute_result"
    }
   ],
   "source": [
    "pipeline1.get_params().keys()"
   ]
  },
  {
   "cell_type": "code",
   "execution_count": 23,
   "metadata": {},
   "outputs": [
    {
     "data": {
      "text/plain": [
       "GridSearchCV(estimator=Pipeline(steps=[('count_vectorizer',\n",
       "                                        CountVectorizer(tokenizer=<function tokenize at 0x7f3b16e17f70>)),\n",
       "                                       ('tfidf_transformer',\n",
       "                                        TfidfTransformer()),\n",
       "                                       ('classifier',\n",
       "                                        MultiOutputClassifier(estimator=AdaBoostClassifier()))]),\n",
       "             n_jobs=-1,\n",
       "             param_grid={'classifier__estimator__learning_rate': [0.01, 0.02,\n",
       "                                                                  0.05],\n",
       "                         'classifier__estimator__n_estimators': [10, 20, 40]},\n",
       "             scoring='f1_micro')"
      ]
     },
     "execution_count": 23,
     "metadata": {},
     "output_type": "execute_result"
    }
   ],
   "source": [
    "parameters_grid = {'classifier__estimator__learning_rate': [0.01, 0.02, 0.05],\n",
    "              'classifier__estimator__n_estimators': [10, 20, 40]}\n",
    "\n",
    "\n",
    "cv = GridSearchCV(pipeline1, param_grid=parameters_grid, scoring='f1_micro', n_jobs=-1)\n",
    "cv.fit(X_train, y_train)"
   ]
  },
  {
   "cell_type": "code",
   "execution_count": 25,
   "metadata": {},
   "outputs": [],
   "source": [
    "# Get the prediction values from the grid search cross validator\n",
    "y_prediction_test = cv.predict(X_test)\n",
    "y_prediction_train = cv.predict(X_train)"
   ]
  },
  {
   "cell_type": "markdown",
   "metadata": {},
   "source": [
    "### 7. Test your model\n",
    "Show the accuracy, precision, and recall of the tuned model.  \n",
    "\n",
    "Since this project focuses on code quality, process, and  pipelines, there is no minimum performance metric needed to pass. However, make sure to fine tune your models for accuracy, precision and recall to make your project stand out - especially for your portfolio!"
   ]
  },
  {
   "cell_type": "code",
   "execution_count": 27,
   "metadata": {},
   "outputs": [
    {
     "name": "stdout",
     "output_type": "stream",
     "text": [
      "                        precision    recall  f1-score   support\n",
      "\n",
      "               related       0.76      1.00      0.87      5005\n",
      "               request       0.58      0.37      0.45      1129\n",
      "                 offer       0.00      0.00      0.00        24\n",
      "           aid_related       0.79      0.19      0.31      2687\n",
      "          medical_help       0.59      0.11      0.19       526\n",
      "      medical_products       0.68      0.12      0.20       338\n",
      "     search_and_rescue       0.60      0.17      0.26       187\n",
      "              security       0.00      0.00      0.00       135\n",
      "              military       0.33      0.01      0.01       200\n",
      "                 water       0.58      0.84      0.69       424\n",
      "                  food       0.77      0.68      0.72       723\n",
      "               shelter       0.80      0.30      0.44       565\n",
      "              clothing       1.00      0.01      0.02       100\n",
      "                 money       0.43      0.14      0.21       147\n",
      "        missing_people       0.69      0.22      0.33        82\n",
      "              refugees       0.58      0.14      0.23       227\n",
      "                 death       0.74      0.17      0.27       303\n",
      "             other_aid       0.00      0.00      0.00       840\n",
      "infrastructure_related       0.00      0.00      0.00       467\n",
      "             transport       0.60      0.22      0.32       338\n",
      "             buildings       0.88      0.09      0.16       325\n",
      "           electricity       0.00      0.00      0.00       135\n",
      "                 tools       0.00      0.00      0.00        49\n",
      "             hospitals       0.00      0.00      0.00        73\n",
      "                 shops       0.00      0.00      0.00        37\n",
      "           aid_centers       0.00      0.00      0.00        88\n",
      "  other_infrastructure       0.00      0.00      0.00       316\n",
      "       weather_related       0.90      0.24      0.38      1875\n",
      "                floods       0.92      0.31      0.46       579\n",
      "                 storm       0.69      0.28      0.39       604\n",
      "                  fire       0.52      0.47      0.50        59\n",
      "            earthquake       0.88      0.67      0.76       647\n",
      "                  cold       1.00      0.02      0.04       138\n",
      "         other_weather       0.54      0.12      0.20       342\n",
      "         direct_report       0.64      0.39      0.48      1268\n",
      "\n",
      "             micro avg       0.74      0.43      0.55     20982\n",
      "             macro avg       0.50      0.21      0.25     20982\n",
      "          weighted avg       0.67      0.43      0.46     20982\n",
      "           samples avg       0.70      0.44      0.48     20982\n",
      "\n"
     ]
    },
    {
     "name": "stderr",
     "output_type": "stream",
     "text": [
      "/home/mostafahaggag/Data_science_enviroment/data_science_enviroment/lib/python3.8/site-packages/sklearn/metrics/_classification.py:1221: UndefinedMetricWarning: Precision and F-score are ill-defined and being set to 0.0 in labels with no predicted samples. Use `zero_division` parameter to control this behavior.\n",
      "  _warn_prf(average, modifier, msg_start, len(result))\n",
      "/home/mostafahaggag/Data_science_enviroment/data_science_enviroment/lib/python3.8/site-packages/sklearn/metrics/_classification.py:1221: UndefinedMetricWarning: Recall and F-score are ill-defined and being set to 0.0 in samples with no true labels. Use `zero_division` parameter to control this behavior.\n",
      "  _warn_prf(average, modifier, msg_start, len(result))\n"
     ]
    }
   ],
   "source": [
    "print(classification_report(y_test.values, y_prediction_test, target_names=Y.columns.values))"
   ]
  },
  {
   "cell_type": "code",
   "execution_count": 28,
   "metadata": {},
   "outputs": [
    {
     "name": "stdout",
     "output_type": "stream",
     "text": [
      "\n",
      "                         precision    recall  f1-score   support\n",
      "\n",
      "               related       0.76      1.00      0.86     14901\n",
      "               request       0.62      0.39      0.48      3345\n",
      "                 offer       1.00      0.04      0.08        94\n",
      "           aid_related       0.81      0.19      0.31      8173\n",
      "          medical_help       0.65      0.12      0.20      1558\n",
      "      medical_products       0.74      0.13      0.22       975\n",
      "     search_and_rescue       0.64      0.20      0.30       537\n",
      "              security       0.00      0.00      0.00       336\n",
      "              military       0.25      0.00      0.00       660\n",
      "                 water       0.58      0.85      0.69      1248\n",
      "                  food       0.77      0.68      0.72      2200\n",
      "               shelter       0.86      0.29      0.44      1749\n",
      "              clothing       0.50      0.00      0.01       305\n",
      "                 money       0.60      0.17      0.26       457\n",
      "        missing_people       0.66      0.27      0.39       216\n",
      "              refugees       0.62      0.18      0.28       648\n",
      "                 death       0.76      0.16      0.27       891\n",
      "             other_aid       0.00      0.00      0.00      2606\n",
      "infrastructure_related       0.00      0.00      0.00      1238\n",
      "             transport       0.57      0.25      0.35       863\n",
      "             buildings       0.76      0.09      0.16      1008\n",
      "           electricity       0.00      0.00      0.00       397\n",
      "                 tools       0.83      0.05      0.09       110\n",
      "             hospitals       0.00      0.00      0.00       210\n",
      "                 shops       0.00      0.00      0.00        83\n",
      "           aid_centers       0.00      0.00      0.00       221\n",
      "  other_infrastructure       0.00      0.00      0.00       835\n",
      "       weather_related       0.92      0.22      0.35      5422\n",
      "                floods       0.91      0.35      0.50      1576\n",
      "                 storm       0.75      0.25      0.38      1839\n",
      "                  fire       0.51      0.38      0.44       223\n",
      "            earthquake       0.90      0.64      0.75      1808\n",
      "                  cold       0.55      0.04      0.08       392\n",
      "         other_weather       0.59      0.12      0.20      1034\n",
      "         direct_report       0.63      0.39      0.48      3807\n",
      "\n",
      "             micro avg       0.74      0.44      0.55     61965\n",
      "             macro avg       0.54      0.21      0.27     61965\n",
      "          weighted avg       0.68      0.44      0.47     61965\n",
      "           samples avg       0.70      0.44      0.48     61965\n",
      "\n"
     ]
    }
   ],
   "source": [
    "print('\\n',classification_report(y_train.values, y_prediction_train, target_names=Y.columns.values))"
   ]
  },
  {
   "cell_type": "markdown",
   "metadata": {},
   "source": [
    "### 8. Try improving your model further. Here are a few ideas:\n",
    "* try other machine learning algorithms\n",
    "* add other features besides the TF-IDF"
   ]
  },
  {
   "cell_type": "code",
   "execution_count": 29,
   "metadata": {},
   "outputs": [
    {
     "name": "stdout",
     "output_type": "stream",
     "text": [
      "                        precision    recall  f1-score   support\n",
      "\n",
      "               related       0.83      0.93      0.88      4965\n",
      "               request       0.77      0.56      0.64      1082\n",
      "                 offer       0.00      0.00      0.00        26\n",
      "           aid_related       0.75      0.60      0.67      2631\n",
      "          medical_help       0.63      0.31      0.41       524\n",
      "      medical_products       0.65      0.32      0.43       321\n",
      "     search_and_rescue       0.56      0.19      0.28       185\n",
      "              security       0.31      0.03      0.06       126\n",
      "              military       0.57      0.27      0.37       219\n",
      "                 water       0.74      0.65      0.69       386\n",
      "                  food       0.82      0.69      0.75       709\n",
      "               shelter       0.79      0.58      0.67       548\n",
      "              clothing       0.55      0.37      0.44        86\n",
      "                 money       0.59      0.30      0.40       158\n",
      "        missing_people       0.69      0.15      0.24        75\n",
      "              refugees       0.51      0.24      0.33       184\n",
      "                 death       0.78      0.47      0.59       310\n",
      "             other_aid       0.55      0.19      0.28       839\n",
      "infrastructure_related       0.42      0.12      0.18       407\n",
      "             transport       0.67      0.22      0.33       285\n",
      "             buildings       0.71      0.40      0.51       333\n",
      "           electricity       0.44      0.32      0.37       117\n",
      "                 tools       0.14      0.02      0.04        41\n",
      "             hospitals       0.21      0.06      0.10        63\n",
      "                 shops       0.33      0.09      0.14        23\n",
      "           aid_centers       0.32      0.12      0.17        77\n",
      "  other_infrastructure       0.32      0.08      0.13       280\n",
      "       weather_related       0.86      0.67      0.75      1821\n",
      "                floods       0.84      0.60      0.70       524\n",
      "                 storm       0.78      0.52      0.63       634\n",
      "                  fire       0.54      0.17      0.26        77\n",
      "            earthquake       0.90      0.78      0.84       595\n",
      "                  cold       0.73      0.38      0.50       125\n",
      "         other_weather       0.47      0.15      0.23       332\n",
      "         direct_report       0.72      0.49      0.59      1261\n",
      "\n",
      "             micro avg       0.78      0.59      0.67     20369\n",
      "             macro avg       0.59      0.34      0.42     20369\n",
      "          weighted avg       0.74      0.59      0.64     20369\n",
      "           samples avg       0.63      0.50      0.51     20369\n",
      "\n"
     ]
    },
    {
     "name": "stderr",
     "output_type": "stream",
     "text": [
      "/home/mostafahaggag/Data_science_enviroment/data_science_enviroment/lib/python3.8/site-packages/sklearn/metrics/_classification.py:1221: UndefinedMetricWarning: Precision and F-score are ill-defined and being set to 0.0 in samples with no predicted labels. Use `zero_division` parameter to control this behavior.\n",
      "  _warn_prf(average, modifier, msg_start, len(result))\n",
      "/home/mostafahaggag/Data_science_enviroment/data_science_enviroment/lib/python3.8/site-packages/sklearn/metrics/_classification.py:1221: UndefinedMetricWarning: Recall and F-score are ill-defined and being set to 0.0 in samples with no true labels. Use `zero_division` parameter to control this behavior.\n",
      "  _warn_prf(average, modifier, msg_start, len(result))\n"
     ]
    }
   ],
   "source": [
    "#cv.best_params_\n",
    "\n",
    "#Use pipeline2 which includes StartingVerbEstimator\n",
    "X_train, X_test, y_train, y_test = train_test_split(X, Y)\n",
    "pipeline_fitted = pipeline1.fit(X_train, y_train)\n",
    "\n",
    "y_prediction_train = pipeline_fitted.predict(X_train)\n",
    "y_prediction_test = pipeline_fitted.predict(X_test)\n",
    "\n",
    "# Print classification report on test data\n",
    "print(classification_report(y_test.values, y_prediction_test, target_names=Y.columns.values))"
   ]
  },
  {
   "cell_type": "markdown",
   "metadata": {},
   "source": [
    "### 9. Export your model as a pickle file"
   ]
  },
  {
   "cell_type": "code",
   "execution_count": 32,
   "metadata": {},
   "outputs": [],
   "source": [
    "m = pickle.dumps('classifier.pkl')"
   ]
  },
  {
   "cell_type": "markdown",
   "metadata": {},
   "source": [
    "### 10. Use this notebook to complete `train.py`\n",
    "Use the template file attached in the Resources folder to write a script that runs the steps above to create a database and export a model based on a new dataset specified by the user."
   ]
  },
  {
   "cell_type": "code",
   "execution_count": null,
   "metadata": {},
   "outputs": [],
   "source": []
  }
 ],
 "metadata": {
  "kernelspec": {
   "display_name": "Python 3",
   "language": "python",
   "name": "python3"
  },
  "language_info": {
   "codemirror_mode": {
    "name": "ipython",
    "version": 3
   },
   "file_extension": ".py",
   "mimetype": "text/x-python",
   "name": "python",
   "nbconvert_exporter": "python",
   "pygments_lexer": "ipython3",
   "version": "3.8.5"
  }
 },
 "nbformat": 4,
 "nbformat_minor": 2
}
