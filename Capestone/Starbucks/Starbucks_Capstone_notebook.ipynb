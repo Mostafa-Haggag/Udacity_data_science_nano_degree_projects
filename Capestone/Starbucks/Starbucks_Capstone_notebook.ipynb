{
 "cells": [
  {
   "cell_type": "markdown",
   "metadata": {},
   "source": [
    "# Starbucks Capstone Challenge\n",
    "\n",
    "### Introduction\n",
    "\n",
    "This data set contains simulated data that mimics customer behavior on the Starbucks rewards mobile app. Once every few days, Starbucks sends out an offer to users of the mobile app. An offer can be merely an advertisement for a drink or an actual offer such as a discount or BOGO (buy one get one free). Some users might not receive any offer during certain weeks. \n",
    "\n",
    "Not all users receive the same offer, and that is the challenge to solve with this data set.\n",
    "\n",
    "Your task is to combine transaction, demographic and offer data to determine which demographic groups respond best to which offer type. This data set is a simplified version of the real Starbucks app because the underlying simulator only has one product whereas Starbucks actually sells dozens of products.\n",
    "\n",
    "Every offer has a validity period before the offer expires. As an example, a BOGO offer might be valid for only 5 days. You'll see in the data set that informational offers have a validity period even though these ads are merely providing information about a product; for example, if an informational offer has 7 days of validity, you can assume the customer is feeling the influence of the offer for 7 days after receiving the advertisement.\n",
    "\n",
    "You'll be given transactional data showing user purchases made on the app including the timestamp of purchase and the amount of money spent on a purchase. This transactional data also has a record for each offer that a user receives as well as a record for when a user actually views the offer. There are also records for when a user completes an offer. \n",
    "\n",
    "Keep in mind as well that someone using the app might make a purchase through the app without having received an offer or seen an offer.\n",
    "\n",
    "### Example\n",
    "\n",
    "To give an example, a user could receive a discount offer buy 10 dollars get 2 off on Monday. The offer is valid for 10 days from receipt. If the customer accumulates at least 10 dollars in purchases during the validity period, the customer completes the offer.\n",
    "\n",
    "However, there are a few things to watch out for in this data set. Customers do not opt into the offers that they receive; in other words, a user can receive an offer, never actually view the offer, and still complete the offer. For example, a user might receive the \"buy 10 dollars get 2 dollars off offer\", but the user never opens the offer during the 10 day validity period. The customer spends 15 dollars during those ten days. There will be an offer completion record in the data set; however, the customer was not influenced by the offer because the customer never viewed the offer.\n",
    "\n",
    "### Cleaning\n",
    "\n",
    "This makes data cleaning especially important and tricky.\n",
    "\n",
    "You'll also want to take into account that some demographic groups will make purchases even if they don't receive an offer. From a business perspective, if a customer is going to make a 10 dollar purchase without an offer anyway, you wouldn't want to send a buy 10 dollars get 2 dollars off offer. You'll want to try to assess what a certain demographic group will buy when not receiving any offers.\n",
    "\n",
    "### Final Advice\n",
    "\n",
    "Because this is a capstone project, you are free to analyze the data any way you see fit. For example, you could build a machine learning model that predicts how much someone will spend based on demographics and offer type. Or you could build a model that predicts whether or not someone will respond to an offer. Or, you don't need to build a machine learning model at all. You could develop a set of heuristics that determine what offer you should send to each customer (i.e., 75 percent of women customers who were 35 years old responded to offer A vs 40 percent from the same demographic to offer B, so send offer A)."
   ]
  },
  {
   "cell_type": "markdown",
   "metadata": {},
   "source": [
    "# Data Sets\n",
    "\n",
    "The data is contained in three files:\n",
    "\n",
    "* portfolio.json - containing offer ids and meta data about each offer (duration, type, etc.)\n",
    "* profile.json - demographic data for each customer\n",
    "* transcript.json - records for transactions, offers received, offers viewed, and offers completed\n",
    "\n",
    "Here is the schema and explanation of each variable in the files:\n",
    "\n",
    "**portfolio.json**\n",
    "* id (string) - offer id\n",
    "* offer_type (string) - type of offer ie BOGO, discount, informational\n",
    "* difficulty (int) - minimum required spend to complete an offer\n",
    "* reward (int) - reward given for completing an offer\n",
    "* duration (int) - time for offer to be open, in days\n",
    "* channels (list of strings)\n",
    "\n",
    "**profile.json**\n",
    "* age (int) - age of the customer \n",
    "* became_member_on (int) - date when customer created an app account\n",
    "* gender (str) - gender of the customer (note some entries contain 'O' for other rather than M or F)\n",
    "* id (str) - customer id\n",
    "* income (float) - customer's income\n",
    "\n",
    "**transcript.json**\n",
    "* event (str) - record description (ie transaction, offer received, offer viewed, etc.)\n",
    "* person (str) - customer id\n",
    "* time (int) - time in hours since start of test. The data begins at time t=0\n",
    "* value - (dict of strings) - either an offer id or transaction amount depending on the record\n",
    "\n",
    "**Note:** If you are using the workspace, you will need to go to the terminal and run the command `conda update pandas` before reading in the files. This is because the version of pandas in the workspace cannot read in the transcript.json file correctly, but the newest version of pandas can. You can access the termnal from the orange icon in the top left of this notebook.  \n",
    "\n",
    "You can see how to access the terminal and how the install works using the two images below.  First you need to access the terminal:\n",
    "\n",
    "<img src=\"pic1.png\"/>\n",
    "\n",
    "Then you will want to run the above command:\n",
    "\n",
    "<img src=\"pic2.png\"/>\n",
    "\n",
    "Finally, when you enter back into the notebook (use the jupyter icon again), you should be able to run the below cell without any errors."
   ]
  },
  {
   "cell_type": "code",
   "execution_count": 1,
   "metadata": {},
   "outputs": [],
   "source": [
    "import pandas as pd\n",
    "import numpy as np\n",
    "import math\n",
    "import json\n",
    "import datetime\n",
    "import matplotlib.pyplot as plt\n",
    "import seaborn as sns\n",
    "import pickle\n",
    "%matplotlib inline\n"
   ]
  },
  {
   "cell_type": "code",
   "execution_count": 2,
   "metadata": {},
   "outputs": [],
   "source": [
    "\n",
    "# read in the json files\n",
    "portfolio = pd.read_json('data/portfolio.json', orient='records', lines=True)\n",
    "profile = pd.read_json('data/profile.json', orient='records', lines=True)\n",
    "transcript = pd.read_json('data/transcript.json', orient='records', lines=True)"
   ]
  },
  {
   "cell_type": "markdown",
   "metadata": {},
   "source": [
    "# Begining of cleaning  in the display data set"
   ]
  },
  {
   "cell_type": "code",
   "execution_count": 3,
   "metadata": {},
   "outputs": [
    {
     "data": {
      "text/html": [
       "<div>\n",
       "<style scoped>\n",
       "    .dataframe tbody tr th:only-of-type {\n",
       "        vertical-align: middle;\n",
       "    }\n",
       "\n",
       "    .dataframe tbody tr th {\n",
       "        vertical-align: top;\n",
       "    }\n",
       "\n",
       "    .dataframe thead th {\n",
       "        text-align: right;\n",
       "    }\n",
       "</style>\n",
       "<table border=\"1\" class=\"dataframe\">\n",
       "  <thead>\n",
       "    <tr style=\"text-align: right;\">\n",
       "      <th></th>\n",
       "      <th>gender</th>\n",
       "      <th>age</th>\n",
       "      <th>id</th>\n",
       "      <th>became_member_on</th>\n",
       "      <th>income</th>\n",
       "    </tr>\n",
       "  </thead>\n",
       "  <tbody>\n",
       "    <tr>\n",
       "      <th>0</th>\n",
       "      <td>None</td>\n",
       "      <td>118</td>\n",
       "      <td>68be06ca386d4c31939f3a4f0e3dd783</td>\n",
       "      <td>20170212</td>\n",
       "      <td>NaN</td>\n",
       "    </tr>\n",
       "    <tr>\n",
       "      <th>1</th>\n",
       "      <td>F</td>\n",
       "      <td>55</td>\n",
       "      <td>0610b486422d4921ae7d2bf64640c50b</td>\n",
       "      <td>20170715</td>\n",
       "      <td>112000.0</td>\n",
       "    </tr>\n",
       "    <tr>\n",
       "      <th>2</th>\n",
       "      <td>None</td>\n",
       "      <td>118</td>\n",
       "      <td>38fe809add3b4fcf9315a9694bb96ff5</td>\n",
       "      <td>20180712</td>\n",
       "      <td>NaN</td>\n",
       "    </tr>\n",
       "    <tr>\n",
       "      <th>3</th>\n",
       "      <td>F</td>\n",
       "      <td>75</td>\n",
       "      <td>78afa995795e4d85b5d9ceeca43f5fef</td>\n",
       "      <td>20170509</td>\n",
       "      <td>100000.0</td>\n",
       "    </tr>\n",
       "    <tr>\n",
       "      <th>4</th>\n",
       "      <td>None</td>\n",
       "      <td>118</td>\n",
       "      <td>a03223e636434f42ac4c3df47e8bac43</td>\n",
       "      <td>20170804</td>\n",
       "      <td>NaN</td>\n",
       "    </tr>\n",
       "  </tbody>\n",
       "</table>\n",
       "</div>"
      ],
      "text/plain": [
       "  gender  age                                id  became_member_on    income\n",
       "0   None  118  68be06ca386d4c31939f3a4f0e3dd783          20170212       NaN\n",
       "1      F   55  0610b486422d4921ae7d2bf64640c50b          20170715  112000.0\n",
       "2   None  118  38fe809add3b4fcf9315a9694bb96ff5          20180712       NaN\n",
       "3      F   75  78afa995795e4d85b5d9ceeca43f5fef          20170509  100000.0\n",
       "4   None  118  a03223e636434f42ac4c3df47e8bac43          20170804       NaN"
      ]
     },
     "execution_count": 3,
     "metadata": {},
     "output_type": "execute_result"
    }
   ],
   "source": [
    "profile.head()"
   ]
  },
  {
   "cell_type": "code",
   "execution_count": 4,
   "metadata": {},
   "outputs": [
    {
     "data": {
      "text/plain": [
       "(17000, 5)"
      ]
     },
     "execution_count": 4,
     "metadata": {},
     "output_type": "execute_result"
    }
   ],
   "source": [
    "profile.shape"
   ]
  },
  {
   "cell_type": "code",
   "execution_count": 5,
   "metadata": {},
   "outputs": [
    {
     "data": {
      "text/plain": [
       "gender              2175\n",
       "age                    0\n",
       "id                     0\n",
       "became_member_on       0\n",
       "income              2175\n",
       "dtype: int64"
      ]
     },
     "execution_count": 5,
     "metadata": {},
     "output_type": "execute_result"
    }
   ],
   "source": [
    "profile.isnull().sum()"
   ]
  },
  {
   "cell_type": "code",
   "execution_count": 6,
   "metadata": {},
   "outputs": [
    {
     "name": "stdout",
     "output_type": "stream",
     "text": [
      "gender                 0\n",
      "age                 2175\n",
      "id                  2175\n",
      "became_member_on    2175\n",
      "income                 0\n",
      "dtype: int64\n"
     ]
    }
   ],
   "source": [
    "print(profile[profile['age']==118].count())"
   ]
  },
  {
   "cell_type": "code",
   "execution_count": 7,
   "metadata": {},
   "outputs": [
    {
     "data": {
      "text/html": [
       "<div>\n",
       "<style scoped>\n",
       "    .dataframe tbody tr th:only-of-type {\n",
       "        vertical-align: middle;\n",
       "    }\n",
       "\n",
       "    .dataframe tbody tr th {\n",
       "        vertical-align: top;\n",
       "    }\n",
       "\n",
       "    .dataframe thead th {\n",
       "        text-align: right;\n",
       "    }\n",
       "</style>\n",
       "<table border=\"1\" class=\"dataframe\">\n",
       "  <thead>\n",
       "    <tr style=\"text-align: right;\">\n",
       "      <th></th>\n",
       "      <th>gender</th>\n",
       "      <th>income</th>\n",
       "      <th>age</th>\n",
       "    </tr>\n",
       "  </thead>\n",
       "  <tbody>\n",
       "    <tr>\n",
       "      <th>0</th>\n",
       "      <td>None</td>\n",
       "      <td>NaN</td>\n",
       "      <td>118</td>\n",
       "    </tr>\n",
       "    <tr>\n",
       "      <th>2</th>\n",
       "      <td>None</td>\n",
       "      <td>NaN</td>\n",
       "      <td>118</td>\n",
       "    </tr>\n",
       "    <tr>\n",
       "      <th>4</th>\n",
       "      <td>None</td>\n",
       "      <td>NaN</td>\n",
       "      <td>118</td>\n",
       "    </tr>\n",
       "    <tr>\n",
       "      <th>6</th>\n",
       "      <td>None</td>\n",
       "      <td>NaN</td>\n",
       "      <td>118</td>\n",
       "    </tr>\n",
       "    <tr>\n",
       "      <th>7</th>\n",
       "      <td>None</td>\n",
       "      <td>NaN</td>\n",
       "      <td>118</td>\n",
       "    </tr>\n",
       "  </tbody>\n",
       "</table>\n",
       "</div>"
      ],
      "text/plain": [
       "  gender  income  age\n",
       "0   None     NaN  118\n",
       "2   None     NaN  118\n",
       "4   None     NaN  118\n",
       "6   None     NaN  118\n",
       "7   None     NaN  118"
      ]
     },
     "execution_count": 7,
     "metadata": {},
     "output_type": "execute_result"
    }
   ],
   "source": [
    "profile[['gender','income','age']][profile['age']==118].head()"
   ]
  },
  {
   "cell_type": "markdown",
   "metadata": {},
   "source": [
    "We can deduce that he is using 118 nulls"
   ]
  },
  {
   "cell_type": "code",
   "execution_count": 8,
   "metadata": {},
   "outputs": [],
   "source": [
    "new_clean_profile =profile.copy()"
   ]
  },
  {
   "cell_type": "code",
   "execution_count": 9,
   "metadata": {},
   "outputs": [],
   "source": [
    "new_clean_profile['age']=new_clean_profile['age'].apply(lambda x: np.nan if x==118 else x)"
   ]
  },
  {
   "cell_type": "code",
   "execution_count": 10,
   "metadata": {},
   "outputs": [
    {
     "data": {
      "text/html": [
       "<div>\n",
       "<style scoped>\n",
       "    .dataframe tbody tr th:only-of-type {\n",
       "        vertical-align: middle;\n",
       "    }\n",
       "\n",
       "    .dataframe tbody tr th {\n",
       "        vertical-align: top;\n",
       "    }\n",
       "\n",
       "    .dataframe thead th {\n",
       "        text-align: right;\n",
       "    }\n",
       "</style>\n",
       "<table border=\"1\" class=\"dataframe\">\n",
       "  <thead>\n",
       "    <tr style=\"text-align: right;\">\n",
       "      <th></th>\n",
       "      <th>gender</th>\n",
       "      <th>age</th>\n",
       "      <th>id</th>\n",
       "      <th>became_member_on</th>\n",
       "      <th>income</th>\n",
       "    </tr>\n",
       "  </thead>\n",
       "  <tbody>\n",
       "    <tr>\n",
       "      <th>0</th>\n",
       "      <td>None</td>\n",
       "      <td>NaN</td>\n",
       "      <td>68be06ca386d4c31939f3a4f0e3dd783</td>\n",
       "      <td>20170212</td>\n",
       "      <td>NaN</td>\n",
       "    </tr>\n",
       "    <tr>\n",
       "      <th>1</th>\n",
       "      <td>F</td>\n",
       "      <td>55.0</td>\n",
       "      <td>0610b486422d4921ae7d2bf64640c50b</td>\n",
       "      <td>20170715</td>\n",
       "      <td>112000.0</td>\n",
       "    </tr>\n",
       "    <tr>\n",
       "      <th>2</th>\n",
       "      <td>None</td>\n",
       "      <td>NaN</td>\n",
       "      <td>38fe809add3b4fcf9315a9694bb96ff5</td>\n",
       "      <td>20180712</td>\n",
       "      <td>NaN</td>\n",
       "    </tr>\n",
       "    <tr>\n",
       "      <th>3</th>\n",
       "      <td>F</td>\n",
       "      <td>75.0</td>\n",
       "      <td>78afa995795e4d85b5d9ceeca43f5fef</td>\n",
       "      <td>20170509</td>\n",
       "      <td>100000.0</td>\n",
       "    </tr>\n",
       "    <tr>\n",
       "      <th>4</th>\n",
       "      <td>None</td>\n",
       "      <td>NaN</td>\n",
       "      <td>a03223e636434f42ac4c3df47e8bac43</td>\n",
       "      <td>20170804</td>\n",
       "      <td>NaN</td>\n",
       "    </tr>\n",
       "  </tbody>\n",
       "</table>\n",
       "</div>"
      ],
      "text/plain": [
       "  gender   age                                id  became_member_on    income\n",
       "0   None   NaN  68be06ca386d4c31939f3a4f0e3dd783          20170212       NaN\n",
       "1      F  55.0  0610b486422d4921ae7d2bf64640c50b          20170715  112000.0\n",
       "2   None   NaN  38fe809add3b4fcf9315a9694bb96ff5          20180712       NaN\n",
       "3      F  75.0  78afa995795e4d85b5d9ceeca43f5fef          20170509  100000.0\n",
       "4   None   NaN  a03223e636434f42ac4c3df47e8bac43          20170804       NaN"
      ]
     },
     "execution_count": 10,
     "metadata": {},
     "output_type": "execute_result"
    }
   ],
   "source": [
    "new_clean_profile.head()"
   ]
  },
  {
   "cell_type": "code",
   "execution_count": 11,
   "metadata": {},
   "outputs": [],
   "source": [
    "profile.dropna(inplace=True)"
   ]
  },
  {
   "cell_type": "code",
   "execution_count": 12,
   "metadata": {},
   "outputs": [],
   "source": [
    "new_clean_profile['memberdays'] = datetime.datetime.today().date() - pd.to_datetime(new_clean_profile['became_member_on'], format='%Y%m%d').dt.date\n",
    "new_clean_profile['memberdays'] = new_clean_profile['memberdays'].dt.days"
   ]
  },
  {
   "cell_type": "code",
   "execution_count": 13,
   "metadata": {},
   "outputs": [
    {
     "data": {
      "text/html": [
       "<div>\n",
       "<style scoped>\n",
       "    .dataframe tbody tr th:only-of-type {\n",
       "        vertical-align: middle;\n",
       "    }\n",
       "\n",
       "    .dataframe tbody tr th {\n",
       "        vertical-align: top;\n",
       "    }\n",
       "\n",
       "    .dataframe thead th {\n",
       "        text-align: right;\n",
       "    }\n",
       "</style>\n",
       "<table border=\"1\" class=\"dataframe\">\n",
       "  <thead>\n",
       "    <tr style=\"text-align: right;\">\n",
       "      <th></th>\n",
       "      <th>gender</th>\n",
       "      <th>age</th>\n",
       "      <th>id</th>\n",
       "      <th>became_member_on</th>\n",
       "      <th>income</th>\n",
       "      <th>memberdays</th>\n",
       "    </tr>\n",
       "  </thead>\n",
       "  <tbody>\n",
       "    <tr>\n",
       "      <th>0</th>\n",
       "      <td>None</td>\n",
       "      <td>NaN</td>\n",
       "      <td>68be06ca386d4c31939f3a4f0e3dd783</td>\n",
       "      <td>20170212</td>\n",
       "      <td>NaN</td>\n",
       "      <td>1474</td>\n",
       "    </tr>\n",
       "    <tr>\n",
       "      <th>1</th>\n",
       "      <td>F</td>\n",
       "      <td>55.0</td>\n",
       "      <td>0610b486422d4921ae7d2bf64640c50b</td>\n",
       "      <td>20170715</td>\n",
       "      <td>112000.0</td>\n",
       "      <td>1321</td>\n",
       "    </tr>\n",
       "    <tr>\n",
       "      <th>2</th>\n",
       "      <td>None</td>\n",
       "      <td>NaN</td>\n",
       "      <td>38fe809add3b4fcf9315a9694bb96ff5</td>\n",
       "      <td>20180712</td>\n",
       "      <td>NaN</td>\n",
       "      <td>959</td>\n",
       "    </tr>\n",
       "    <tr>\n",
       "      <th>3</th>\n",
       "      <td>F</td>\n",
       "      <td>75.0</td>\n",
       "      <td>78afa995795e4d85b5d9ceeca43f5fef</td>\n",
       "      <td>20170509</td>\n",
       "      <td>100000.0</td>\n",
       "      <td>1388</td>\n",
       "    </tr>\n",
       "    <tr>\n",
       "      <th>4</th>\n",
       "      <td>None</td>\n",
       "      <td>NaN</td>\n",
       "      <td>a03223e636434f42ac4c3df47e8bac43</td>\n",
       "      <td>20170804</td>\n",
       "      <td>NaN</td>\n",
       "      <td>1301</td>\n",
       "    </tr>\n",
       "  </tbody>\n",
       "</table>\n",
       "</div>"
      ],
      "text/plain": [
       "  gender   age                                id  became_member_on    income  \\\n",
       "0   None   NaN  68be06ca386d4c31939f3a4f0e3dd783          20170212       NaN   \n",
       "1      F  55.0  0610b486422d4921ae7d2bf64640c50b          20170715  112000.0   \n",
       "2   None   NaN  38fe809add3b4fcf9315a9694bb96ff5          20180712       NaN   \n",
       "3      F  75.0  78afa995795e4d85b5d9ceeca43f5fef          20170509  100000.0   \n",
       "4   None   NaN  a03223e636434f42ac4c3df47e8bac43          20170804       NaN   \n",
       "\n",
       "   memberdays  \n",
       "0        1474  \n",
       "1        1321  \n",
       "2         959  \n",
       "3        1388  \n",
       "4        1301  "
      ]
     },
     "execution_count": 13,
     "metadata": {},
     "output_type": "execute_result"
    }
   ],
   "source": [
    "new_clean_profile.head()"
   ]
  },
  {
   "cell_type": "code",
   "execution_count": 14,
   "metadata": {},
   "outputs": [
    {
     "data": {
      "image/png": "[encoded data removed]",
      "text/plain": [
       "<Figure size 432x288 with 1 Axes>"
      ]
     },
     "metadata": {
      "needs_background": "light"
     },
     "output_type": "display_data"
    }
   ],
   "source": [
    "plt.figure()\n",
    "new_clean_profile['age'].plot(kind='hist', bins=20, title='Distribution of Age')\n",
    "plt.xlabel(\"Distribution of age\");"
   ]
  },
  {
   "cell_type": "code",
   "execution_count": 15,
   "metadata": {},
   "outputs": [
    {
     "data": {
      "image/png": "[encoded data removed]",
      "text/plain": [
       "<Figure size 432x288 with 1 Axes>"
      ]
     },
     "metadata": {
      "needs_background": "light"
     },
     "output_type": "display_data"
    }
   ],
   "source": [
    " plt.figure()\n",
    "new_clean_profile['memberdays'].plot(kind='hist', bins=50, title='How long did the users become starbucks members?')\n",
    "plt.xlabel(\"Days\");"
   ]
  },
  {
   "cell_type": "code",
   "execution_count": 16,
   "metadata": {
    "scrolled": true
   },
   "outputs": [
    {
     "data": {
      "text/plain": [
       "Text(0.5, 0, 'Income')"
      ]
     },
     "execution_count": 16,
     "metadata": {},
     "output_type": "execute_result"
    },
    {
     "data": {
      "image/png": "[encoded data removed]",
      "text/plain": [
       "<Figure size 432x288 with 1 Axes>"
      ]
     },
     "metadata": {
      "needs_background": "light"
     },
     "output_type": "display_data"
    }
   ],
   "source": [
    "plt.figure()\n",
    "new_clean_profile['income'].plot(kind='hist', bins=20, title='Distribution of  Income')\n",
    "plt.xlabel(\"Income\")"
   ]
  },
  {
   "cell_type": "code",
   "execution_count": 17,
   "metadata": {},
   "outputs": [],
   "source": [
    "new_clean_profile.rename(columns={'id':'the_id'}, inplace=True)"
   ]
  },
  {
   "cell_type": "markdown",
   "metadata": {},
   "source": [
    "# End of cleaning in the display data set"
   ]
  },
  {
   "cell_type": "markdown",
   "metadata": {},
   "source": [
    "# Begining of cleaning in the Portfolio data set"
   ]
  },
  {
   "cell_type": "markdown",
   "metadata": {},
   "source": [
    "# Portfolio.json\n",
    "\n",
    "* id (string) - offer id\n",
    "* offer_type (string) - type of offer ie BOGO, discount, informational\n",
    "* difficulty (int) - minimum required spend to complete an offer\n",
    "* reward (int) - reward given for completing an offer\n",
    "* duration (int) - time for offer to be open, in days\n",
    "* channels (list of strings)"
   ]
  },
  {
   "cell_type": "code",
   "execution_count": 18,
   "metadata": {},
   "outputs": [
    {
     "data": {
      "text/html": [
       "<div>\n",
       "<style scoped>\n",
       "    .dataframe tbody tr th:only-of-type {\n",
       "        vertical-align: middle;\n",
       "    }\n",
       "\n",
       "    .dataframe tbody tr th {\n",
       "        vertical-align: top;\n",
       "    }\n",
       "\n",
       "    .dataframe thead th {\n",
       "        text-align: right;\n",
       "    }\n",
       "</style>\n",
       "<table border=\"1\" class=\"dataframe\">\n",
       "  <thead>\n",
       "    <tr style=\"text-align: right;\">\n",
       "      <th></th>\n",
       "      <th>reward</th>\n",
       "      <th>channels</th>\n",
       "      <th>difficulty</th>\n",
       "      <th>duration</th>\n",
       "      <th>offer_type</th>\n",
       "      <th>id</th>\n",
       "    </tr>\n",
       "  </thead>\n",
       "  <tbody>\n",
       "    <tr>\n",
       "      <th>0</th>\n",
       "      <td>10</td>\n",
       "      <td>[email, mobile, social]</td>\n",
       "      <td>10</td>\n",
       "      <td>7</td>\n",
       "      <td>bogo</td>\n",
       "      <td>ae264e3637204a6fb9bb56bc8210ddfd</td>\n",
       "    </tr>\n",
       "    <tr>\n",
       "      <th>1</th>\n",
       "      <td>10</td>\n",
       "      <td>[web, email, mobile, social]</td>\n",
       "      <td>10</td>\n",
       "      <td>5</td>\n",
       "      <td>bogo</td>\n",
       "      <td>4d5c57ea9a6940dd891ad53e9dbe8da0</td>\n",
       "    </tr>\n",
       "    <tr>\n",
       "      <th>2</th>\n",
       "      <td>0</td>\n",
       "      <td>[web, email, mobile]</td>\n",
       "      <td>0</td>\n",
       "      <td>4</td>\n",
       "      <td>informational</td>\n",
       "      <td>3f207df678b143eea3cee63160fa8bed</td>\n",
       "    </tr>\n",
       "    <tr>\n",
       "      <th>3</th>\n",
       "      <td>5</td>\n",
       "      <td>[web, email, mobile]</td>\n",
       "      <td>5</td>\n",
       "      <td>7</td>\n",
       "      <td>bogo</td>\n",
       "      <td>9b98b8c7a33c4b65b9aebfe6a799e6d9</td>\n",
       "    </tr>\n",
       "    <tr>\n",
       "      <th>4</th>\n",
       "      <td>5</td>\n",
       "      <td>[web, email]</td>\n",
       "      <td>20</td>\n",
       "      <td>10</td>\n",
       "      <td>discount</td>\n",
       "      <td>0b1e1539f2cc45b7b9fa7c272da2e1d7</td>\n",
       "    </tr>\n",
       "  </tbody>\n",
       "</table>\n",
       "</div>"
      ],
      "text/plain": [
       "   reward                      channels  difficulty  duration     offer_type  \\\n",
       "0      10       [email, mobile, social]          10         7           bogo   \n",
       "1      10  [web, email, mobile, social]          10         5           bogo   \n",
       "2       0          [web, email, mobile]           0         4  informational   \n",
       "3       5          [web, email, mobile]           5         7           bogo   \n",
       "4       5                  [web, email]          20        10       discount   \n",
       "\n",
       "                                 id  \n",
       "0  ae264e3637204a6fb9bb56bc8210ddfd  \n",
       "1  4d5c57ea9a6940dd891ad53e9dbe8da0  \n",
       "2  3f207df678b143eea3cee63160fa8bed  \n",
       "3  9b98b8c7a33c4b65b9aebfe6a799e6d9  \n",
       "4  0b1e1539f2cc45b7b9fa7c272da2e1d7  "
      ]
     },
     "execution_count": 18,
     "metadata": {},
     "output_type": "execute_result"
    }
   ],
   "source": [
    "portfolio.head()"
   ]
  },
  {
   "cell_type": "code",
   "execution_count": 19,
   "metadata": {},
   "outputs": [
    {
     "data": {
      "text/plain": [
       "reward        0\n",
       "channels      0\n",
       "difficulty    0\n",
       "duration      0\n",
       "offer_type    0\n",
       "id            0\n",
       "dtype: int64"
      ]
     },
     "execution_count": 19,
     "metadata": {},
     "output_type": "execute_result"
    }
   ],
   "source": [
    "portfolio.isnull().sum()"
   ]
  },
  {
   "cell_type": "code",
   "execution_count": 20,
   "metadata": {},
   "outputs": [
    {
     "data": {
      "text/plain": [
       "10"
      ]
     },
     "execution_count": 20,
     "metadata": {},
     "output_type": "execute_result"
    }
   ],
   "source": [
    "portfolio.id.nunique()"
   ]
  },
  {
   "cell_type": "code",
   "execution_count": 21,
   "metadata": {},
   "outputs": [
    {
     "data": {
      "text/plain": [
       "array(['ae264e3637204a6fb9bb56bc8210ddfd',\n",
       "       '4d5c57ea9a6940dd891ad53e9dbe8da0',\n",
       "       '3f207df678b143eea3cee63160fa8bed',\n",
       "       '9b98b8c7a33c4b65b9aebfe6a799e6d9',\n",
       "       '0b1e1539f2cc45b7b9fa7c272da2e1d7',\n",
       "       '2298d6c36e964ae4a3e7e9706d1fb8c2',\n",
       "       'fafdcd668e3743c1bb461111dcafc2a4',\n",
       "       '5a8bc65990b245e5a138643cd4eb9837',\n",
       "       'f19421c1d4aa40978ebb69ca19b0e20d',\n",
       "       '2906b810c7d4411798c6938adc9daaa5'], dtype=object)"
      ]
     },
     "execution_count": 21,
     "metadata": {},
     "output_type": "execute_result"
    }
   ],
   "source": [
    "portfolio.id.unique()"
   ]
  },
  {
   "cell_type": "code",
   "execution_count": 22,
   "metadata": {},
   "outputs": [
    {
     "data": {
      "text/plain": [
       "array(['bogo', 'informational', 'discount'], dtype=object)"
      ]
     },
     "execution_count": 22,
     "metadata": {},
     "output_type": "execute_result"
    }
   ],
   "source": [
    "portfolio.offer_type.unique()"
   ]
  },
  {
   "cell_type": "code",
   "execution_count": 23,
   "metadata": {},
   "outputs": [
    {
     "data": {
      "text/plain": [
       "3"
      ]
     },
     "execution_count": 23,
     "metadata": {},
     "output_type": "execute_result"
    }
   ],
   "source": [
    "portfolio.offer_type.nunique()"
   ]
  },
  {
   "cell_type": "code",
   "execution_count": 24,
   "metadata": {},
   "outputs": [
    {
     "data": {
      "text/plain": [
       "offer_type\n",
       "bogo             4\n",
       "discount         4\n",
       "informational    2\n",
       "Name: id, dtype: int64"
      ]
     },
     "execution_count": 24,
     "metadata": {},
     "output_type": "execute_result"
    }
   ],
   "source": [
    "portfolio.groupby('offer_type')['id'].count()"
   ]
  },
  {
   "cell_type": "code",
   "execution_count": 25,
   "metadata": {},
   "outputs": [],
   "source": [
    "new_clean_portfolio =portfolio.copy()"
   ]
  },
  {
   "cell_type": "code",
   "execution_count": 26,
   "metadata": {},
   "outputs": [],
   "source": [
    "new_clean_portfolio['duration'] = new_clean_portfolio['duration'] * 24 # this is used to change the duration into hours\n"
   ]
  },
  {
   "cell_type": "code",
   "execution_count": 27,
   "metadata": {},
   "outputs": [],
   "source": [
    "new_clean_portfolio['web'] = new_clean_portfolio['channels'].apply(lambda x: 1 if 'web' in x else 0)\n",
    "new_clean_portfolio['email'] = new_clean_portfolio['channels'].apply(lambda x: 1 if 'email' in x else 0)\n",
    "new_clean_portfolio['mobile'] = new_clean_portfolio['channels'].apply(lambda x: 1 if 'mobile' in x else 0)\n",
    "new_clean_portfolio['social'] = new_clean_portfolio['channels'].apply(lambda x: 1 if 'social' in x else 0)"
   ]
  },
  {
   "cell_type": "code",
   "execution_count": 28,
   "metadata": {},
   "outputs": [],
   "source": [
    "offer_type = pd.get_dummies(new_clean_portfolio['offer_type'])\n"
   ]
  },
  {
   "cell_type": "code",
   "execution_count": 29,
   "metadata": {},
   "outputs": [
    {
     "data": {
      "text/html": [
       "<div>\n",
       "<style scoped>\n",
       "    .dataframe tbody tr th:only-of-type {\n",
       "        vertical-align: middle;\n",
       "    }\n",
       "\n",
       "    .dataframe tbody tr th {\n",
       "        vertical-align: top;\n",
       "    }\n",
       "\n",
       "    .dataframe thead th {\n",
       "        text-align: right;\n",
       "    }\n",
       "</style>\n",
       "<table border=\"1\" class=\"dataframe\">\n",
       "  <thead>\n",
       "    <tr style=\"text-align: right;\">\n",
       "      <th></th>\n",
       "      <th>reward</th>\n",
       "      <th>channels</th>\n",
       "      <th>difficulty</th>\n",
       "      <th>duration</th>\n",
       "      <th>offer_type</th>\n",
       "      <th>id</th>\n",
       "      <th>web</th>\n",
       "      <th>email</th>\n",
       "      <th>mobile</th>\n",
       "      <th>social</th>\n",
       "    </tr>\n",
       "  </thead>\n",
       "  <tbody>\n",
       "    <tr>\n",
       "      <th>0</th>\n",
       "      <td>10</td>\n",
       "      <td>[email, mobile, social]</td>\n",
       "      <td>10</td>\n",
       "      <td>168</td>\n",
       "      <td>bogo</td>\n",
       "      <td>ae264e3637204a6fb9bb56bc8210ddfd</td>\n",
       "      <td>0</td>\n",
       "      <td>1</td>\n",
       "      <td>1</td>\n",
       "      <td>1</td>\n",
       "    </tr>\n",
       "    <tr>\n",
       "      <th>1</th>\n",
       "      <td>10</td>\n",
       "      <td>[web, email, mobile, social]</td>\n",
       "      <td>10</td>\n",
       "      <td>120</td>\n",
       "      <td>bogo</td>\n",
       "      <td>4d5c57ea9a6940dd891ad53e9dbe8da0</td>\n",
       "      <td>1</td>\n",
       "      <td>1</td>\n",
       "      <td>1</td>\n",
       "      <td>1</td>\n",
       "    </tr>\n",
       "    <tr>\n",
       "      <th>2</th>\n",
       "      <td>0</td>\n",
       "      <td>[web, email, mobile]</td>\n",
       "      <td>0</td>\n",
       "      <td>96</td>\n",
       "      <td>informational</td>\n",
       "      <td>3f207df678b143eea3cee63160fa8bed</td>\n",
       "      <td>1</td>\n",
       "      <td>1</td>\n",
       "      <td>1</td>\n",
       "      <td>0</td>\n",
       "    </tr>\n",
       "    <tr>\n",
       "      <th>3</th>\n",
       "      <td>5</td>\n",
       "      <td>[web, email, mobile]</td>\n",
       "      <td>5</td>\n",
       "      <td>168</td>\n",
       "      <td>bogo</td>\n",
       "      <td>9b98b8c7a33c4b65b9aebfe6a799e6d9</td>\n",
       "      <td>1</td>\n",
       "      <td>1</td>\n",
       "      <td>1</td>\n",
       "      <td>0</td>\n",
       "    </tr>\n",
       "    <tr>\n",
       "      <th>4</th>\n",
       "      <td>5</td>\n",
       "      <td>[web, email]</td>\n",
       "      <td>20</td>\n",
       "      <td>240</td>\n",
       "      <td>discount</td>\n",
       "      <td>0b1e1539f2cc45b7b9fa7c272da2e1d7</td>\n",
       "      <td>1</td>\n",
       "      <td>1</td>\n",
       "      <td>0</td>\n",
       "      <td>0</td>\n",
       "    </tr>\n",
       "  </tbody>\n",
       "</table>\n",
       "</div>"
      ],
      "text/plain": [
       "   reward                      channels  difficulty  duration     offer_type  \\\n",
       "0      10       [email, mobile, social]          10       168           bogo   \n",
       "1      10  [web, email, mobile, social]          10       120           bogo   \n",
       "2       0          [web, email, mobile]           0        96  informational   \n",
       "3       5          [web, email, mobile]           5       168           bogo   \n",
       "4       5                  [web, email]          20       240       discount   \n",
       "\n",
       "                                 id  web  email  mobile  social  \n",
       "0  ae264e3637204a6fb9bb56bc8210ddfd    0      1       1       1  \n",
       "1  4d5c57ea9a6940dd891ad53e9dbe8da0    1      1       1       1  \n",
       "2  3f207df678b143eea3cee63160fa8bed    1      1       1       0  \n",
       "3  9b98b8c7a33c4b65b9aebfe6a799e6d9    1      1       1       0  \n",
       "4  0b1e1539f2cc45b7b9fa7c272da2e1d7    1      1       0       0  "
      ]
     },
     "execution_count": 29,
     "metadata": {},
     "output_type": "execute_result"
    }
   ],
   "source": [
    "new_clean_portfolio.head()"
   ]
  },
  {
   "cell_type": "code",
   "execution_count": 30,
   "metadata": {},
   "outputs": [
    {
     "data": {
      "text/html": [
       "<div>\n",
       "<style scoped>\n",
       "    .dataframe tbody tr th:only-of-type {\n",
       "        vertical-align: middle;\n",
       "    }\n",
       "\n",
       "    .dataframe tbody tr th {\n",
       "        vertical-align: top;\n",
       "    }\n",
       "\n",
       "    .dataframe thead th {\n",
       "        text-align: right;\n",
       "    }\n",
       "</style>\n",
       "<table border=\"1\" class=\"dataframe\">\n",
       "  <thead>\n",
       "    <tr style=\"text-align: right;\">\n",
       "      <th></th>\n",
       "      <th>bogo</th>\n",
       "      <th>discount</th>\n",
       "      <th>informational</th>\n",
       "    </tr>\n",
       "  </thead>\n",
       "  <tbody>\n",
       "    <tr>\n",
       "      <th>0</th>\n",
       "      <td>1</td>\n",
       "      <td>0</td>\n",
       "      <td>0</td>\n",
       "    </tr>\n",
       "    <tr>\n",
       "      <th>1</th>\n",
       "      <td>1</td>\n",
       "      <td>0</td>\n",
       "      <td>0</td>\n",
       "    </tr>\n",
       "    <tr>\n",
       "      <th>2</th>\n",
       "      <td>0</td>\n",
       "      <td>0</td>\n",
       "      <td>1</td>\n",
       "    </tr>\n",
       "    <tr>\n",
       "      <th>3</th>\n",
       "      <td>1</td>\n",
       "      <td>0</td>\n",
       "      <td>0</td>\n",
       "    </tr>\n",
       "    <tr>\n",
       "      <th>4</th>\n",
       "      <td>0</td>\n",
       "      <td>1</td>\n",
       "      <td>0</td>\n",
       "    </tr>\n",
       "  </tbody>\n",
       "</table>\n",
       "</div>"
      ],
      "text/plain": [
       "   bogo  discount  informational\n",
       "0     1         0              0\n",
       "1     1         0              0\n",
       "2     0         0              1\n",
       "3     1         0              0\n",
       "4     0         1              0"
      ]
     },
     "execution_count": 30,
     "metadata": {},
     "output_type": "execute_result"
    }
   ],
   "source": [
    "offer_type.head()"
   ]
  },
  {
   "cell_type": "code",
   "execution_count": 31,
   "metadata": {},
   "outputs": [],
   "source": [
    "new_clean_portfolio.drop(['channels', 'offer_type'], axis=1, inplace=True)\n"
   ]
  },
  {
   "cell_type": "code",
   "execution_count": 32,
   "metadata": {},
   "outputs": [],
   "source": [
    "new_clean_portfolio = pd.concat([new_clean_portfolio, offer_type], axis=1, sort=False)\n"
   ]
  },
  {
   "cell_type": "code",
   "execution_count": 33,
   "metadata": {},
   "outputs": [
    {
     "data": {
      "text/html": [
       "<div>\n",
       "<style scoped>\n",
       "    .dataframe tbody tr th:only-of-type {\n",
       "        vertical-align: middle;\n",
       "    }\n",
       "\n",
       "    .dataframe tbody tr th {\n",
       "        vertical-align: top;\n",
       "    }\n",
       "\n",
       "    .dataframe thead th {\n",
       "        text-align: right;\n",
       "    }\n",
       "</style>\n",
       "<table border=\"1\" class=\"dataframe\">\n",
       "  <thead>\n",
       "    <tr style=\"text-align: right;\">\n",
       "      <th></th>\n",
       "      <th>reward</th>\n",
       "      <th>difficulty</th>\n",
       "      <th>duration</th>\n",
       "      <th>id</th>\n",
       "      <th>web</th>\n",
       "      <th>email</th>\n",
       "      <th>mobile</th>\n",
       "      <th>social</th>\n",
       "      <th>bogo</th>\n",
       "      <th>discount</th>\n",
       "      <th>informational</th>\n",
       "    </tr>\n",
       "  </thead>\n",
       "  <tbody>\n",
       "    <tr>\n",
       "      <th>0</th>\n",
       "      <td>10</td>\n",
       "      <td>10</td>\n",
       "      <td>168</td>\n",
       "      <td>ae264e3637204a6fb9bb56bc8210ddfd</td>\n",
       "      <td>0</td>\n",
       "      <td>1</td>\n",
       "      <td>1</td>\n",
       "      <td>1</td>\n",
       "      <td>1</td>\n",
       "      <td>0</td>\n",
       "      <td>0</td>\n",
       "    </tr>\n",
       "    <tr>\n",
       "      <th>1</th>\n",
       "      <td>10</td>\n",
       "      <td>10</td>\n",
       "      <td>120</td>\n",
       "      <td>4d5c57ea9a6940dd891ad53e9dbe8da0</td>\n",
       "      <td>1</td>\n",
       "      <td>1</td>\n",
       "      <td>1</td>\n",
       "      <td>1</td>\n",
       "      <td>1</td>\n",
       "      <td>0</td>\n",
       "      <td>0</td>\n",
       "    </tr>\n",
       "    <tr>\n",
       "      <th>2</th>\n",
       "      <td>0</td>\n",
       "      <td>0</td>\n",
       "      <td>96</td>\n",
       "      <td>3f207df678b143eea3cee63160fa8bed</td>\n",
       "      <td>1</td>\n",
       "      <td>1</td>\n",
       "      <td>1</td>\n",
       "      <td>0</td>\n",
       "      <td>0</td>\n",
       "      <td>0</td>\n",
       "      <td>1</td>\n",
       "    </tr>\n",
       "    <tr>\n",
       "      <th>3</th>\n",
       "      <td>5</td>\n",
       "      <td>5</td>\n",
       "      <td>168</td>\n",
       "      <td>9b98b8c7a33c4b65b9aebfe6a799e6d9</td>\n",
       "      <td>1</td>\n",
       "      <td>1</td>\n",
       "      <td>1</td>\n",
       "      <td>0</td>\n",
       "      <td>1</td>\n",
       "      <td>0</td>\n",
       "      <td>0</td>\n",
       "    </tr>\n",
       "    <tr>\n",
       "      <th>4</th>\n",
       "      <td>5</td>\n",
       "      <td>20</td>\n",
       "      <td>240</td>\n",
       "      <td>0b1e1539f2cc45b7b9fa7c272da2e1d7</td>\n",
       "      <td>1</td>\n",
       "      <td>1</td>\n",
       "      <td>0</td>\n",
       "      <td>0</td>\n",
       "      <td>0</td>\n",
       "      <td>1</td>\n",
       "      <td>0</td>\n",
       "    </tr>\n",
       "  </tbody>\n",
       "</table>\n",
       "</div>"
      ],
      "text/plain": [
       "   reward  difficulty  duration                                id  web  email  \\\n",
       "0      10          10       168  ae264e3637204a6fb9bb56bc8210ddfd    0      1   \n",
       "1      10          10       120  4d5c57ea9a6940dd891ad53e9dbe8da0    1      1   \n",
       "2       0           0        96  3f207df678b143eea3cee63160fa8bed    1      1   \n",
       "3       5           5       168  9b98b8c7a33c4b65b9aebfe6a799e6d9    1      1   \n",
       "4       5          20       240  0b1e1539f2cc45b7b9fa7c272da2e1d7    1      1   \n",
       "\n",
       "   mobile  social  bogo  discount  informational  \n",
       "0       1       1     1         0              0  \n",
       "1       1       1     1         0              0  \n",
       "2       1       0     0         0              1  \n",
       "3       1       0     1         0              0  \n",
       "4       0       0     0         1              0  "
      ]
     },
     "execution_count": 33,
     "metadata": {},
     "output_type": "execute_result"
    }
   ],
   "source": [
    "new_clean_portfolio.head()"
   ]
  },
  {
   "cell_type": "code",
   "execution_count": 34,
   "metadata": {},
   "outputs": [
    {
     "data": {
      "text/plain": [
       "reward           0\n",
       "difficulty       0\n",
       "duration         0\n",
       "id               0\n",
       "web              0\n",
       "email            0\n",
       "mobile           0\n",
       "social           0\n",
       "bogo             0\n",
       "discount         0\n",
       "informational    0\n",
       "dtype: int64"
      ]
     },
     "execution_count": 34,
     "metadata": {},
     "output_type": "execute_result"
    }
   ],
   "source": [
    "new_clean_portfolio.isnull().sum()"
   ]
  },
  {
   "cell_type": "code",
   "execution_count": 35,
   "metadata": {},
   "outputs": [],
   "source": [
    "new_clean_portfolio.rename(columns={'id':'offer_id'}, inplace=True)\n"
   ]
  },
  {
   "cell_type": "code",
   "execution_count": 36,
   "metadata": {},
   "outputs": [
    {
     "data": {
      "text/html": [
       "<div>\n",
       "<style scoped>\n",
       "    .dataframe tbody tr th:only-of-type {\n",
       "        vertical-align: middle;\n",
       "    }\n",
       "\n",
       "    .dataframe tbody tr th {\n",
       "        vertical-align: top;\n",
       "    }\n",
       "\n",
       "    .dataframe thead th {\n",
       "        text-align: right;\n",
       "    }\n",
       "</style>\n",
       "<table border=\"1\" class=\"dataframe\">\n",
       "  <thead>\n",
       "    <tr style=\"text-align: right;\">\n",
       "      <th></th>\n",
       "      <th>reward</th>\n",
       "      <th>difficulty</th>\n",
       "      <th>duration</th>\n",
       "      <th>offer_id</th>\n",
       "      <th>web</th>\n",
       "      <th>email</th>\n",
       "      <th>mobile</th>\n",
       "      <th>social</th>\n",
       "      <th>bogo</th>\n",
       "      <th>discount</th>\n",
       "      <th>informational</th>\n",
       "    </tr>\n",
       "  </thead>\n",
       "  <tbody>\n",
       "    <tr>\n",
       "      <th>0</th>\n",
       "      <td>10</td>\n",
       "      <td>10</td>\n",
       "      <td>168</td>\n",
       "      <td>ae264e3637204a6fb9bb56bc8210ddfd</td>\n",
       "      <td>0</td>\n",
       "      <td>1</td>\n",
       "      <td>1</td>\n",
       "      <td>1</td>\n",
       "      <td>1</td>\n",
       "      <td>0</td>\n",
       "      <td>0</td>\n",
       "    </tr>\n",
       "    <tr>\n",
       "      <th>1</th>\n",
       "      <td>10</td>\n",
       "      <td>10</td>\n",
       "      <td>120</td>\n",
       "      <td>4d5c57ea9a6940dd891ad53e9dbe8da0</td>\n",
       "      <td>1</td>\n",
       "      <td>1</td>\n",
       "      <td>1</td>\n",
       "      <td>1</td>\n",
       "      <td>1</td>\n",
       "      <td>0</td>\n",
       "      <td>0</td>\n",
       "    </tr>\n",
       "    <tr>\n",
       "      <th>2</th>\n",
       "      <td>0</td>\n",
       "      <td>0</td>\n",
       "      <td>96</td>\n",
       "      <td>3f207df678b143eea3cee63160fa8bed</td>\n",
       "      <td>1</td>\n",
       "      <td>1</td>\n",
       "      <td>1</td>\n",
       "      <td>0</td>\n",
       "      <td>0</td>\n",
       "      <td>0</td>\n",
       "      <td>1</td>\n",
       "    </tr>\n",
       "    <tr>\n",
       "      <th>3</th>\n",
       "      <td>5</td>\n",
       "      <td>5</td>\n",
       "      <td>168</td>\n",
       "      <td>9b98b8c7a33c4b65b9aebfe6a799e6d9</td>\n",
       "      <td>1</td>\n",
       "      <td>1</td>\n",
       "      <td>1</td>\n",
       "      <td>0</td>\n",
       "      <td>1</td>\n",
       "      <td>0</td>\n",
       "      <td>0</td>\n",
       "    </tr>\n",
       "    <tr>\n",
       "      <th>4</th>\n",
       "      <td>5</td>\n",
       "      <td>20</td>\n",
       "      <td>240</td>\n",
       "      <td>0b1e1539f2cc45b7b9fa7c272da2e1d7</td>\n",
       "      <td>1</td>\n",
       "      <td>1</td>\n",
       "      <td>0</td>\n",
       "      <td>0</td>\n",
       "      <td>0</td>\n",
       "      <td>1</td>\n",
       "      <td>0</td>\n",
       "    </tr>\n",
       "  </tbody>\n",
       "</table>\n",
       "</div>"
      ],
      "text/plain": [
       "   reward  difficulty  duration                          offer_id  web  email  \\\n",
       "0      10          10       168  ae264e3637204a6fb9bb56bc8210ddfd    0      1   \n",
       "1      10          10       120  4d5c57ea9a6940dd891ad53e9dbe8da0    1      1   \n",
       "2       0           0        96  3f207df678b143eea3cee63160fa8bed    1      1   \n",
       "3       5           5       168  9b98b8c7a33c4b65b9aebfe6a799e6d9    1      1   \n",
       "4       5          20       240  0b1e1539f2cc45b7b9fa7c272da2e1d7    1      1   \n",
       "\n",
       "   mobile  social  bogo  discount  informational  \n",
       "0       1       1     1         0              0  \n",
       "1       1       1     1         0              0  \n",
       "2       1       0     0         0              1  \n",
       "3       1       0     1         0              0  \n",
       "4       0       0     0         1              0  "
      ]
     },
     "execution_count": 36,
     "metadata": {},
     "output_type": "execute_result"
    }
   ],
   "source": [
    "new_clean_portfolio.head()"
   ]
  },
  {
   "cell_type": "markdown",
   "metadata": {},
   "source": [
    "# End of cleaning in the Portfolio data set"
   ]
  },
  {
   "cell_type": "markdown",
   "metadata": {},
   "source": [
    "# Begining of cleaning in Transcrip dataset"
   ]
  },
  {
   "cell_type": "markdown",
   "metadata": {},
   "source": [
    "* event (str) - record description (ie transaction, offer received, offer viewed, etc.)\n",
    "* person (str) - customer id\n",
    "* time (int) - time in hours since start of test. The data begins at time t=0\n",
    "* value - (dict of strings) - either an offer id or transaction amount depending on the record"
   ]
  },
  {
   "cell_type": "code",
   "execution_count": 37,
   "metadata": {},
   "outputs": [
    {
     "data": {
      "text/html": [
       "<div>\n",
       "<style scoped>\n",
       "    .dataframe tbody tr th:only-of-type {\n",
       "        vertical-align: middle;\n",
       "    }\n",
       "\n",
       "    .dataframe tbody tr th {\n",
       "        vertical-align: top;\n",
       "    }\n",
       "\n",
       "    .dataframe thead th {\n",
       "        text-align: right;\n",
       "    }\n",
       "</style>\n",
       "<table border=\"1\" class=\"dataframe\">\n",
       "  <thead>\n",
       "    <tr style=\"text-align: right;\">\n",
       "      <th></th>\n",
       "      <th>person</th>\n",
       "      <th>event</th>\n",
       "      <th>value</th>\n",
       "      <th>time</th>\n",
       "    </tr>\n",
       "  </thead>\n",
       "  <tbody>\n",
       "    <tr>\n",
       "      <th>0</th>\n",
       "      <td>78afa995795e4d85b5d9ceeca43f5fef</td>\n",
       "      <td>offer received</td>\n",
       "      <td>{'offer id': '9b98b8c7a33c4b65b9aebfe6a799e6d9'}</td>\n",
       "      <td>0</td>\n",
       "    </tr>\n",
       "    <tr>\n",
       "      <th>1</th>\n",
       "      <td>a03223e636434f42ac4c3df47e8bac43</td>\n",
       "      <td>offer received</td>\n",
       "      <td>{'offer id': '0b1e1539f2cc45b7b9fa7c272da2e1d7'}</td>\n",
       "      <td>0</td>\n",
       "    </tr>\n",
       "    <tr>\n",
       "      <th>2</th>\n",
       "      <td>e2127556f4f64592b11af22de27a7932</td>\n",
       "      <td>offer received</td>\n",
       "      <td>{'offer id': '2906b810c7d4411798c6938adc9daaa5'}</td>\n",
       "      <td>0</td>\n",
       "    </tr>\n",
       "    <tr>\n",
       "      <th>3</th>\n",
       "      <td>8ec6ce2a7e7949b1bf142def7d0e0586</td>\n",
       "      <td>offer received</td>\n",
       "      <td>{'offer id': 'fafdcd668e3743c1bb461111dcafc2a4'}</td>\n",
       "      <td>0</td>\n",
       "    </tr>\n",
       "    <tr>\n",
       "      <th>4</th>\n",
       "      <td>68617ca6246f4fbc85e91a2a49552598</td>\n",
       "      <td>offer received</td>\n",
       "      <td>{'offer id': '4d5c57ea9a6940dd891ad53e9dbe8da0'}</td>\n",
       "      <td>0</td>\n",
       "    </tr>\n",
       "  </tbody>\n",
       "</table>\n",
       "</div>"
      ],
      "text/plain": [
       "                             person           event  \\\n",
       "0  78afa995795e4d85b5d9ceeca43f5fef  offer received   \n",
       "1  a03223e636434f42ac4c3df47e8bac43  offer received   \n",
       "2  e2127556f4f64592b11af22de27a7932  offer received   \n",
       "3  8ec6ce2a7e7949b1bf142def7d0e0586  offer received   \n",
       "4  68617ca6246f4fbc85e91a2a49552598  offer received   \n",
       "\n",
       "                                              value  time  \n",
       "0  {'offer id': '9b98b8c7a33c4b65b9aebfe6a799e6d9'}     0  \n",
       "1  {'offer id': '0b1e1539f2cc45b7b9fa7c272da2e1d7'}     0  \n",
       "2  {'offer id': '2906b810c7d4411798c6938adc9daaa5'}     0  \n",
       "3  {'offer id': 'fafdcd668e3743c1bb461111dcafc2a4'}     0  \n",
       "4  {'offer id': '4d5c57ea9a6940dd891ad53e9dbe8da0'}     0  "
      ]
     },
     "execution_count": 37,
     "metadata": {},
     "output_type": "execute_result"
    }
   ],
   "source": [
    "transcript.head()"
   ]
  },
  {
   "cell_type": "code",
   "execution_count": 38,
   "metadata": {},
   "outputs": [
    {
     "data": {
      "text/plain": [
       "array(['offer received', 'offer viewed', 'transaction', 'offer completed'],\n",
       "      dtype=object)"
      ]
     },
     "execution_count": 38,
     "metadata": {},
     "output_type": "execute_result"
    }
   ],
   "source": [
    "transcript.event.unique()"
   ]
  },
  {
   "cell_type": "code",
   "execution_count": 39,
   "metadata": {},
   "outputs": [
    {
     "data": {
      "text/plain": [
       "4"
      ]
     },
     "execution_count": 39,
     "metadata": {},
     "output_type": "execute_result"
    }
   ],
   "source": [
    "transcript.event.nunique()"
   ]
  },
  {
   "cell_type": "code",
   "execution_count": 40,
   "metadata": {},
   "outputs": [
    {
     "data": {
      "text/plain": [
       "17000"
      ]
     },
     "execution_count": 40,
     "metadata": {},
     "output_type": "execute_result"
    }
   ],
   "source": [
    "transcript.person.nunique()"
   ]
  },
  {
   "cell_type": "code",
   "execution_count": 41,
   "metadata": {},
   "outputs": [
    {
     "data": {
      "text/plain": [
       "person    0\n",
       "event     0\n",
       "value     0\n",
       "time      0\n",
       "dtype: int64"
      ]
     },
     "execution_count": 41,
     "metadata": {},
     "output_type": "execute_result"
    }
   ],
   "source": [
    "transcript.isnull().sum()"
   ]
  },
  {
   "cell_type": "code",
   "execution_count": 42,
   "metadata": {},
   "outputs": [
    {
     "data": {
      "text/plain": [
       "{'amount': 1.5899999999999999}"
      ]
     },
     "execution_count": 42,
     "metadata": {},
     "output_type": "execute_result"
    }
   ],
   "source": [
    "transcript.value[306529]"
   ]
  },
  {
   "cell_type": "code",
   "execution_count": 43,
   "metadata": {},
   "outputs": [],
   "source": [
    "event_type = pd.get_dummies(transcript['event'])"
   ]
  },
  {
   "cell_type": "code",
   "execution_count": 44,
   "metadata": {
    "scrolled": true
   },
   "outputs": [
    {
     "data": {
      "text/html": [
       "<div>\n",
       "<style scoped>\n",
       "    .dataframe tbody tr th:only-of-type {\n",
       "        vertical-align: middle;\n",
       "    }\n",
       "\n",
       "    .dataframe tbody tr th {\n",
       "        vertical-align: top;\n",
       "    }\n",
       "\n",
       "    .dataframe thead th {\n",
       "        text-align: right;\n",
       "    }\n",
       "</style>\n",
       "<table border=\"1\" class=\"dataframe\">\n",
       "  <thead>\n",
       "    <tr style=\"text-align: right;\">\n",
       "      <th></th>\n",
       "      <th>offer completed</th>\n",
       "      <th>offer received</th>\n",
       "      <th>offer viewed</th>\n",
       "      <th>transaction</th>\n",
       "    </tr>\n",
       "  </thead>\n",
       "  <tbody>\n",
       "    <tr>\n",
       "      <th>0</th>\n",
       "      <td>0</td>\n",
       "      <td>1</td>\n",
       "      <td>0</td>\n",
       "      <td>0</td>\n",
       "    </tr>\n",
       "    <tr>\n",
       "      <th>1</th>\n",
       "      <td>0</td>\n",
       "      <td>1</td>\n",
       "      <td>0</td>\n",
       "      <td>0</td>\n",
       "    </tr>\n",
       "    <tr>\n",
       "      <th>2</th>\n",
       "      <td>0</td>\n",
       "      <td>1</td>\n",
       "      <td>0</td>\n",
       "      <td>0</td>\n",
       "    </tr>\n",
       "    <tr>\n",
       "      <th>3</th>\n",
       "      <td>0</td>\n",
       "      <td>1</td>\n",
       "      <td>0</td>\n",
       "      <td>0</td>\n",
       "    </tr>\n",
       "    <tr>\n",
       "      <th>4</th>\n",
       "      <td>0</td>\n",
       "      <td>1</td>\n",
       "      <td>0</td>\n",
       "      <td>0</td>\n",
       "    </tr>\n",
       "  </tbody>\n",
       "</table>\n",
       "</div>"
      ],
      "text/plain": [
       "   offer completed  offer received  offer viewed  transaction\n",
       "0                0               1             0            0\n",
       "1                0               1             0            0\n",
       "2                0               1             0            0\n",
       "3                0               1             0            0\n",
       "4                0               1             0            0"
      ]
     },
     "execution_count": 44,
     "metadata": {},
     "output_type": "execute_result"
    }
   ],
   "source": [
    "event_type.head()"
   ]
  },
  {
   "cell_type": "code",
   "execution_count": 45,
   "metadata": {},
   "outputs": [
    {
     "data": {
      "text/plain": [
       "33579"
      ]
     },
     "execution_count": 45,
     "metadata": {},
     "output_type": "execute_result"
    }
   ],
   "source": [
    "event_type['offer completed'].sum()"
   ]
  },
  {
   "cell_type": "code",
   "execution_count": 89,
   "metadata": {
    "scrolled": true
   },
   "outputs": [
    {
     "data": {
      "text/plain": [
       "'9b98b8c7a33c4b65b9aebfe6a799e6d9'"
      ]
     },
     "execution_count": 89,
     "metadata": {},
     "output_type": "execute_result"
    }
   ],
   "source": [
    "transcript[transcript['value'].apply(lambda x: True if ('offer id' in x) or ('offer_id' in x) else False)].value[0]['offer id']"
   ]
  },
  {
   "cell_type": "code",
   "execution_count": 47,
   "metadata": {},
   "outputs": [],
   "source": [
    "offer = transcript.copy()"
   ]
  },
  {
   "cell_type": "code",
   "execution_count": 48,
   "metadata": {},
   "outputs": [],
   "source": [
    "offer = offer[offer['value'].apply(lambda x: True if ('offer id' in x) or ('offer_id' in x) else False)]\n",
    "offer['offer_id'] = offer['value'].apply(lambda x: x['offer id'] if ('offer id' in x) else x['offer_id'])# becuase this is a dictionary and you can access it according to 2 things"
   ]
  },
  {
   "cell_type": "code",
   "execution_count": 49,
   "metadata": {},
   "outputs": [
    {
     "data": {
      "text/html": [
       "<div>\n",
       "<style scoped>\n",
       "    .dataframe tbody tr th:only-of-type {\n",
       "        vertical-align: middle;\n",
       "    }\n",
       "\n",
       "    .dataframe tbody tr th {\n",
       "        vertical-align: top;\n",
       "    }\n",
       "\n",
       "    .dataframe thead th {\n",
       "        text-align: right;\n",
       "    }\n",
       "</style>\n",
       "<table border=\"1\" class=\"dataframe\">\n",
       "  <thead>\n",
       "    <tr style=\"text-align: right;\">\n",
       "      <th></th>\n",
       "      <th>person</th>\n",
       "      <th>event</th>\n",
       "      <th>value</th>\n",
       "      <th>time</th>\n",
       "      <th>offer_id</th>\n",
       "    </tr>\n",
       "  </thead>\n",
       "  <tbody>\n",
       "    <tr>\n",
       "      <th>0</th>\n",
       "      <td>78afa995795e4d85b5d9ceeca43f5fef</td>\n",
       "      <td>offer received</td>\n",
       "      <td>{'offer id': '9b98b8c7a33c4b65b9aebfe6a799e6d9'}</td>\n",
       "      <td>0</td>\n",
       "      <td>9b98b8c7a33c4b65b9aebfe6a799e6d9</td>\n",
       "    </tr>\n",
       "    <tr>\n",
       "      <th>1</th>\n",
       "      <td>a03223e636434f42ac4c3df47e8bac43</td>\n",
       "      <td>offer received</td>\n",
       "      <td>{'offer id': '0b1e1539f2cc45b7b9fa7c272da2e1d7'}</td>\n",
       "      <td>0</td>\n",
       "      <td>0b1e1539f2cc45b7b9fa7c272da2e1d7</td>\n",
       "    </tr>\n",
       "    <tr>\n",
       "      <th>2</th>\n",
       "      <td>e2127556f4f64592b11af22de27a7932</td>\n",
       "      <td>offer received</td>\n",
       "      <td>{'offer id': '2906b810c7d4411798c6938adc9daaa5'}</td>\n",
       "      <td>0</td>\n",
       "      <td>2906b810c7d4411798c6938adc9daaa5</td>\n",
       "    </tr>\n",
       "    <tr>\n",
       "      <th>3</th>\n",
       "      <td>8ec6ce2a7e7949b1bf142def7d0e0586</td>\n",
       "      <td>offer received</td>\n",
       "      <td>{'offer id': 'fafdcd668e3743c1bb461111dcafc2a4'}</td>\n",
       "      <td>0</td>\n",
       "      <td>fafdcd668e3743c1bb461111dcafc2a4</td>\n",
       "    </tr>\n",
       "    <tr>\n",
       "      <th>4</th>\n",
       "      <td>68617ca6246f4fbc85e91a2a49552598</td>\n",
       "      <td>offer received</td>\n",
       "      <td>{'offer id': '4d5c57ea9a6940dd891ad53e9dbe8da0'}</td>\n",
       "      <td>0</td>\n",
       "      <td>4d5c57ea9a6940dd891ad53e9dbe8da0</td>\n",
       "    </tr>\n",
       "    <tr>\n",
       "      <th>...</th>\n",
       "      <td>...</td>\n",
       "      <td>...</td>\n",
       "      <td>...</td>\n",
       "      <td>...</td>\n",
       "      <td>...</td>\n",
       "    </tr>\n",
       "    <tr>\n",
       "      <th>306497</th>\n",
       "      <td>a6f84f4e976f44508c358cc9aba6d2b3</td>\n",
       "      <td>offer completed</td>\n",
       "      <td>{'offer_id': '2298d6c36e964ae4a3e7e9706d1fb8c2...</td>\n",
       "      <td>714</td>\n",
       "      <td>2298d6c36e964ae4a3e7e9706d1fb8c2</td>\n",
       "    </tr>\n",
       "    <tr>\n",
       "      <th>306506</th>\n",
       "      <td>b895c57e8cd047a8872ce02aa54759d6</td>\n",
       "      <td>offer completed</td>\n",
       "      <td>{'offer_id': 'fafdcd668e3743c1bb461111dcafc2a4...</td>\n",
       "      <td>714</td>\n",
       "      <td>fafdcd668e3743c1bb461111dcafc2a4</td>\n",
       "    </tr>\n",
       "    <tr>\n",
       "      <th>306507</th>\n",
       "      <td>8dda575c2a1d44b9ac8e8b07b93d1f8e</td>\n",
       "      <td>offer viewed</td>\n",
       "      <td>{'offer id': '0b1e1539f2cc45b7b9fa7c272da2e1d7'}</td>\n",
       "      <td>714</td>\n",
       "      <td>0b1e1539f2cc45b7b9fa7c272da2e1d7</td>\n",
       "    </tr>\n",
       "    <tr>\n",
       "      <th>306509</th>\n",
       "      <td>8431c16f8e1d440880db371a68f82dd0</td>\n",
       "      <td>offer completed</td>\n",
       "      <td>{'offer_id': 'fafdcd668e3743c1bb461111dcafc2a4...</td>\n",
       "      <td>714</td>\n",
       "      <td>fafdcd668e3743c1bb461111dcafc2a4</td>\n",
       "    </tr>\n",
       "    <tr>\n",
       "      <th>306527</th>\n",
       "      <td>24f56b5e1849462093931b164eb803b5</td>\n",
       "      <td>offer completed</td>\n",
       "      <td>{'offer_id': 'fafdcd668e3743c1bb461111dcafc2a4...</td>\n",
       "      <td>714</td>\n",
       "      <td>fafdcd668e3743c1bb461111dcafc2a4</td>\n",
       "    </tr>\n",
       "  </tbody>\n",
       "</table>\n",
       "<p>167581 rows × 5 columns</p>\n",
       "</div>"
      ],
      "text/plain": [
       "                                  person            event  \\\n",
       "0       78afa995795e4d85b5d9ceeca43f5fef   offer received   \n",
       "1       a03223e636434f42ac4c3df47e8bac43   offer received   \n",
       "2       e2127556f4f64592b11af22de27a7932   offer received   \n",
       "3       8ec6ce2a7e7949b1bf142def7d0e0586   offer received   \n",
       "4       68617ca6246f4fbc85e91a2a49552598   offer received   \n",
       "...                                  ...              ...   \n",
       "306497  a6f84f4e976f44508c358cc9aba6d2b3  offer completed   \n",
       "306506  b895c57e8cd047a8872ce02aa54759d6  offer completed   \n",
       "306507  8dda575c2a1d44b9ac8e8b07b93d1f8e     offer viewed   \n",
       "306509  8431c16f8e1d440880db371a68f82dd0  offer completed   \n",
       "306527  24f56b5e1849462093931b164eb803b5  offer completed   \n",
       "\n",
       "                                                    value  time  \\\n",
       "0        {'offer id': '9b98b8c7a33c4b65b9aebfe6a799e6d9'}     0   \n",
       "1        {'offer id': '0b1e1539f2cc45b7b9fa7c272da2e1d7'}     0   \n",
       "2        {'offer id': '2906b810c7d4411798c6938adc9daaa5'}     0   \n",
       "3        {'offer id': 'fafdcd668e3743c1bb461111dcafc2a4'}     0   \n",
       "4        {'offer id': '4d5c57ea9a6940dd891ad53e9dbe8da0'}     0   \n",
       "...                                                   ...   ...   \n",
       "306497  {'offer_id': '2298d6c36e964ae4a3e7e9706d1fb8c2...   714   \n",
       "306506  {'offer_id': 'fafdcd668e3743c1bb461111dcafc2a4...   714   \n",
       "306507   {'offer id': '0b1e1539f2cc45b7b9fa7c272da2e1d7'}   714   \n",
       "306509  {'offer_id': 'fafdcd668e3743c1bb461111dcafc2a4...   714   \n",
       "306527  {'offer_id': 'fafdcd668e3743c1bb461111dcafc2a4...   714   \n",
       "\n",
       "                                offer_id  \n",
       "0       9b98b8c7a33c4b65b9aebfe6a799e6d9  \n",
       "1       0b1e1539f2cc45b7b9fa7c272da2e1d7  \n",
       "2       2906b810c7d4411798c6938adc9daaa5  \n",
       "3       fafdcd668e3743c1bb461111dcafc2a4  \n",
       "4       4d5c57ea9a6940dd891ad53e9dbe8da0  \n",
       "...                                  ...  \n",
       "306497  2298d6c36e964ae4a3e7e9706d1fb8c2  \n",
       "306506  fafdcd668e3743c1bb461111dcafc2a4  \n",
       "306507  0b1e1539f2cc45b7b9fa7c272da2e1d7  \n",
       "306509  fafdcd668e3743c1bb461111dcafc2a4  \n",
       "306527  fafdcd668e3743c1bb461111dcafc2a4  \n",
       "\n",
       "[167581 rows x 5 columns]"
      ]
     },
     "execution_count": 49,
     "metadata": {},
     "output_type": "execute_result"
    }
   ],
   "source": [
    "offer"
   ]
  },
  {
   "cell_type": "code",
   "execution_count": 50,
   "metadata": {},
   "outputs": [],
   "source": [
    "offer.rename(columns={'person':'the_id'}, inplace=True)\n"
   ]
  },
  {
   "cell_type": "markdown",
   "metadata": {},
   "source": [
    "# Merging the data sets"
   ]
  },
  {
   "cell_type": "code",
   "execution_count": 51,
   "metadata": {},
   "outputs": [],
   "source": [
    "trans_prof = pd.merge(offer, new_clean_profile, on='the_id',\n",
    "                          how=\"left\")"
   ]
  },
  {
   "cell_type": "code",
   "execution_count": 52,
   "metadata": {},
   "outputs": [],
   "source": [
    "df = pd.merge(trans_prof, new_clean_portfolio, on='offer_id',\n",
    "                          how=\"left\")"
   ]
  },
  {
   "cell_type": "code",
   "execution_count": 53,
   "metadata": {
    "scrolled": true
   },
   "outputs": [
    {
     "data": {
      "text/html": [
       "<div>\n",
       "<style scoped>\n",
       "    .dataframe tbody tr th:only-of-type {\n",
       "        vertical-align: middle;\n",
       "    }\n",
       "\n",
       "    .dataframe tbody tr th {\n",
       "        vertical-align: top;\n",
       "    }\n",
       "\n",
       "    .dataframe thead th {\n",
       "        text-align: right;\n",
       "    }\n",
       "</style>\n",
       "<table border=\"1\" class=\"dataframe\">\n",
       "  <thead>\n",
       "    <tr style=\"text-align: right;\">\n",
       "      <th></th>\n",
       "      <th>the_id</th>\n",
       "      <th>event</th>\n",
       "      <th>value</th>\n",
       "      <th>time</th>\n",
       "      <th>offer_id</th>\n",
       "      <th>gender</th>\n",
       "      <th>age</th>\n",
       "      <th>became_member_on</th>\n",
       "      <th>income</th>\n",
       "      <th>memberdays</th>\n",
       "      <th>reward</th>\n",
       "      <th>difficulty</th>\n",
       "      <th>duration</th>\n",
       "      <th>web</th>\n",
       "      <th>email</th>\n",
       "      <th>mobile</th>\n",
       "      <th>social</th>\n",
       "      <th>bogo</th>\n",
       "      <th>discount</th>\n",
       "      <th>informational</th>\n",
       "    </tr>\n",
       "  </thead>\n",
       "  <tbody>\n",
       "    <tr>\n",
       "      <th>0</th>\n",
       "      <td>78afa995795e4d85b5d9ceeca43f5fef</td>\n",
       "      <td>offer received</td>\n",
       "      <td>{'offer id': '9b98b8c7a33c4b65b9aebfe6a799e6d9'}</td>\n",
       "      <td>0</td>\n",
       "      <td>9b98b8c7a33c4b65b9aebfe6a799e6d9</td>\n",
       "      <td>F</td>\n",
       "      <td>75.0</td>\n",
       "      <td>20170509</td>\n",
       "      <td>100000.0</td>\n",
       "      <td>1388</td>\n",
       "      <td>5</td>\n",
       "      <td>5</td>\n",
       "      <td>168</td>\n",
       "      <td>1</td>\n",
       "      <td>1</td>\n",
       "      <td>1</td>\n",
       "      <td>0</td>\n",
       "      <td>1</td>\n",
       "      <td>0</td>\n",
       "      <td>0</td>\n",
       "    </tr>\n",
       "    <tr>\n",
       "      <th>1</th>\n",
       "      <td>a03223e636434f42ac4c3df47e8bac43</td>\n",
       "      <td>offer received</td>\n",
       "      <td>{'offer id': '0b1e1539f2cc45b7b9fa7c272da2e1d7'}</td>\n",
       "      <td>0</td>\n",
       "      <td>0b1e1539f2cc45b7b9fa7c272da2e1d7</td>\n",
       "      <td>None</td>\n",
       "      <td>NaN</td>\n",
       "      <td>20170804</td>\n",
       "      <td>NaN</td>\n",
       "      <td>1301</td>\n",
       "      <td>5</td>\n",
       "      <td>20</td>\n",
       "      <td>240</td>\n",
       "      <td>1</td>\n",
       "      <td>1</td>\n",
       "      <td>0</td>\n",
       "      <td>0</td>\n",
       "      <td>0</td>\n",
       "      <td>1</td>\n",
       "      <td>0</td>\n",
       "    </tr>\n",
       "    <tr>\n",
       "      <th>2</th>\n",
       "      <td>e2127556f4f64592b11af22de27a7932</td>\n",
       "      <td>offer received</td>\n",
       "      <td>{'offer id': '2906b810c7d4411798c6938adc9daaa5'}</td>\n",
       "      <td>0</td>\n",
       "      <td>2906b810c7d4411798c6938adc9daaa5</td>\n",
       "      <td>M</td>\n",
       "      <td>68.0</td>\n",
       "      <td>20180426</td>\n",
       "      <td>70000.0</td>\n",
       "      <td>1036</td>\n",
       "      <td>2</td>\n",
       "      <td>10</td>\n",
       "      <td>168</td>\n",
       "      <td>1</td>\n",
       "      <td>1</td>\n",
       "      <td>1</td>\n",
       "      <td>0</td>\n",
       "      <td>0</td>\n",
       "      <td>1</td>\n",
       "      <td>0</td>\n",
       "    </tr>\n",
       "    <tr>\n",
       "      <th>3</th>\n",
       "      <td>8ec6ce2a7e7949b1bf142def7d0e0586</td>\n",
       "      <td>offer received</td>\n",
       "      <td>{'offer id': 'fafdcd668e3743c1bb461111dcafc2a4'}</td>\n",
       "      <td>0</td>\n",
       "      <td>fafdcd668e3743c1bb461111dcafc2a4</td>\n",
       "      <td>None</td>\n",
       "      <td>NaN</td>\n",
       "      <td>20170925</td>\n",
       "      <td>NaN</td>\n",
       "      <td>1249</td>\n",
       "      <td>2</td>\n",
       "      <td>10</td>\n",
       "      <td>240</td>\n",
       "      <td>1</td>\n",
       "      <td>1</td>\n",
       "      <td>1</td>\n",
       "      <td>1</td>\n",
       "      <td>0</td>\n",
       "      <td>1</td>\n",
       "      <td>0</td>\n",
       "    </tr>\n",
       "    <tr>\n",
       "      <th>4</th>\n",
       "      <td>68617ca6246f4fbc85e91a2a49552598</td>\n",
       "      <td>offer received</td>\n",
       "      <td>{'offer id': '4d5c57ea9a6940dd891ad53e9dbe8da0'}</td>\n",
       "      <td>0</td>\n",
       "      <td>4d5c57ea9a6940dd891ad53e9dbe8da0</td>\n",
       "      <td>None</td>\n",
       "      <td>NaN</td>\n",
       "      <td>20171002</td>\n",
       "      <td>NaN</td>\n",
       "      <td>1242</td>\n",
       "      <td>10</td>\n",
       "      <td>10</td>\n",
       "      <td>120</td>\n",
       "      <td>1</td>\n",
       "      <td>1</td>\n",
       "      <td>1</td>\n",
       "      <td>1</td>\n",
       "      <td>1</td>\n",
       "      <td>0</td>\n",
       "      <td>0</td>\n",
       "    </tr>\n",
       "  </tbody>\n",
       "</table>\n",
       "</div>"
      ],
      "text/plain": [
       "                             the_id           event  \\\n",
       "0  78afa995795e4d85b5d9ceeca43f5fef  offer received   \n",
       "1  a03223e636434f42ac4c3df47e8bac43  offer received   \n",
       "2  e2127556f4f64592b11af22de27a7932  offer received   \n",
       "3  8ec6ce2a7e7949b1bf142def7d0e0586  offer received   \n",
       "4  68617ca6246f4fbc85e91a2a49552598  offer received   \n",
       "\n",
       "                                              value  time  \\\n",
       "0  {'offer id': '9b98b8c7a33c4b65b9aebfe6a799e6d9'}     0   \n",
       "1  {'offer id': '0b1e1539f2cc45b7b9fa7c272da2e1d7'}     0   \n",
       "2  {'offer id': '2906b810c7d4411798c6938adc9daaa5'}     0   \n",
       "3  {'offer id': 'fafdcd668e3743c1bb461111dcafc2a4'}     0   \n",
       "4  {'offer id': '4d5c57ea9a6940dd891ad53e9dbe8da0'}     0   \n",
       "\n",
       "                           offer_id gender   age  became_member_on    income  \\\n",
       "0  9b98b8c7a33c4b65b9aebfe6a799e6d9      F  75.0          20170509  100000.0   \n",
       "1  0b1e1539f2cc45b7b9fa7c272da2e1d7   None   NaN          20170804       NaN   \n",
       "2  2906b810c7d4411798c6938adc9daaa5      M  68.0          20180426   70000.0   \n",
       "3  fafdcd668e3743c1bb461111dcafc2a4   None   NaN          20170925       NaN   \n",
       "4  4d5c57ea9a6940dd891ad53e9dbe8da0   None   NaN          20171002       NaN   \n",
       "\n",
       "   memberdays  reward  difficulty  duration  web  email  mobile  social  bogo  \\\n",
       "0        1388       5           5       168    1      1       1       0     1   \n",
       "1        1301       5          20       240    1      1       0       0     0   \n",
       "2        1036       2          10       168    1      1       1       0     0   \n",
       "3        1249       2          10       240    1      1       1       1     0   \n",
       "4        1242      10          10       120    1      1       1       1     1   \n",
       "\n",
       "   discount  informational  \n",
       "0         0              0  \n",
       "1         1              0  \n",
       "2         1              0  \n",
       "3         1              0  \n",
       "4         0              0  "
      ]
     },
     "execution_count": 53,
     "metadata": {},
     "output_type": "execute_result"
    }
   ],
   "source": [
    "df.head()"
   ]
  },
  {
   "cell_type": "code",
   "execution_count": 54,
   "metadata": {},
   "outputs": [
    {
     "data": {
      "text/plain": [
       "array(['9b98b8c7a33c4b65b9aebfe6a799e6d9',\n",
       "       '0b1e1539f2cc45b7b9fa7c272da2e1d7',\n",
       "       '2906b810c7d4411798c6938adc9daaa5',\n",
       "       'fafdcd668e3743c1bb461111dcafc2a4',\n",
       "       '4d5c57ea9a6940dd891ad53e9dbe8da0',\n",
       "       'f19421c1d4aa40978ebb69ca19b0e20d',\n",
       "       '2298d6c36e964ae4a3e7e9706d1fb8c2',\n",
       "       '3f207df678b143eea3cee63160fa8bed',\n",
       "       'ae264e3637204a6fb9bb56bc8210ddfd',\n",
       "       '5a8bc65990b245e5a138643cd4eb9837'], dtype=object)"
      ]
     },
     "execution_count": 54,
     "metadata": {},
     "output_type": "execute_result"
    }
   ],
   "source": [
    "df.offer_id.unique()"
   ]
  },
  {
   "cell_type": "code",
   "execution_count": 55,
   "metadata": {},
   "outputs": [],
   "source": [
    "offer_id = {'ae264e3637204a6fb9bb56bc8210ddfd': 'O0',\n",
    "                '4d5c57ea9a6940dd891ad53e9dbe8da0': 'O1',\n",
    "                '9b98b8c7a33c4b65b9aebfe6a799e6d9': 'O2',\n",
    "                'f19421c1d4aa40978ebb69ca19b0e20d': 'O3',\n",
    "                '0b1e1539f2cc45b7b9fa7c272da2e1d7': 'O4',\n",
    "                '2298d6c36e964ae4a3e7e9706d1fb8c2': 'O5',\n",
    "                'fafdcd668e3743c1bb461111dcafc2a4': 'O6',\n",
    "                '2906b810c7d4411798c6938adc9daaa5': 'O7',\n",
    "                '3f207df678b143eea3cee63160fa8bed': 'O8',\n",
    "                '5a8bc65990b245e5a138643cd4eb9837': 'O9'}\n",
    "df.offer_id = df.offer_id.apply(lambda x: offer_id[x] if x else None)"
   ]
  },
  {
   "cell_type": "code",
   "execution_count": 56,
   "metadata": {},
   "outputs": [
    {
     "data": {
      "text/html": [
       "<div>\n",
       "<style scoped>\n",
       "    .dataframe tbody tr th:only-of-type {\n",
       "        vertical-align: middle;\n",
       "    }\n",
       "\n",
       "    .dataframe tbody tr th {\n",
       "        vertical-align: top;\n",
       "    }\n",
       "\n",
       "    .dataframe thead th {\n",
       "        text-align: right;\n",
       "    }\n",
       "</style>\n",
       "<table border=\"1\" class=\"dataframe\">\n",
       "  <thead>\n",
       "    <tr style=\"text-align: right;\">\n",
       "      <th></th>\n",
       "      <th>the_id</th>\n",
       "      <th>event</th>\n",
       "      <th>value</th>\n",
       "      <th>time</th>\n",
       "      <th>offer_id</th>\n",
       "      <th>gender</th>\n",
       "      <th>age</th>\n",
       "      <th>became_member_on</th>\n",
       "      <th>income</th>\n",
       "      <th>memberdays</th>\n",
       "      <th>reward</th>\n",
       "      <th>difficulty</th>\n",
       "      <th>duration</th>\n",
       "      <th>web</th>\n",
       "      <th>email</th>\n",
       "      <th>mobile</th>\n",
       "      <th>social</th>\n",
       "      <th>bogo</th>\n",
       "      <th>discount</th>\n",
       "      <th>informational</th>\n",
       "    </tr>\n",
       "  </thead>\n",
       "  <tbody>\n",
       "    <tr>\n",
       "      <th>0</th>\n",
       "      <td>78afa995795e4d85b5d9ceeca43f5fef</td>\n",
       "      <td>offer received</td>\n",
       "      <td>{'offer id': '9b98b8c7a33c4b65b9aebfe6a799e6d9'}</td>\n",
       "      <td>0</td>\n",
       "      <td>O2</td>\n",
       "      <td>F</td>\n",
       "      <td>75.0</td>\n",
       "      <td>20170509</td>\n",
       "      <td>100000.0</td>\n",
       "      <td>1388</td>\n",
       "      <td>5</td>\n",
       "      <td>5</td>\n",
       "      <td>168</td>\n",
       "      <td>1</td>\n",
       "      <td>1</td>\n",
       "      <td>1</td>\n",
       "      <td>0</td>\n",
       "      <td>1</td>\n",
       "      <td>0</td>\n",
       "      <td>0</td>\n",
       "    </tr>\n",
       "    <tr>\n",
       "      <th>1</th>\n",
       "      <td>a03223e636434f42ac4c3df47e8bac43</td>\n",
       "      <td>offer received</td>\n",
       "      <td>{'offer id': '0b1e1539f2cc45b7b9fa7c272da2e1d7'}</td>\n",
       "      <td>0</td>\n",
       "      <td>O4</td>\n",
       "      <td>None</td>\n",
       "      <td>NaN</td>\n",
       "      <td>20170804</td>\n",
       "      <td>NaN</td>\n",
       "      <td>1301</td>\n",
       "      <td>5</td>\n",
       "      <td>20</td>\n",
       "      <td>240</td>\n",
       "      <td>1</td>\n",
       "      <td>1</td>\n",
       "      <td>0</td>\n",
       "      <td>0</td>\n",
       "      <td>0</td>\n",
       "      <td>1</td>\n",
       "      <td>0</td>\n",
       "    </tr>\n",
       "    <tr>\n",
       "      <th>2</th>\n",
       "      <td>e2127556f4f64592b11af22de27a7932</td>\n",
       "      <td>offer received</td>\n",
       "      <td>{'offer id': '2906b810c7d4411798c6938adc9daaa5'}</td>\n",
       "      <td>0</td>\n",
       "      <td>O7</td>\n",
       "      <td>M</td>\n",
       "      <td>68.0</td>\n",
       "      <td>20180426</td>\n",
       "      <td>70000.0</td>\n",
       "      <td>1036</td>\n",
       "      <td>2</td>\n",
       "      <td>10</td>\n",
       "      <td>168</td>\n",
       "      <td>1</td>\n",
       "      <td>1</td>\n",
       "      <td>1</td>\n",
       "      <td>0</td>\n",
       "      <td>0</td>\n",
       "      <td>1</td>\n",
       "      <td>0</td>\n",
       "    </tr>\n",
       "    <tr>\n",
       "      <th>3</th>\n",
       "      <td>8ec6ce2a7e7949b1bf142def7d0e0586</td>\n",
       "      <td>offer received</td>\n",
       "      <td>{'offer id': 'fafdcd668e3743c1bb461111dcafc2a4'}</td>\n",
       "      <td>0</td>\n",
       "      <td>O6</td>\n",
       "      <td>None</td>\n",
       "      <td>NaN</td>\n",
       "      <td>20170925</td>\n",
       "      <td>NaN</td>\n",
       "      <td>1249</td>\n",
       "      <td>2</td>\n",
       "      <td>10</td>\n",
       "      <td>240</td>\n",
       "      <td>1</td>\n",
       "      <td>1</td>\n",
       "      <td>1</td>\n",
       "      <td>1</td>\n",
       "      <td>0</td>\n",
       "      <td>1</td>\n",
       "      <td>0</td>\n",
       "    </tr>\n",
       "    <tr>\n",
       "      <th>4</th>\n",
       "      <td>68617ca6246f4fbc85e91a2a49552598</td>\n",
       "      <td>offer received</td>\n",
       "      <td>{'offer id': '4d5c57ea9a6940dd891ad53e9dbe8da0'}</td>\n",
       "      <td>0</td>\n",
       "      <td>O1</td>\n",
       "      <td>None</td>\n",
       "      <td>NaN</td>\n",
       "      <td>20171002</td>\n",
       "      <td>NaN</td>\n",
       "      <td>1242</td>\n",
       "      <td>10</td>\n",
       "      <td>10</td>\n",
       "      <td>120</td>\n",
       "      <td>1</td>\n",
       "      <td>1</td>\n",
       "      <td>1</td>\n",
       "      <td>1</td>\n",
       "      <td>1</td>\n",
       "      <td>0</td>\n",
       "      <td>0</td>\n",
       "    </tr>\n",
       "  </tbody>\n",
       "</table>\n",
       "</div>"
      ],
      "text/plain": [
       "                             the_id           event  \\\n",
       "0  78afa995795e4d85b5d9ceeca43f5fef  offer received   \n",
       "1  a03223e636434f42ac4c3df47e8bac43  offer received   \n",
       "2  e2127556f4f64592b11af22de27a7932  offer received   \n",
       "3  8ec6ce2a7e7949b1bf142def7d0e0586  offer received   \n",
       "4  68617ca6246f4fbc85e91a2a49552598  offer received   \n",
       "\n",
       "                                              value  time offer_id gender  \\\n",
       "0  {'offer id': '9b98b8c7a33c4b65b9aebfe6a799e6d9'}     0       O2      F   \n",
       "1  {'offer id': '0b1e1539f2cc45b7b9fa7c272da2e1d7'}     0       O4   None   \n",
       "2  {'offer id': '2906b810c7d4411798c6938adc9daaa5'}     0       O7      M   \n",
       "3  {'offer id': 'fafdcd668e3743c1bb461111dcafc2a4'}     0       O6   None   \n",
       "4  {'offer id': '4d5c57ea9a6940dd891ad53e9dbe8da0'}     0       O1   None   \n",
       "\n",
       "    age  became_member_on    income  memberdays  reward  difficulty  duration  \\\n",
       "0  75.0          20170509  100000.0        1388       5           5       168   \n",
       "1   NaN          20170804       NaN        1301       5          20       240   \n",
       "2  68.0          20180426   70000.0        1036       2          10       168   \n",
       "3   NaN          20170925       NaN        1249       2          10       240   \n",
       "4   NaN          20171002       NaN        1242      10          10       120   \n",
       "\n",
       "   web  email  mobile  social  bogo  discount  informational  \n",
       "0    1      1       1       0     1         0              0  \n",
       "1    1      1       0       0     0         1              0  \n",
       "2    1      1       1       0     0         1              0  \n",
       "3    1      1       1       1     0         1              0  \n",
       "4    1      1       1       1     1         0              0  "
      ]
     },
     "execution_count": 56,
     "metadata": {},
     "output_type": "execute_result"
    }
   ],
   "source": [
    "df.head()"
   ]
  },
  {
   "cell_type": "code",
   "execution_count": 57,
   "metadata": {},
   "outputs": [
    {
     "name": "stderr",
     "output_type": "stream",
     "text": [
      "/home/mostafahaggag/Data_science_enviroment/data_science_enviroment/lib/python3.8/site-packages/seaborn/_decorators.py:36: FutureWarning: Pass the following variable as a keyword arg: x. From version 0.12, the only valid positional argument will be `data`, and passing other arguments without an explicit keyword will result in an error or misinterpretation.\n",
      "  warnings.warn(\n"
     ]
    },
    {
     "data": {
      "image/png": "[encoded data removed]",
      "text/plain": [
       "<Figure size 432x288 with 1 Axes>"
      ]
     },
     "metadata": {
      "needs_background": "light"
     },
     "output_type": "display_data"
    }
   ],
   "source": [
    "sns.countplot(df[df.bogo == 1].event);"
   ]
  },
  {
   "cell_type": "code",
   "execution_count": 75,
   "metadata": {},
   "outputs": [
    {
     "name": "stderr",
     "output_type": "stream",
     "text": [
      "/home/mostafahaggag/Data_science_enviroment/data_science_enviroment/lib/python3.8/site-packages/seaborn/_decorators.py:36: FutureWarning: Pass the following variable as a keyword arg: x. From version 0.12, the only valid positional argument will be `data`, and passing other arguments without an explicit keyword will result in an error or misinterpretation.\n",
      "  warnings.warn(\n",
      "/home/mostafahaggag/Data_science_enviroment/data_science_enviroment/lib/python3.8/site-packages/seaborn/_decorators.py:36: FutureWarning: Pass the following variable as a keyword arg: x. From version 0.12, the only valid positional argument will be `data`, and passing other arguments without an explicit keyword will result in an error or misinterpretation.\n",
      "  warnings.warn(\n",
      "/home/mostafahaggag/Data_science_enviroment/data_science_enviroment/lib/python3.8/site-packages/seaborn/_decorators.py:36: FutureWarning: Pass the following variable as a keyword arg: x. From version 0.12, the only valid positional argument will be `data`, and passing other arguments without an explicit keyword will result in an error or misinterpretation.\n",
      "  warnings.warn(\n"
     ]
    },
    {
     "data": {
      "text/plain": [
       "Text(0.5, 1.0, 'Offer Type -informational')"
      ]
     },
     "execution_count": 75,
     "metadata": {},
     "output_type": "execute_result"
    },
    {
     "data": {
      "image/png": "[encoded data removed]",
      "text/plain": [
       "<Figure size 1440x360 with 3 Axes>"
      ]
     },
     "metadata": {
      "needs_background": "light"
     },
     "output_type": "display_data"
    }
   ],
   "source": [
    "fig, ax =plt.subplots(1,3,figsize=(20,5))\n",
    "sns.countplot(df[df.bogo == 1].event,ax=ax[0]);\n",
    "ax[0].set_title('Offer Type -BOGO')\n",
    "sns.countplot(df[df.discount == 1].event,ax=ax[1]);\n",
    "ax[1].set_title('Offer Type -discount')\n",
    "sns.countplot(df[df.informational == 1].event,ax=ax[2]);\n",
    "ax[2].set_title('Offer Type -informational')\n"
   ]
  },
  {
   "cell_type": "code",
   "execution_count": 77,
   "metadata": {
    "scrolled": true
   },
   "outputs": [
    {
     "name": "stderr",
     "output_type": "stream",
     "text": [
      "/home/mostafahaggag/Data_science_enviroment/data_science_enviroment/lib/python3.8/site-packages/seaborn/_decorators.py:36: FutureWarning: Pass the following variable as a keyword arg: x. From version 0.12, the only valid positional argument will be `data`, and passing other arguments without an explicit keyword will result in an error or misinterpretation.\n",
      "  warnings.warn(\n",
      "/home/mostafahaggag/Data_science_enviroment/data_science_enviroment/lib/python3.8/site-packages/seaborn/_decorators.py:36: FutureWarning: Pass the following variable as a keyword arg: x. From version 0.12, the only valid positional argument will be `data`, and passing other arguments without an explicit keyword will result in an error or misinterpretation.\n",
      "  warnings.warn(\n"
     ]
    },
    {
     "data": {
      "text/plain": [
       "Text(0.5, 1.0, 'Most completed offer id')"
      ]
     },
     "execution_count": 77,
     "metadata": {},
     "output_type": "execute_result"
    },
    {
     "data": {
      "image/png": "[encoded data removed]",
      "text/plain": [
       "<Figure size 1440x360 with 3 Axes>"
      ]
     },
     "metadata": {
      "needs_background": "light"
     },
     "output_type": "display_data"
    }
   ],
   "source": [
    "fig, ax =plt.subplots(1,3,figsize=(20,5))\n",
    "sns.countplot(df[df.event == 'offer received'].offer_id,ax=ax[0]);\n",
    "ax[0].set_title('Most recieved')\n",
    "sns.countplot(df[df.event == 'offer viewed'].offer_id,ax=ax[1]);\n",
    "ax[1].set_title('Most viewed offer id')\n",
    "sns.countplot(df[df.event == 'offer completed'].offer_id,ax=ax[2]);\n",
    "ax[2].set_title('Most completed offer id')\n"
   ]
  },
  {
   "cell_type": "code",
   "execution_count": 90,
   "metadata": {},
   "outputs": [],
   "source": [
    "user_itemuoiouuoi = offer.groupby(['the_id', 'offer_id'])['event'].agg(lambda x: np.nan).unstack()\n",
    "# el homa 8 loops"
   ]
  },
  {
   "cell_type": "code",
   "execution_count": 91,
   "metadata": {
    "scrolled": true
   },
   "outputs": [
    {
     "data": {
      "text/html": [
       "<div>\n",
       "<style scoped>\n",
       "    .dataframe tbody tr th:only-of-type {\n",
       "        vertical-align: middle;\n",
       "    }\n",
       "\n",
       "    .dataframe tbody tr th {\n",
       "        vertical-align: top;\n",
       "    }\n",
       "\n",
       "    .dataframe thead th {\n",
       "        text-align: right;\n",
       "    }\n",
       "</style>\n",
       "<table border=\"1\" class=\"dataframe\">\n",
       "  <thead>\n",
       "    <tr style=\"text-align: right;\">\n",
       "      <th>offer_id</th>\n",
       "      <th>0b1e1539f2cc45b7b9fa7c272da2e1d7</th>\n",
       "      <th>2298d6c36e964ae4a3e7e9706d1fb8c2</th>\n",
       "      <th>2906b810c7d4411798c6938adc9daaa5</th>\n",
       "      <th>3f207df678b143eea3cee63160fa8bed</th>\n",
       "      <th>4d5c57ea9a6940dd891ad53e9dbe8da0</th>\n",
       "      <th>5a8bc65990b245e5a138643cd4eb9837</th>\n",
       "      <th>9b98b8c7a33c4b65b9aebfe6a799e6d9</th>\n",
       "      <th>ae264e3637204a6fb9bb56bc8210ddfd</th>\n",
       "      <th>f19421c1d4aa40978ebb69ca19b0e20d</th>\n",
       "      <th>fafdcd668e3743c1bb461111dcafc2a4</th>\n",
       "    </tr>\n",
       "    <tr>\n",
       "      <th>the_id</th>\n",
       "      <th></th>\n",
       "      <th></th>\n",
       "      <th></th>\n",
       "      <th></th>\n",
       "      <th></th>\n",
       "      <th></th>\n",
       "      <th></th>\n",
       "      <th></th>\n",
       "      <th></th>\n",
       "      <th></th>\n",
       "    </tr>\n",
       "  </thead>\n",
       "  <tbody>\n",
       "    <tr>\n",
       "      <th>0009655768c64bdeb2e877511632db8f</th>\n",
       "      <td>NaN</td>\n",
       "      <td>NaN</td>\n",
       "      <td>NaN</td>\n",
       "      <td>NaN</td>\n",
       "      <td>NaN</td>\n",
       "      <td>NaN</td>\n",
       "      <td>NaN</td>\n",
       "      <td>NaN</td>\n",
       "      <td>NaN</td>\n",
       "      <td>NaN</td>\n",
       "    </tr>\n",
       "    <tr>\n",
       "      <th>00116118485d4dfda04fdbaba9a87b5c</th>\n",
       "      <td>NaN</td>\n",
       "      <td>NaN</td>\n",
       "      <td>NaN</td>\n",
       "      <td>NaN</td>\n",
       "      <td>NaN</td>\n",
       "      <td>NaN</td>\n",
       "      <td>NaN</td>\n",
       "      <td>NaN</td>\n",
       "      <td>NaN</td>\n",
       "      <td>NaN</td>\n",
       "    </tr>\n",
       "    <tr>\n",
       "      <th>0011e0d4e6b944f998e987f904e8c1e5</th>\n",
       "      <td>NaN</td>\n",
       "      <td>NaN</td>\n",
       "      <td>NaN</td>\n",
       "      <td>NaN</td>\n",
       "      <td>NaN</td>\n",
       "      <td>NaN</td>\n",
       "      <td>NaN</td>\n",
       "      <td>NaN</td>\n",
       "      <td>NaN</td>\n",
       "      <td>NaN</td>\n",
       "    </tr>\n",
       "    <tr>\n",
       "      <th>0020c2b971eb4e9188eac86d93036a77</th>\n",
       "      <td>NaN</td>\n",
       "      <td>NaN</td>\n",
       "      <td>NaN</td>\n",
       "      <td>NaN</td>\n",
       "      <td>NaN</td>\n",
       "      <td>NaN</td>\n",
       "      <td>NaN</td>\n",
       "      <td>NaN</td>\n",
       "      <td>NaN</td>\n",
       "      <td>NaN</td>\n",
       "    </tr>\n",
       "    <tr>\n",
       "      <th>0020ccbbb6d84e358d3414a3ff76cffd</th>\n",
       "      <td>NaN</td>\n",
       "      <td>NaN</td>\n",
       "      <td>NaN</td>\n",
       "      <td>NaN</td>\n",
       "      <td>NaN</td>\n",
       "      <td>NaN</td>\n",
       "      <td>NaN</td>\n",
       "      <td>NaN</td>\n",
       "      <td>NaN</td>\n",
       "      <td>NaN</td>\n",
       "    </tr>\n",
       "    <tr>\n",
       "      <th>...</th>\n",
       "      <td>...</td>\n",
       "      <td>...</td>\n",
       "      <td>...</td>\n",
       "      <td>...</td>\n",
       "      <td>...</td>\n",
       "      <td>...</td>\n",
       "      <td>...</td>\n",
       "      <td>...</td>\n",
       "      <td>...</td>\n",
       "      <td>...</td>\n",
       "    </tr>\n",
       "    <tr>\n",
       "      <th>fff3ba4757bd42088c044ca26d73817a</th>\n",
       "      <td>NaN</td>\n",
       "      <td>NaN</td>\n",
       "      <td>NaN</td>\n",
       "      <td>NaN</td>\n",
       "      <td>NaN</td>\n",
       "      <td>NaN</td>\n",
       "      <td>NaN</td>\n",
       "      <td>NaN</td>\n",
       "      <td>NaN</td>\n",
       "      <td>NaN</td>\n",
       "    </tr>\n",
       "    <tr>\n",
       "      <th>fff7576017104bcc8677a8d63322b5e1</th>\n",
       "      <td>NaN</td>\n",
       "      <td>NaN</td>\n",
       "      <td>NaN</td>\n",
       "      <td>NaN</td>\n",
       "      <td>NaN</td>\n",
       "      <td>NaN</td>\n",
       "      <td>NaN</td>\n",
       "      <td>NaN</td>\n",
       "      <td>NaN</td>\n",
       "      <td>NaN</td>\n",
       "    </tr>\n",
       "    <tr>\n",
       "      <th>fff8957ea8b240a6b5e634b6ee8eafcf</th>\n",
       "      <td>NaN</td>\n",
       "      <td>NaN</td>\n",
       "      <td>NaN</td>\n",
       "      <td>NaN</td>\n",
       "      <td>NaN</td>\n",
       "      <td>NaN</td>\n",
       "      <td>NaN</td>\n",
       "      <td>NaN</td>\n",
       "      <td>NaN</td>\n",
       "      <td>NaN</td>\n",
       "    </tr>\n",
       "    <tr>\n",
       "      <th>fffad4f4828548d1b5583907f2e9906b</th>\n",
       "      <td>NaN</td>\n",
       "      <td>NaN</td>\n",
       "      <td>NaN</td>\n",
       "      <td>NaN</td>\n",
       "      <td>NaN</td>\n",
       "      <td>NaN</td>\n",
       "      <td>NaN</td>\n",
       "      <td>NaN</td>\n",
       "      <td>NaN</td>\n",
       "      <td>NaN</td>\n",
       "    </tr>\n",
       "    <tr>\n",
       "      <th>ffff82501cea40309d5fdd7edcca4a07</th>\n",
       "      <td>NaN</td>\n",
       "      <td>NaN</td>\n",
       "      <td>NaN</td>\n",
       "      <td>NaN</td>\n",
       "      <td>NaN</td>\n",
       "      <td>NaN</td>\n",
       "      <td>NaN</td>\n",
       "      <td>NaN</td>\n",
       "      <td>NaN</td>\n",
       "      <td>NaN</td>\n",
       "    </tr>\n",
       "  </tbody>\n",
       "</table>\n",
       "<p>16994 rows × 10 columns</p>\n",
       "</div>"
      ],
      "text/plain": [
       "offer_id                          0b1e1539f2cc45b7b9fa7c272da2e1d7  \\\n",
       "the_id                                                               \n",
       "0009655768c64bdeb2e877511632db8f                               NaN   \n",
       "00116118485d4dfda04fdbaba9a87b5c                               NaN   \n",
       "0011e0d4e6b944f998e987f904e8c1e5                               NaN   \n",
       "0020c2b971eb4e9188eac86d93036a77                               NaN   \n",
       "0020ccbbb6d84e358d3414a3ff76cffd                               NaN   \n",
       "...                                                            ...   \n",
       "fff3ba4757bd42088c044ca26d73817a                               NaN   \n",
       "fff7576017104bcc8677a8d63322b5e1                               NaN   \n",
       "fff8957ea8b240a6b5e634b6ee8eafcf                               NaN   \n",
       "fffad4f4828548d1b5583907f2e9906b                               NaN   \n",
       "ffff82501cea40309d5fdd7edcca4a07                               NaN   \n",
       "\n",
       "offer_id                          2298d6c36e964ae4a3e7e9706d1fb8c2  \\\n",
       "the_id                                                               \n",
       "0009655768c64bdeb2e877511632db8f                               NaN   \n",
       "00116118485d4dfda04fdbaba9a87b5c                               NaN   \n",
       "0011e0d4e6b944f998e987f904e8c1e5                               NaN   \n",
       "0020c2b971eb4e9188eac86d93036a77                               NaN   \n",
       "0020ccbbb6d84e358d3414a3ff76cffd                               NaN   \n",
       "...                                                            ...   \n",
       "fff3ba4757bd42088c044ca26d73817a                               NaN   \n",
       "fff7576017104bcc8677a8d63322b5e1                               NaN   \n",
       "fff8957ea8b240a6b5e634b6ee8eafcf                               NaN   \n",
       "fffad4f4828548d1b5583907f2e9906b                               NaN   \n",
       "ffff82501cea40309d5fdd7edcca4a07                               NaN   \n",
       "\n",
       "offer_id                          2906b810c7d4411798c6938adc9daaa5  \\\n",
       "the_id                                                               \n",
       "0009655768c64bdeb2e877511632db8f                               NaN   \n",
       "00116118485d4dfda04fdbaba9a87b5c                               NaN   \n",
       "0011e0d4e6b944f998e987f904e8c1e5                               NaN   \n",
       "0020c2b971eb4e9188eac86d93036a77                               NaN   \n",
       "0020ccbbb6d84e358d3414a3ff76cffd                               NaN   \n",
       "...                                                            ...   \n",
       "fff3ba4757bd42088c044ca26d73817a                               NaN   \n",
       "fff7576017104bcc8677a8d63322b5e1                               NaN   \n",
       "fff8957ea8b240a6b5e634b6ee8eafcf                               NaN   \n",
       "fffad4f4828548d1b5583907f2e9906b                               NaN   \n",
       "ffff82501cea40309d5fdd7edcca4a07                               NaN   \n",
       "\n",
       "offer_id                          3f207df678b143eea3cee63160fa8bed  \\\n",
       "the_id                                                               \n",
       "0009655768c64bdeb2e877511632db8f                               NaN   \n",
       "00116118485d4dfda04fdbaba9a87b5c                               NaN   \n",
       "0011e0d4e6b944f998e987f904e8c1e5                               NaN   \n",
       "0020c2b971eb4e9188eac86d93036a77                               NaN   \n",
       "0020ccbbb6d84e358d3414a3ff76cffd                               NaN   \n",
       "...                                                            ...   \n",
       "fff3ba4757bd42088c044ca26d73817a                               NaN   \n",
       "fff7576017104bcc8677a8d63322b5e1                               NaN   \n",
       "fff8957ea8b240a6b5e634b6ee8eafcf                               NaN   \n",
       "fffad4f4828548d1b5583907f2e9906b                               NaN   \n",
       "ffff82501cea40309d5fdd7edcca4a07                               NaN   \n",
       "\n",
       "offer_id                          4d5c57ea9a6940dd891ad53e9dbe8da0  \\\n",
       "the_id                                                               \n",
       "0009655768c64bdeb2e877511632db8f                               NaN   \n",
       "00116118485d4dfda04fdbaba9a87b5c                               NaN   \n",
       "0011e0d4e6b944f998e987f904e8c1e5                               NaN   \n",
       "0020c2b971eb4e9188eac86d93036a77                               NaN   \n",
       "0020ccbbb6d84e358d3414a3ff76cffd                               NaN   \n",
       "...                                                            ...   \n",
       "fff3ba4757bd42088c044ca26d73817a                               NaN   \n",
       "fff7576017104bcc8677a8d63322b5e1                               NaN   \n",
       "fff8957ea8b240a6b5e634b6ee8eafcf                               NaN   \n",
       "fffad4f4828548d1b5583907f2e9906b                               NaN   \n",
       "ffff82501cea40309d5fdd7edcca4a07                               NaN   \n",
       "\n",
       "offer_id                          5a8bc65990b245e5a138643cd4eb9837  \\\n",
       "the_id                                                               \n",
       "0009655768c64bdeb2e877511632db8f                               NaN   \n",
       "00116118485d4dfda04fdbaba9a87b5c                               NaN   \n",
       "0011e0d4e6b944f998e987f904e8c1e5                               NaN   \n",
       "0020c2b971eb4e9188eac86d93036a77                               NaN   \n",
       "0020ccbbb6d84e358d3414a3ff76cffd                               NaN   \n",
       "...                                                            ...   \n",
       "fff3ba4757bd42088c044ca26d73817a                               NaN   \n",
       "fff7576017104bcc8677a8d63322b5e1                               NaN   \n",
       "fff8957ea8b240a6b5e634b6ee8eafcf                               NaN   \n",
       "fffad4f4828548d1b5583907f2e9906b                               NaN   \n",
       "ffff82501cea40309d5fdd7edcca4a07                               NaN   \n",
       "\n",
       "offer_id                          9b98b8c7a33c4b65b9aebfe6a799e6d9  \\\n",
       "the_id                                                               \n",
       "0009655768c64bdeb2e877511632db8f                               NaN   \n",
       "00116118485d4dfda04fdbaba9a87b5c                               NaN   \n",
       "0011e0d4e6b944f998e987f904e8c1e5                               NaN   \n",
       "0020c2b971eb4e9188eac86d93036a77                               NaN   \n",
       "0020ccbbb6d84e358d3414a3ff76cffd                               NaN   \n",
       "...                                                            ...   \n",
       "fff3ba4757bd42088c044ca26d73817a                               NaN   \n",
       "fff7576017104bcc8677a8d63322b5e1                               NaN   \n",
       "fff8957ea8b240a6b5e634b6ee8eafcf                               NaN   \n",
       "fffad4f4828548d1b5583907f2e9906b                               NaN   \n",
       "ffff82501cea40309d5fdd7edcca4a07                               NaN   \n",
       "\n",
       "offer_id                          ae264e3637204a6fb9bb56bc8210ddfd  \\\n",
       "the_id                                                               \n",
       "0009655768c64bdeb2e877511632db8f                               NaN   \n",
       "00116118485d4dfda04fdbaba9a87b5c                               NaN   \n",
       "0011e0d4e6b944f998e987f904e8c1e5                               NaN   \n",
       "0020c2b971eb4e9188eac86d93036a77                               NaN   \n",
       "0020ccbbb6d84e358d3414a3ff76cffd                               NaN   \n",
       "...                                                            ...   \n",
       "fff3ba4757bd42088c044ca26d73817a                               NaN   \n",
       "fff7576017104bcc8677a8d63322b5e1                               NaN   \n",
       "fff8957ea8b240a6b5e634b6ee8eafcf                               NaN   \n",
       "fffad4f4828548d1b5583907f2e9906b                               NaN   \n",
       "ffff82501cea40309d5fdd7edcca4a07                               NaN   \n",
       "\n",
       "offer_id                          f19421c1d4aa40978ebb69ca19b0e20d  \\\n",
       "the_id                                                               \n",
       "0009655768c64bdeb2e877511632db8f                               NaN   \n",
       "00116118485d4dfda04fdbaba9a87b5c                               NaN   \n",
       "0011e0d4e6b944f998e987f904e8c1e5                               NaN   \n",
       "0020c2b971eb4e9188eac86d93036a77                               NaN   \n",
       "0020ccbbb6d84e358d3414a3ff76cffd                               NaN   \n",
       "...                                                            ...   \n",
       "fff3ba4757bd42088c044ca26d73817a                               NaN   \n",
       "fff7576017104bcc8677a8d63322b5e1                               NaN   \n",
       "fff8957ea8b240a6b5e634b6ee8eafcf                               NaN   \n",
       "fffad4f4828548d1b5583907f2e9906b                               NaN   \n",
       "ffff82501cea40309d5fdd7edcca4a07                               NaN   \n",
       "\n",
       "offer_id                          fafdcd668e3743c1bb461111dcafc2a4  \n",
       "the_id                                                              \n",
       "0009655768c64bdeb2e877511632db8f                               NaN  \n",
       "00116118485d4dfda04fdbaba9a87b5c                               NaN  \n",
       "0011e0d4e6b944f998e987f904e8c1e5                               NaN  \n",
       "0020c2b971eb4e9188eac86d93036a77                               NaN  \n",
       "0020ccbbb6d84e358d3414a3ff76cffd                               NaN  \n",
       "...                                                            ...  \n",
       "fff3ba4757bd42088c044ca26d73817a                               NaN  \n",
       "fff7576017104bcc8677a8d63322b5e1                               NaN  \n",
       "fff8957ea8b240a6b5e634b6ee8eafcf                               NaN  \n",
       "fffad4f4828548d1b5583907f2e9906b                               NaN  \n",
       "ffff82501cea40309d5fdd7edcca4a07                               NaN  \n",
       "\n",
       "[16994 rows x 10 columns]"
      ]
     },
     "execution_count": 91,
     "metadata": {},
     "output_type": "execute_result"
    }
   ],
   "source": [
    "user_itemuoiouuoi"
   ]
  },
  {
   "cell_type": "code",
   "execution_count": 92,
   "metadata": {},
   "outputs": [
    {
     "data": {
      "text/plain": [
       "['3f207df678b143eea3cee63160fa8bed', '5a8bc65990b245e5a138643cd4eb9837']"
      ]
     },
     "execution_count": 92,
     "metadata": {},
     "output_type": "execute_result"
    }
   ],
   "source": [
    "list(new_clean_portfolio[new_clean_portfolio['informational']==1]['offer_id'])"
   ]
  },
  {
   "cell_type": "code",
   "execution_count": 104,
   "metadata": {},
   "outputs": [
    {
     "data": {
      "text/plain": [
       "Series([], Name: event, dtype: object)"
      ]
     },
     "execution_count": 104,
     "metadata": {},
     "output_type": "execute_result"
    }
   ],
   "source": [
    "offer[(offer['offer_id']=='f19421c1d4aa40978ebb69ca19b0e20d') & (offer['the_id']=='fff8957ea8b240a6b5e634b6ee8eafcf')]['event']"
   ]
  },
  {
   "cell_type": "code",
   "execution_count": 60,
   "metadata": {},
   "outputs": [],
   "source": [
    "def create_user_item_matrix(offer, filename):\n",
    "    '''\n",
    "    Return the user item matrix that indicate the number of offer complete of a particular user\n",
    "    \n",
    "    INPUT:\n",
    "    offer - a cleaned transcript dataframe\n",
    "    filename(string) - the file name that save the user item matrix\n",
    "    \n",
    "    OUTPUT:\n",
    "    user_item_matrix - the user item matrix which \n",
    "        - row is user \n",
    "        - column is offer\n",
    "        - value is the number of offer complete by the user (NaN means no offer given)\n",
    "    \n",
    "    '''\n",
    "    # create an empty user item matrix\n",
    "    user_item_matrix = offer.groupby(['the_id', 'offer_id'])['event'].agg(lambda x: np.nan).unstack()\n",
    "    \n",
    "    # we just focus on bogo and discount miany\n",
    "    user_item_matrix.drop(list(new_clean_portfolio[new_clean_portfolio['informational']==1]['offer_id']), axis=1, inplace=True)\n",
    "    \n",
    "    for offer_id in user_item_matrix.columns:\n",
    "        print(\"Now processing: \", offer_id)\n",
    "        for the_id in user_item_matrix.index:\n",
    "            events = []\n",
    "            for event in offer[(offer['offer_id']==offer_id) & (offer['the_id']==the_id)]['event']:\n",
    "                events.append(event)\n",
    "            if len(events) >= 3:\n",
    "                user_item_matrix.loc[the_id, offer_id] = 0\n",
    "                for i in range(len(events)-2):\n",
    "                    # check if the transaction sequence is offer received -> offer viewed -> offer completed\n",
    "                    # if yes, we assume the user reacted positively with the offer we provided.\n",
    "                    if (events[i] == 'offer received') & (events[i+1] == 'offer viewed') & (events[i+2] == 'offer completed'):\n",
    "                        user_item_matrix.loc[the_id, offer_id] += 1\n",
    "            elif len(events) > 0:\n",
    "                user_item_matrix.loc[the_id, offer_id] = 0\n",
    "    \n",
    "    # store the large martix into file\n",
    "    fh = open(filename, 'wb')\n",
    "    pickle.dump(user_item_matrix,fh)\n",
    "    fh.close()\n",
    "    \n",
    "    return user_item_matrix"
   ]
  },
  {
   "cell_type": "code",
   "execution_count": 64,
   "metadata": {},
   "outputs": [
    {
     "name": "stdout",
     "output_type": "stream",
     "text": [
      "Now processing:  0b1e1539f2cc45b7b9fa7c272da2e1d7\n",
      "Now processing:  2298d6c36e964ae4a3e7e9706d1fb8c2\n",
      "Now processing:  2906b810c7d4411798c6938adc9daaa5\n",
      "Now processing:  4d5c57ea9a6940dd891ad53e9dbe8da0\n",
      "Now processing:  9b98b8c7a33c4b65b9aebfe6a799e6d9\n",
      "Now processing:  ae264e3637204a6fb9bb56bc8210ddfd\n",
      "Now processing:  f19421c1d4aa40978ebb69ca19b0e20d\n",
      "Now processing:  fafdcd668e3743c1bb461111dcafc2a4\n"
     ]
    }
   ],
   "source": [
    "#full_df = create_user_item_matrix(offer, 'full_data_df.p')"
   ]
  },
  {
   "cell_type": "code",
   "execution_count": 61,
   "metadata": {},
   "outputs": [],
   "source": [
    "full_df = pd.read_pickle('full_data_df.p')"
   ]
  },
  {
   "cell_type": "code",
   "execution_count": 62,
   "metadata": {},
   "outputs": [
    {
     "data": {
      "text/plain": [
       "(117306, 50275)"
      ]
     },
     "execution_count": 62,
     "metadata": {},
     "output_type": "execute_result"
    }
   ],
   "source": [
    "train_size = int(offer.shape[0]*0.7)\n",
    "test_size = offer.shape[0] - train_size\n",
    "train_size, test_size"
   ]
  },
  {
   "cell_type": "code",
   "execution_count": 63,
   "metadata": {},
   "outputs": [],
   "source": [
    "train_offer = offer[:train_size]"
   ]
  },
  {
   "cell_type": "code",
   "execution_count": 64,
   "metadata": {},
   "outputs": [],
   "source": [
    "test_offer = offer[train_size:]"
   ]
  },
  {
   "cell_type": "code",
   "execution_count": 65,
   "metadata": {
    "scrolled": true
   },
   "outputs": [],
   "source": [
    "#train_df = create_user_item_matrix(train_offer, 'train_df.p')"
   ]
  },
  {
   "cell_type": "code",
   "execution_count": 66,
   "metadata": {},
   "outputs": [],
   "source": [
    "train_df = pd.read_pickle('train_df.p')"
   ]
  },
  {
   "cell_type": "code",
   "execution_count": 67,
   "metadata": {},
   "outputs": [],
   "source": [
    "#test_df = create_user_item_matrix(test_offer, 'test_df.p')"
   ]
  },
  {
   "cell_type": "code",
   "execution_count": 68,
   "metadata": {},
   "outputs": [],
   "source": [
    "test_df = pd.read_pickle('test_df.p')"
   ]
  },
  {
   "cell_type": "code",
   "execution_count": 68,
   "metadata": {},
   "outputs": [],
   "source": [
    "def FunkSVD(complete_mat, latent_features=12, learning_rate=0.0001, iters=100):\n",
    "    '''\n",
    "    This function performs matrix factorization using a basic form of FunkSVD with no regularization\n",
    "    \n",
    "    INPUT:\n",
    "    complete_mat - (numpy array) a matrix with users as rows, offers as columns, and offer completed as values\n",
    "    latent_features - (int) the number of latent features used\n",
    "    learning_rate - (float) the learning rate \n",
    "    iters - (int) the number of iterations\n",
    "    \n",
    "    OUTPUT:\n",
    "    user_mat - (numpy array) a user by latent feature matrix\n",
    "    offer_mat - (numpy array) a latent feature by offer matrix\n",
    "    '''\n",
    "    \n",
    "    # Set up useful values to be used through the rest of the function\n",
    "    n_users = complete_mat.shape[0]\n",
    "    n_offers = complete_mat.shape[1]\n",
    "    num_complete = np.count_nonzero(~np.isnan(complete_mat))\n",
    "    \n",
    "    # initialize the user and movie matrices with random values\n",
    "    user_mat = np.random.rand(n_users, latent_features)\n",
    "    offer_mat = np.random.rand(latent_features, n_offers)\n",
    "    \n",
    "    # initialize sse at 0 for first iteration\n",
    "    sse_accum = 0\n",
    "    \n",
    "    # keep track of iteration and MSE\n",
    "    print(\"Optimizaiton Statistics\")\n",
    "    print(\"Iterations | Mean Squared Error \")\n",
    "    \n",
    "    # for each iteration\n",
    "    for iteration in range(iters):\n",
    "\n",
    "        # update our sse\n",
    "        old_sse = sse_accum\n",
    "        sse_accum = 0\n",
    "        \n",
    "        # For each user-offer pair\n",
    "        for i in range(n_users):\n",
    "            for j in range(n_offers):\n",
    "                \n",
    "                # if the rating exists\n",
    "                if complete_mat[i, j] >= 0:\n",
    "                    \n",
    "                    # compute the error as the actual minus the dot product of the user and offer latent features\n",
    "                    diff = complete_mat[i, j] - np.dot(user_mat[i, :], offer_mat[:, j])\n",
    "                    \n",
    "                    # Keep track of the sum of squared errors for the matrix\n",
    "                    sse_accum += diff**2\n",
    "                    \n",
    "                    # update the values in each matrix in the direction of the gradient\n",
    "                    for k in range(latent_features):\n",
    "                        user_mat[i, k] += learning_rate * (2*diff*offer_mat[k, j])\n",
    "                        offer_mat[k, j] += learning_rate * (2*diff*user_mat[i, k])\n",
    "\n",
    "        # print results\n",
    "        print(\"%d \\t\\t %f\" % (iteration+1, sse_accum / num_complete))\n",
    "        \n",
    "    return user_mat, offer_mat"
   ]
  },
  {
   "cell_type": "code",
   "execution_count": 71,
   "metadata": {},
   "outputs": [
    {
     "name": "stdout",
     "output_type": "stream",
     "text": [
      "Optimizaiton Statistics\n",
      "Iterations | Mean Squared Error \n",
      "1 \t\t 0.314854\n",
      "2 \t\t 0.267335\n",
      "3 \t\t 0.266970\n",
      "4 \t\t 0.266604\n",
      "5 \t\t 0.266233\n",
      "6 \t\t 0.265857\n",
      "7 \t\t 0.265476\n",
      "8 \t\t 0.265089\n",
      "9 \t\t 0.264696\n",
      "10 \t\t 0.264296\n",
      "11 \t\t 0.263890\n",
      "12 \t\t 0.263475\n",
      "13 \t\t 0.263053\n",
      "14 \t\t 0.262621\n",
      "15 \t\t 0.262180\n",
      "16 \t\t 0.261729\n",
      "17 \t\t 0.261267\n",
      "18 \t\t 0.260794\n",
      "19 \t\t 0.260307\n",
      "20 \t\t 0.259808\n",
      "21 \t\t 0.259294\n",
      "22 \t\t 0.258764\n",
      "23 \t\t 0.258218\n",
      "24 \t\t 0.257655\n",
      "25 \t\t 0.257072\n",
      "26 \t\t 0.256469\n",
      "27 \t\t 0.255845\n",
      "28 \t\t 0.255197\n",
      "29 \t\t 0.254525\n",
      "30 \t\t 0.253826\n",
      "31 \t\t 0.253099\n",
      "32 \t\t 0.252342\n",
      "33 \t\t 0.251553\n",
      "34 \t\t 0.250731\n",
      "35 \t\t 0.249872\n",
      "36 \t\t 0.248975\n",
      "37 \t\t 0.248038\n",
      "38 \t\t 0.247057\n",
      "39 \t\t 0.246031\n",
      "40 \t\t 0.244958\n",
      "41 \t\t 0.243834\n",
      "42 \t\t 0.242656\n",
      "43 \t\t 0.241423\n",
      "44 \t\t 0.240132\n",
      "45 \t\t 0.238779\n",
      "46 \t\t 0.237363\n",
      "47 \t\t 0.235879\n",
      "48 \t\t 0.234327\n",
      "49 \t\t 0.232703\n",
      "50 \t\t 0.231005\n",
      "51 \t\t 0.229231\n",
      "52 \t\t 0.227379\n",
      "53 \t\t 0.225446\n",
      "54 \t\t 0.223432\n",
      "55 \t\t 0.221335\n",
      "56 \t\t 0.219155\n",
      "57 \t\t 0.216889\n",
      "58 \t\t 0.214540\n",
      "59 \t\t 0.212106\n",
      "60 \t\t 0.209588\n",
      "61 \t\t 0.206988\n",
      "62 \t\t 0.204307\n",
      "63 \t\t 0.201548\n",
      "64 \t\t 0.198714\n",
      "65 \t\t 0.195807\n",
      "66 \t\t 0.192831\n",
      "67 \t\t 0.189790\n",
      "68 \t\t 0.186690\n",
      "69 \t\t 0.183536\n",
      "70 \t\t 0.180331\n",
      "71 \t\t 0.177084\n",
      "72 \t\t 0.173799\n",
      "73 \t\t 0.170483\n",
      "74 \t\t 0.167142\n",
      "75 \t\t 0.163783\n",
      "76 \t\t 0.160412\n",
      "77 \t\t 0.157037\n",
      "78 \t\t 0.153662\n",
      "79 \t\t 0.150295\n",
      "80 \t\t 0.146941\n",
      "81 \t\t 0.143606\n",
      "82 \t\t 0.140296\n",
      "83 \t\t 0.137016\n",
      "84 \t\t 0.133771\n",
      "85 \t\t 0.130564\n",
      "86 \t\t 0.127400\n",
      "87 \t\t 0.124283\n",
      "88 \t\t 0.121216\n",
      "89 \t\t 0.118201\n",
      "90 \t\t 0.115241\n",
      "91 \t\t 0.112338\n",
      "92 \t\t 0.109494\n",
      "93 \t\t 0.106710\n",
      "94 \t\t 0.103986\n",
      "95 \t\t 0.101325\n",
      "96 \t\t 0.098725\n",
      "97 \t\t 0.096188\n",
      "98 \t\t 0.093713\n",
      "99 \t\t 0.091300\n",
      "100 \t\t 0.088949\n",
      "101 \t\t 0.086658\n",
      "102 \t\t 0.084428\n",
      "103 \t\t 0.082257\n",
      "104 \t\t 0.080144\n",
      "105 \t\t 0.078088\n",
      "106 \t\t 0.076088\n",
      "107 \t\t 0.074144\n",
      "108 \t\t 0.072252\n",
      "109 \t\t 0.070413\n",
      "110 \t\t 0.068625\n",
      "111 \t\t 0.066887\n",
      "112 \t\t 0.065196\n",
      "113 \t\t 0.063553\n",
      "114 \t\t 0.061955\n",
      "115 \t\t 0.060402\n",
      "116 \t\t 0.058891\n",
      "117 \t\t 0.057422\n",
      "118 \t\t 0.055993\n",
      "119 \t\t 0.054604\n",
      "120 \t\t 0.053253\n",
      "121 \t\t 0.051938\n",
      "122 \t\t 0.050659\n",
      "123 \t\t 0.049415\n",
      "124 \t\t 0.048204\n",
      "125 \t\t 0.047025\n",
      "126 \t\t 0.045878\n",
      "127 \t\t 0.044762\n",
      "128 \t\t 0.043675\n",
      "129 \t\t 0.042616\n",
      "130 \t\t 0.041586\n",
      "131 \t\t 0.040582\n",
      "132 \t\t 0.039605\n",
      "133 \t\t 0.038653\n",
      "134 \t\t 0.037726\n",
      "135 \t\t 0.036822\n",
      "136 \t\t 0.035942\n",
      "137 \t\t 0.035085\n",
      "138 \t\t 0.034249\n",
      "139 \t\t 0.033434\n",
      "140 \t\t 0.032640\n",
      "141 \t\t 0.031866\n",
      "142 \t\t 0.031112\n",
      "143 \t\t 0.030376\n",
      "144 \t\t 0.029659\n",
      "145 \t\t 0.028959\n",
      "146 \t\t 0.028277\n",
      "147 \t\t 0.027612\n",
      "148 \t\t 0.026963\n",
      "149 \t\t 0.026330\n",
      "150 \t\t 0.025712\n",
      "151 \t\t 0.025109\n",
      "152 \t\t 0.024521\n",
      "153 \t\t 0.023947\n",
      "154 \t\t 0.023387\n",
      "155 \t\t 0.022840\n",
      "156 \t\t 0.022306\n",
      "157 \t\t 0.021785\n",
      "158 \t\t 0.021276\n",
      "159 \t\t 0.020779\n",
      "160 \t\t 0.020293\n",
      "161 \t\t 0.019819\n",
      "162 \t\t 0.019355\n",
      "163 \t\t 0.018903\n",
      "164 \t\t 0.018460\n",
      "165 \t\t 0.018028\n",
      "166 \t\t 0.017605\n",
      "167 \t\t 0.017193\n",
      "168 \t\t 0.016789\n",
      "169 \t\t 0.016394\n",
      "170 \t\t 0.016009\n",
      "171 \t\t 0.015631\n",
      "172 \t\t 0.015263\n",
      "173 \t\t 0.014902\n",
      "174 \t\t 0.014550\n",
      "175 \t\t 0.014205\n",
      "176 \t\t 0.013867\n",
      "177 \t\t 0.013538\n",
      "178 \t\t 0.013215\n",
      "179 \t\t 0.012899\n",
      "180 \t\t 0.012591\n",
      "181 \t\t 0.012289\n",
      "182 \t\t 0.011994\n",
      "183 \t\t 0.011705\n",
      "184 \t\t 0.011423\n",
      "185 \t\t 0.011146\n",
      "186 \t\t 0.010876\n",
      "187 \t\t 0.010612\n",
      "188 \t\t 0.010354\n",
      "189 \t\t 0.010101\n",
      "190 \t\t 0.009854\n",
      "191 \t\t 0.009612\n",
      "192 \t\t 0.009376\n",
      "193 \t\t 0.009145\n",
      "194 \t\t 0.008919\n",
      "195 \t\t 0.008698\n",
      "196 \t\t 0.008483\n",
      "197 \t\t 0.008272\n",
      "198 \t\t 0.008066\n",
      "199 \t\t 0.007864\n",
      "200 \t\t 0.007667\n",
      "201 \t\t 0.007475\n",
      "202 \t\t 0.007287\n",
      "203 \t\t 0.007104\n",
      "204 \t\t 0.006925\n",
      "205 \t\t 0.006749\n",
      "206 \t\t 0.006579\n",
      "207 \t\t 0.006412\n",
      "208 \t\t 0.006249\n",
      "209 \t\t 0.006090\n",
      "210 \t\t 0.005934\n",
      "211 \t\t 0.005783\n",
      "212 \t\t 0.005635\n",
      "213 \t\t 0.005490\n",
      "214 \t\t 0.005350\n",
      "215 \t\t 0.005212\n",
      "216 \t\t 0.005078\n",
      "217 \t\t 0.004947\n",
      "218 \t\t 0.004820\n",
      "219 \t\t 0.004696\n",
      "220 \t\t 0.004574\n",
      "221 \t\t 0.004456\n",
      "222 \t\t 0.004341\n",
      "223 \t\t 0.004229\n",
      "224 \t\t 0.004119\n",
      "225 \t\t 0.004012\n",
      "226 \t\t 0.003908\n",
      "227 \t\t 0.003807\n",
      "228 \t\t 0.003708\n",
      "229 \t\t 0.003612\n",
      "230 \t\t 0.003518\n",
      "231 \t\t 0.003427\n",
      "232 \t\t 0.003338\n",
      "233 \t\t 0.003252\n",
      "234 \t\t 0.003167\n",
      "235 \t\t 0.003085\n",
      "236 \t\t 0.003005\n",
      "237 \t\t 0.002927\n",
      "238 \t\t 0.002851\n",
      "239 \t\t 0.002777\n",
      "240 \t\t 0.002706\n",
      "241 \t\t 0.002636\n",
      "242 \t\t 0.002567\n",
      "243 \t\t 0.002501\n",
      "244 \t\t 0.002437\n",
      "245 \t\t 0.002374\n",
      "246 \t\t 0.002313\n",
      "247 \t\t 0.002253\n",
      "248 \t\t 0.002195\n",
      "249 \t\t 0.002139\n",
      "250 \t\t 0.002084\n"
     ]
    }
   ],
   "source": [
    "# Create user-by-item matrix - nothing to do here\n",
    "train_data_np = np.array(train_df)\n",
    "\n",
    "# Fit FunkSVD with the specified hyper parameters to the training data\n",
    "user_mat, offer_mat = FunkSVD(train_data_np, latent_features=15, learning_rate=0.005, iters=250)"
   ]
  },
  {
   "cell_type": "code",
   "execution_count": 72,
   "metadata": {},
   "outputs": [
    {
     "name": "stdout",
     "output_type": "stream",
     "text": [
      "Optimizaiton Statistics\n",
      "Iterations | Mean Squared Error \n",
      "1 \t\t 0.297825\n",
      "2 \t\t 0.266292\n",
      "3 \t\t 0.265840\n",
      "4 \t\t 0.265372\n",
      "5 \t\t 0.264900\n",
      "6 \t\t 0.264427\n",
      "7 \t\t 0.263950\n",
      "8 \t\t 0.263471\n",
      "9 \t\t 0.262989\n",
      "10 \t\t 0.262504\n",
      "11 \t\t 0.262015\n",
      "12 \t\t 0.261522\n",
      "13 \t\t 0.261026\n",
      "14 \t\t 0.260525\n",
      "15 \t\t 0.260019\n",
      "16 \t\t 0.259508\n",
      "17 \t\t 0.258993\n",
      "18 \t\t 0.258471\n",
      "19 \t\t 0.257943\n",
      "20 \t\t 0.257409\n",
      "21 \t\t 0.256868\n",
      "22 \t\t 0.256319\n",
      "23 \t\t 0.255762\n",
      "24 \t\t 0.255197\n",
      "25 \t\t 0.254622\n",
      "26 \t\t 0.254038\n",
      "27 \t\t 0.253443\n",
      "28 \t\t 0.252837\n",
      "29 \t\t 0.252218\n",
      "30 \t\t 0.251587\n",
      "31 \t\t 0.250943\n",
      "32 \t\t 0.250283\n",
      "33 \t\t 0.249608\n",
      "34 \t\t 0.248917\n",
      "35 \t\t 0.248208\n",
      "36 \t\t 0.247481\n",
      "37 \t\t 0.246733\n",
      "38 \t\t 0.245965\n",
      "39 \t\t 0.245174\n",
      "40 \t\t 0.244359\n",
      "41 \t\t 0.243520\n",
      "42 \t\t 0.242654\n",
      "43 \t\t 0.241760\n",
      "44 \t\t 0.240837\n",
      "45 \t\t 0.239883\n",
      "46 \t\t 0.238896\n",
      "47 \t\t 0.237875\n",
      "48 \t\t 0.236818\n",
      "49 \t\t 0.235723\n",
      "50 \t\t 0.234590\n",
      "51 \t\t 0.233415\n",
      "52 \t\t 0.232197\n",
      "53 \t\t 0.230936\n",
      "54 \t\t 0.229628\n",
      "55 \t\t 0.228273\n",
      "56 \t\t 0.226869\n",
      "57 \t\t 0.225415\n",
      "58 \t\t 0.223909\n",
      "59 \t\t 0.222349\n",
      "60 \t\t 0.220736\n",
      "61 \t\t 0.219068\n",
      "62 \t\t 0.217343\n",
      "63 \t\t 0.215562\n",
      "64 \t\t 0.213725\n",
      "65 \t\t 0.211830\n",
      "66 \t\t 0.209878\n",
      "67 \t\t 0.207869\n",
      "68 \t\t 0.205804\n",
      "69 \t\t 0.203683\n",
      "70 \t\t 0.201507\n",
      "71 \t\t 0.199278\n",
      "72 \t\t 0.196998\n",
      "73 \t\t 0.194667\n",
      "74 \t\t 0.192288\n",
      "75 \t\t 0.189863\n",
      "76 \t\t 0.187395\n",
      "77 \t\t 0.184886\n",
      "78 \t\t 0.182339\n",
      "79 \t\t 0.179757\n",
      "80 \t\t 0.177144\n",
      "81 \t\t 0.174501\n",
      "82 \t\t 0.171834\n",
      "83 \t\t 0.169144\n",
      "84 \t\t 0.166436\n",
      "85 \t\t 0.163713\n",
      "86 \t\t 0.160979\n",
      "87 \t\t 0.158236\n",
      "88 \t\t 0.155489\n",
      "89 \t\t 0.152741\n",
      "90 \t\t 0.149994\n",
      "91 \t\t 0.147253\n",
      "92 \t\t 0.144519\n",
      "93 \t\t 0.141797\n",
      "94 \t\t 0.139089\n",
      "95 \t\t 0.136397\n",
      "96 \t\t 0.133725\n",
      "97 \t\t 0.131074\n",
      "98 \t\t 0.128448\n",
      "99 \t\t 0.125847\n",
      "100 \t\t 0.123275\n",
      "101 \t\t 0.120732\n",
      "102 \t\t 0.118222\n",
      "103 \t\t 0.115744\n",
      "104 \t\t 0.113301\n",
      "105 \t\t 0.110894\n",
      "106 \t\t 0.108524\n",
      "107 \t\t 0.106192\n",
      "108 \t\t 0.103899\n",
      "109 \t\t 0.101646\n",
      "110 \t\t 0.099433\n",
      "111 \t\t 0.097261\n",
      "112 \t\t 0.095129\n",
      "113 \t\t 0.093040\n",
      "114 \t\t 0.090992\n",
      "115 \t\t 0.088986\n",
      "116 \t\t 0.087022\n",
      "117 \t\t 0.085099\n",
      "118 \t\t 0.083218\n",
      "119 \t\t 0.081378\n",
      "120 \t\t 0.079579\n",
      "121 \t\t 0.077820\n",
      "122 \t\t 0.076102\n",
      "123 \t\t 0.074424\n",
      "124 \t\t 0.072784\n",
      "125 \t\t 0.071183\n",
      "126 \t\t 0.069621\n",
      "127 \t\t 0.068095\n",
      "128 \t\t 0.066606\n",
      "129 \t\t 0.065154\n",
      "130 \t\t 0.063736\n",
      "131 \t\t 0.062353\n",
      "132 \t\t 0.061004\n",
      "133 \t\t 0.059689\n",
      "134 \t\t 0.058405\n",
      "135 \t\t 0.057153\n",
      "136 \t\t 0.055932\n",
      "137 \t\t 0.054741\n",
      "138 \t\t 0.053580\n",
      "139 \t\t 0.052447\n",
      "140 \t\t 0.051342\n",
      "141 \t\t 0.050264\n",
      "142 \t\t 0.049213\n",
      "143 \t\t 0.048187\n",
      "144 \t\t 0.047187\n",
      "145 \t\t 0.046210\n",
      "146 \t\t 0.045258\n",
      "147 \t\t 0.044329\n",
      "148 \t\t 0.043422\n",
      "149 \t\t 0.042537\n",
      "150 \t\t 0.041673\n",
      "151 \t\t 0.040829\n",
      "152 \t\t 0.040006\n",
      "153 \t\t 0.039202\n",
      "154 \t\t 0.038417\n",
      "155 \t\t 0.037651\n",
      "156 \t\t 0.036902\n",
      "157 \t\t 0.036171\n",
      "158 \t\t 0.035457\n",
      "159 \t\t 0.034759\n",
      "160 \t\t 0.034077\n",
      "161 \t\t 0.033411\n",
      "162 \t\t 0.032759\n",
      "163 \t\t 0.032122\n",
      "164 \t\t 0.031500\n",
      "165 \t\t 0.030891\n",
      "166 \t\t 0.030296\n",
      "167 \t\t 0.029714\n",
      "168 \t\t 0.029145\n",
      "169 \t\t 0.028588\n",
      "170 \t\t 0.028043\n",
      "171 \t\t 0.027510\n",
      "172 \t\t 0.026989\n",
      "173 \t\t 0.026478\n",
      "174 \t\t 0.025978\n",
      "175 \t\t 0.025489\n",
      "176 \t\t 0.025010\n",
      "177 \t\t 0.024542\n",
      "178 \t\t 0.024082\n",
      "179 \t\t 0.023633\n",
      "180 \t\t 0.023192\n",
      "181 \t\t 0.022761\n",
      "182 \t\t 0.022338\n",
      "183 \t\t 0.021924\n",
      "184 \t\t 0.021518\n",
      "185 \t\t 0.021120\n",
      "186 \t\t 0.020730\n",
      "187 \t\t 0.020348\n",
      "188 \t\t 0.019974\n",
      "189 \t\t 0.019606\n",
      "190 \t\t 0.019246\n",
      "191 \t\t 0.018893\n",
      "192 \t\t 0.018547\n",
      "193 \t\t 0.018207\n",
      "194 \t\t 0.017874\n",
      "195 \t\t 0.017547\n",
      "196 \t\t 0.017227\n",
      "197 \t\t 0.016912\n",
      "198 \t\t 0.016604\n",
      "199 \t\t 0.016301\n",
      "200 \t\t 0.016004\n",
      "201 \t\t 0.015712\n",
      "202 \t\t 0.015426\n",
      "203 \t\t 0.015145\n",
      "204 \t\t 0.014869\n",
      "205 \t\t 0.014599\n",
      "206 \t\t 0.014333\n",
      "207 \t\t 0.014072\n",
      "208 \t\t 0.013816\n",
      "209 \t\t 0.013564\n",
      "210 \t\t 0.013317\n",
      "211 \t\t 0.013075\n",
      "212 \t\t 0.012837\n",
      "213 \t\t 0.012603\n",
      "214 \t\t 0.012373\n",
      "215 \t\t 0.012147\n",
      "216 \t\t 0.011926\n",
      "217 \t\t 0.011708\n",
      "218 \t\t 0.011494\n",
      "219 \t\t 0.011284\n",
      "220 \t\t 0.011078\n",
      "221 \t\t 0.010875\n",
      "222 \t\t 0.010676\n",
      "223 \t\t 0.010481\n",
      "224 \t\t 0.010288\n",
      "225 \t\t 0.010100\n",
      "226 \t\t 0.009914\n",
      "227 \t\t 0.009732\n",
      "228 \t\t 0.009553\n",
      "229 \t\t 0.009377\n",
      "230 \t\t 0.009205\n",
      "231 \t\t 0.009035\n",
      "232 \t\t 0.008868\n",
      "233 \t\t 0.008704\n",
      "234 \t\t 0.008544\n",
      "235 \t\t 0.008385\n",
      "236 \t\t 0.008230\n",
      "237 \t\t 0.008078\n",
      "238 \t\t 0.007928\n",
      "239 \t\t 0.007780\n",
      "240 \t\t 0.007636\n",
      "241 \t\t 0.007494\n",
      "242 \t\t 0.007354\n",
      "243 \t\t 0.007217\n",
      "244 \t\t 0.007082\n",
      "245 \t\t 0.006950\n",
      "246 \t\t 0.006820\n",
      "247 \t\t 0.006692\n",
      "248 \t\t 0.006567\n",
      "249 \t\t 0.006444\n",
      "250 \t\t 0.006323\n"
     ]
    }
   ],
   "source": [
    "# Test for the best number of latent feature. (with latent features 10)\n",
    "user_mat_10, offer_mat_10 = FunkSVD(train_data_np, latent_features=10, learning_rate=0.005, iters=250)"
   ]
  },
  {
   "cell_type": "code",
   "execution_count": 73,
   "metadata": {},
   "outputs": [
    {
     "name": "stdout",
     "output_type": "stream",
     "text": [
      "Optimizaiton Statistics\n",
      "Iterations | Mean Squared Error \n",
      "1 \t\t 0.278817\n",
      "2 \t\t 0.268381\n",
      "3 \t\t 0.267536\n",
      "4 \t\t 0.266686\n",
      "5 \t\t 0.265836\n",
      "6 \t\t 0.264985\n",
      "7 \t\t 0.264133\n",
      "8 \t\t 0.263280\n",
      "9 \t\t 0.262425\n",
      "10 \t\t 0.261570\n",
      "11 \t\t 0.260713\n",
      "12 \t\t 0.259855\n",
      "13 \t\t 0.258995\n",
      "14 \t\t 0.258134\n",
      "15 \t\t 0.257272\n",
      "16 \t\t 0.256408\n",
      "17 \t\t 0.255542\n",
      "18 \t\t 0.254674\n",
      "19 \t\t 0.253803\n",
      "20 \t\t 0.252931\n",
      "21 \t\t 0.252057\n",
      "22 \t\t 0.251179\n",
      "23 \t\t 0.250299\n",
      "24 \t\t 0.249416\n",
      "25 \t\t 0.248530\n",
      "26 \t\t 0.247640\n",
      "27 \t\t 0.246747\n",
      "28 \t\t 0.245850\n",
      "29 \t\t 0.244949\n",
      "30 \t\t 0.244043\n",
      "31 \t\t 0.243132\n",
      "32 \t\t 0.242216\n",
      "33 \t\t 0.241295\n",
      "34 \t\t 0.240367\n",
      "35 \t\t 0.239434\n",
      "36 \t\t 0.238494\n",
      "37 \t\t 0.237547\n",
      "38 \t\t 0.236592\n",
      "39 \t\t 0.235630\n",
      "40 \t\t 0.234659\n",
      "41 \t\t 0.233680\n",
      "42 \t\t 0.232691\n",
      "43 \t\t 0.231692\n",
      "44 \t\t 0.230683\n",
      "45 \t\t 0.229663\n",
      "46 \t\t 0.228632\n",
      "47 \t\t 0.227589\n",
      "48 \t\t 0.226534\n",
      "49 \t\t 0.225465\n",
      "50 \t\t 0.224384\n",
      "51 \t\t 0.223288\n",
      "52 \t\t 0.222177\n",
      "53 \t\t 0.221051\n",
      "54 \t\t 0.219910\n",
      "55 \t\t 0.218753\n",
      "56 \t\t 0.217579\n",
      "57 \t\t 0.216387\n",
      "58 \t\t 0.215179\n",
      "59 \t\t 0.213952\n",
      "60 \t\t 0.212707\n",
      "61 \t\t 0.211443\n",
      "62 \t\t 0.210160\n",
      "63 \t\t 0.208857\n",
      "64 \t\t 0.207535\n",
      "65 \t\t 0.206194\n",
      "66 \t\t 0.204832\n",
      "67 \t\t 0.203450\n",
      "68 \t\t 0.202048\n",
      "69 \t\t 0.200626\n",
      "70 \t\t 0.199184\n",
      "71 \t\t 0.197723\n",
      "72 \t\t 0.196241\n",
      "73 \t\t 0.194741\n",
      "74 \t\t 0.193221\n",
      "75 \t\t 0.191683\n",
      "76 \t\t 0.190126\n",
      "77 \t\t 0.188552\n",
      "78 \t\t 0.186960\n",
      "79 \t\t 0.185352\n",
      "80 \t\t 0.183728\n",
      "81 \t\t 0.182088\n",
      "82 \t\t 0.180434\n",
      "83 \t\t 0.178766\n",
      "84 \t\t 0.177085\n",
      "85 \t\t 0.175392\n",
      "86 \t\t 0.173688\n",
      "87 \t\t 0.171972\n",
      "88 \t\t 0.170248\n",
      "89 \t\t 0.168514\n",
      "90 \t\t 0.166772\n",
      "91 \t\t 0.165024\n",
      "92 \t\t 0.163268\n",
      "93 \t\t 0.161508\n",
      "94 \t\t 0.159743\n",
      "95 \t\t 0.157974\n",
      "96 \t\t 0.156203\n",
      "97 \t\t 0.154429\n",
      "98 \t\t 0.152654\n",
      "99 \t\t 0.150878\n",
      "100 \t\t 0.149103\n",
      "101 \t\t 0.147328\n",
      "102 \t\t 0.145555\n",
      "103 \t\t 0.143785\n",
      "104 \t\t 0.142018\n",
      "105 \t\t 0.140254\n",
      "106 \t\t 0.138495\n",
      "107 \t\t 0.136741\n",
      "108 \t\t 0.134993\n",
      "109 \t\t 0.133251\n",
      "110 \t\t 0.131515\n",
      "111 \t\t 0.129788\n",
      "112 \t\t 0.128068\n",
      "113 \t\t 0.126357\n",
      "114 \t\t 0.124656\n",
      "115 \t\t 0.122964\n",
      "116 \t\t 0.121282\n",
      "117 \t\t 0.119612\n",
      "118 \t\t 0.117952\n",
      "119 \t\t 0.116305\n",
      "120 \t\t 0.114669\n",
      "121 \t\t 0.113047\n",
      "122 \t\t 0.111438\n",
      "123 \t\t 0.109842\n",
      "124 \t\t 0.108260\n",
      "125 \t\t 0.106693\n",
      "126 \t\t 0.105140\n",
      "127 \t\t 0.103602\n",
      "128 \t\t 0.102080\n",
      "129 \t\t 0.100574\n",
      "130 \t\t 0.099083\n",
      "131 \t\t 0.097608\n",
      "132 \t\t 0.096150\n",
      "133 \t\t 0.094709\n",
      "134 \t\t 0.093284\n",
      "135 \t\t 0.091876\n",
      "136 \t\t 0.090484\n",
      "137 \t\t 0.089110\n",
      "138 \t\t 0.087753\n",
      "139 \t\t 0.086414\n",
      "140 \t\t 0.085091\n",
      "141 \t\t 0.083786\n",
      "142 \t\t 0.082498\n",
      "143 \t\t 0.081227\n",
      "144 \t\t 0.079973\n",
      "145 \t\t 0.078736\n",
      "146 \t\t 0.077516\n",
      "147 \t\t 0.076314\n",
      "148 \t\t 0.075128\n",
      "149 \t\t 0.073959\n",
      "150 \t\t 0.072806\n",
      "151 \t\t 0.071670\n",
      "152 \t\t 0.070551\n",
      "153 \t\t 0.069448\n",
      "154 \t\t 0.068361\n",
      "155 \t\t 0.067290\n",
      "156 \t\t 0.066234\n",
      "157 \t\t 0.065195\n",
      "158 \t\t 0.064171\n",
      "159 \t\t 0.063163\n",
      "160 \t\t 0.062170\n",
      "161 \t\t 0.061192\n",
      "162 \t\t 0.060229\n",
      "163 \t\t 0.059281\n",
      "164 \t\t 0.058347\n",
      "165 \t\t 0.057428\n",
      "166 \t\t 0.056524\n",
      "167 \t\t 0.055634\n",
      "168 \t\t 0.054758\n",
      "169 \t\t 0.053896\n",
      "170 \t\t 0.053047\n",
      "171 \t\t 0.052213\n",
      "172 \t\t 0.051392\n",
      "173 \t\t 0.050585\n",
      "174 \t\t 0.049790\n",
      "175 \t\t 0.049009\n",
      "176 \t\t 0.048241\n",
      "177 \t\t 0.047486\n",
      "178 \t\t 0.046743\n",
      "179 \t\t 0.046014\n",
      "180 \t\t 0.045296\n",
      "181 \t\t 0.044591\n",
      "182 \t\t 0.043898\n",
      "183 \t\t 0.043217\n",
      "184 \t\t 0.042547\n",
      "185 \t\t 0.041890\n",
      "186 \t\t 0.041244\n",
      "187 \t\t 0.040609\n",
      "188 \t\t 0.039986\n",
      "189 \t\t 0.039373\n",
      "190 \t\t 0.038772\n",
      "191 \t\t 0.038181\n",
      "192 \t\t 0.037601\n",
      "193 \t\t 0.037032\n",
      "194 \t\t 0.036472\n",
      "195 \t\t 0.035923\n",
      "196 \t\t 0.035384\n",
      "197 \t\t 0.034854\n",
      "198 \t\t 0.034334\n",
      "199 \t\t 0.033824\n",
      "200 \t\t 0.033323\n",
      "201 \t\t 0.032831\n",
      "202 \t\t 0.032348\n",
      "203 \t\t 0.031874\n",
      "204 \t\t 0.031408\n",
      "205 \t\t 0.030951\n",
      "206 \t\t 0.030502\n",
      "207 \t\t 0.030061\n",
      "208 \t\t 0.029628\n",
      "209 \t\t 0.029203\n",
      "210 \t\t 0.028786\n",
      "211 \t\t 0.028376\n",
      "212 \t\t 0.027974\n",
      "213 \t\t 0.027579\n",
      "214 \t\t 0.027190\n",
      "215 \t\t 0.026809\n",
      "216 \t\t 0.026435\n",
      "217 \t\t 0.026067\n",
      "218 \t\t 0.025705\n",
      "219 \t\t 0.025350\n",
      "220 \t\t 0.025001\n",
      "221 \t\t 0.024658\n",
      "222 \t\t 0.024321\n",
      "223 \t\t 0.023990\n",
      "224 \t\t 0.023664\n",
      "225 \t\t 0.023344\n",
      "226 \t\t 0.023030\n",
      "227 \t\t 0.022721\n",
      "228 \t\t 0.022416\n",
      "229 \t\t 0.022117\n",
      "230 \t\t 0.021823\n",
      "231 \t\t 0.021534\n",
      "232 \t\t 0.021250\n",
      "233 \t\t 0.020970\n",
      "234 \t\t 0.020695\n",
      "235 \t\t 0.020424\n",
      "236 \t\t 0.020157\n",
      "237 \t\t 0.019895\n",
      "238 \t\t 0.019637\n",
      "239 \t\t 0.019383\n",
      "240 \t\t 0.019133\n",
      "241 \t\t 0.018887\n",
      "242 \t\t 0.018645\n",
      "243 \t\t 0.018407\n",
      "244 \t\t 0.018172\n",
      "245 \t\t 0.017941\n",
      "246 \t\t 0.017714\n",
      "247 \t\t 0.017490\n",
      "248 \t\t 0.017269\n",
      "249 \t\t 0.017052\n",
      "250 \t\t 0.016838\n"
     ]
    }
   ],
   "source": [
    "# Test for the best number of latent feature. (with latent features 5)\n",
    "user_mat_5, offer_mat_5 = FunkSVD(train_data_np, latent_features=5, learning_rate=0.005, iters=250)"
   ]
  },
  {
   "cell_type": "code",
   "execution_count": 74,
   "metadata": {},
   "outputs": [],
   "source": [
    "def predict_reaction(user_matrix, offer_matrix, user_id, offer_id):\n",
    "    '''\n",
    "    We can use this to make predictions for how users would react with the offers\n",
    "    \n",
    "    INPUT:\n",
    "    user_matrix - user by latent factor matrix\n",
    "    offer_matrix - latent factor by offer matrix\n",
    "    user_id - the user_id from the reviews df\n",
    "    offer_id - the offer_id according the offers df\n",
    "    \n",
    "    OUTPUT:\n",
    "    pred - the predicted reaction for user_id-offer_id according to FunkSVD\n",
    "    '''\n",
    "    try:\n",
    "        # Use the training data to create a series of users and offers that matches the ordering in training data\n",
    "        user_ids_series = np.array(train_df.index)\n",
    "        offer_ids_series = np.array(train_df.columns)\n",
    "\n",
    "        # User row and Offer Column\n",
    "        user_row = np.where(user_ids_series == user_id)[0][0]\n",
    "        offer_col = np.where(offer_ids_series == offer_id)[0][0]\n",
    "\n",
    "        # Take dot product of that row and column in U and V to make prediction\n",
    "        pred = np.dot(user_matrix[user_row, :], offer_matrix[:, offer_col])\n",
    "        \n",
    "        return pred\n",
    "    \n",
    "    except:\n",
    "        # print(\"Sorry, but a prediction cannot be made for this user-offer pair.  It looks like one of these items does not exist in our current database.\")\n",
    "    \n",
    "        return None"
   ]
  },
  {
   "cell_type": "code",
   "execution_count": 75,
   "metadata": {},
   "outputs": [],
   "source": [
    "def validation(test_df, user_mat, offer_mat):\n",
    "    '''Measure the squared errors for the prediction'''\n",
    "    num_complete = np.count_nonzero(~np.isnan(test_df))\n",
    "    \n",
    "    sse_accum = 0\n",
    "    \n",
    "    for user_id in test_df.index:\n",
    "        for offer_id in test_df.columns:\n",
    "            if ~np.isnan(test_df.loc[user_id, offer_id]):\n",
    "                predict_value = predict_reaction(user_mat, offer_mat, user_id, offer_id)\n",
    "                if predict_value != None:\n",
    "                    # compute the error as the actual minus the dot product of the user and offer latent features\n",
    "                    diff = test_df.loc[user_id, offer_id] - predict_reaction(user_mat, offer_mat, user_id, offer_id)\n",
    "\n",
    "                    # keep track of the sum of squared errors for the matrix\n",
    "                    sse_accum += diff**2\n",
    "    \n",
    "    print(sse_accum / num_complete)"
   ]
  },
  {
   "cell_type": "code",
   "execution_count": 76,
   "metadata": {},
   "outputs": [
    {
     "name": "stdout",
     "output_type": "stream",
     "text": [
      "0.33239350543646495\n"
     ]
    }
   ],
   "source": [
    "validation(test_df, user_mat, offer_mat)"
   ]
  },
  {
   "cell_type": "code",
   "execution_count": 77,
   "metadata": {},
   "outputs": [
    {
     "name": "stdout",
     "output_type": "stream",
     "text": [
      "0.3294259428965362\n"
     ]
    }
   ],
   "source": [
    "validation(test_df, user_mat_10, offer_mat_10)"
   ]
  },
  {
   "cell_type": "code",
   "execution_count": 78,
   "metadata": {},
   "outputs": [
    {
     "name": "stdout",
     "output_type": "stream",
     "text": [
      "0.3118228839898325\n"
     ]
    }
   ],
   "source": [
    "validation(test_df, user_mat_5, offer_mat_5)"
   ]
  },
  {
   "cell_type": "code",
   "execution_count": 79,
   "metadata": {},
   "outputs": [],
   "source": [
    "def best_sale_offer(user_item_matrix):\n",
    "    # Find out which offer sells the best\n",
    "\n",
    "    offer_gain = []\n",
    "    for offer_id in user_item_matrix.columns:\n",
    "        offer_gain.append([offer_id, transcript[(transcript['person'].isin(list(user_item_matrix[user_item_matrix[offer_id]>=1].index)))&(transcript['event']=='transaction')]['value'].apply(lambda x: x['amount']).sum()])\n",
    "\n",
    "    offer_value = pd.DataFrame(offer_gain, columns=['offer_id', 'gain'])\n",
    "    offer_value['gain'] = pd.to_numeric(offer_value['gain'])\n",
    "    offer_value.sort_values(by='gain', ascending=False, inplace=True)\n",
    "    print(offer_value)\n",
    "    \n",
    "    best_sale = offer_value.plot(kind='bar', title='Sale Amount of Different Offers')\n",
    "    best_sale.set_xlabel('Offer number')\n",
    "    best_sale.set_ylabel('Sale Amount')\n",
    "    \n",
    "    return offer_value"
   ]
  },
  {
   "cell_type": "code",
   "execution_count": 80,
   "metadata": {},
   "outputs": [],
   "source": [
    "\n",
    "def recommend_offer(user_id, user_mat, offer_mat):\n",
    "    recommend = {}\n",
    "    for offer_id in train_df.columns:\n",
    "        pred_val = predict_reaction(user_mat, offer_mat, user_id, offer_id)\n",
    "        if pred_val != None:\n",
    "            recommend[offer_id] = pred_val\n",
    "        else:\n",
    "            break\n",
    "    if pred_val == None:\n",
    "        print(\"Because this user wasn't in our database, we are giving back the top best sale offer recommendations for all users.\")\n",
    "        top_offer = best_sale_offer(full_df)\n",
    "        for offer_id in top_offer['offer_id']:\n",
    "            print(\"offer id: \", offer_id)\n",
    "    else:\n",
    "        print(\"recommend offer for user \", user_id)\n",
    "        for offer_id, pred_val in sorted(recommend.items(), key=lambda kv:(kv[1], kv[0]), reverse=True):\n",
    "            print(\"offer id: \", offer_id, \" predicted value: \", round(pred_val,2))"
   ]
  },
  {
   "cell_type": "code",
   "execution_count": 81,
   "metadata": {},
   "outputs": [
    {
     "name": "stdout",
     "output_type": "stream",
     "text": [
      "recommend offer for user  0610b486422d4921ae7d2bf64640c50b\n",
      "offer id:  fafdcd668e3743c1bb461111dcafc2a4  predicted value:  0.49\n",
      "offer id:  4d5c57ea9a6940dd891ad53e9dbe8da0  predicted value:  0.35\n",
      "offer id:  0b1e1539f2cc45b7b9fa7c272da2e1d7  predicted value:  0.35\n",
      "offer id:  ae264e3637204a6fb9bb56bc8210ddfd  predicted value:  0.33\n",
      "offer id:  f19421c1d4aa40978ebb69ca19b0e20d  predicted value:  0.13\n",
      "offer id:  9b98b8c7a33c4b65b9aebfe6a799e6d9  predicted value:  0.01\n",
      "offer id:  2906b810c7d4411798c6938adc9daaa5  predicted value:  -0.11\n",
      "offer id:  2298d6c36e964ae4a3e7e9706d1fb8c2  predicted value:  -0.15\n"
     ]
    }
   ],
   "source": [
    "recommend_offer('0610b486422d4921ae7d2bf64640c50b', user_mat, offer_mat)"
   ]
  },
  {
   "cell_type": "code",
   "execution_count": 82,
   "metadata": {},
   "outputs": [
    {
     "name": "stdout",
     "output_type": "stream",
     "text": [
      "Because this user wasn't in our database, we are giving back the top best sale offer recommendations for all users.\n",
      "                           offer_id       gain\n",
      "7  fafdcd668e3743c1bb461111dcafc2a4  596220.84\n",
      "1  2298d6c36e964ae4a3e7e9706d1fb8c2  538027.98\n",
      "6  f19421c1d4aa40978ebb69ca19b0e20d  480555.03\n",
      "3  4d5c57ea9a6940dd891ad53e9dbe8da0  441918.93\n",
      "5  ae264e3637204a6fb9bb56bc8210ddfd  423683.27\n",
      "2  2906b810c7d4411798c6938adc9daaa5  305568.42\n",
      "4  9b98b8c7a33c4b65b9aebfe6a799e6d9  304361.77\n",
      "0  0b1e1539f2cc45b7b9fa7c272da2e1d7  218905.94\n",
      "offer id:  fafdcd668e3743c1bb461111dcafc2a4\n",
      "offer id:  2298d6c36e964ae4a3e7e9706d1fb8c2\n",
      "offer id:  f19421c1d4aa40978ebb69ca19b0e20d\n",
      "offer id:  4d5c57ea9a6940dd891ad53e9dbe8da0\n",
      "offer id:  ae264e3637204a6fb9bb56bc8210ddfd\n",
      "offer id:  2906b810c7d4411798c6938adc9daaa5\n",
      "offer id:  9b98b8c7a33c4b65b9aebfe6a799e6d9\n",
      "offer id:  0b1e1539f2cc45b7b9fa7c272da2e1d7\n"
     ]
    },
    {
     "data": {
      "image/png": "[encoded data removed]",
      "text/plain": [
       "<Figure size 432x288 with 1 Axes>"
      ]
     },
     "metadata": {
      "needs_background": "light"
     },
     "output_type": "display_data"
    }
   ],
   "source": [
    "recommend_offer('new_user', user_mat, offer_mat)"
   ]
  },
  {
   "cell_type": "code",
   "execution_count": 83,
   "metadata": {},
   "outputs": [],
   "source": [
    "def gender_offer(full_df):\n",
    "    '''\n",
    "    Find out which type of offer (bogo/discount) attracts most to different gender\n",
    "    Return with a plotted bar chart\n",
    "    '''\n",
    "    \n",
    "    # initialize the gender response and the gender sent dataframe\n",
    "    gender_response = pd.DataFrame(data=[[0,0],[0,0],[0,0]], index=['M', 'F', 'O'], columns=['bogo', 'discount'])\n",
    "    gender_sent = pd.DataFrame(data=[[0,0],[0,0],[0,0]], index=['M', 'F', 'O'], columns=['bogo', 'discount'])\n",
    "\n",
    "    # We count the number of offer completed base on the customer gender\n",
    "    for offer_type in ['bogo', 'discount']:\n",
    "        for offer_id in portfolio[portfolio['offer_type']==offer_type]['id']:\n",
    "            # count the total number of customers responsed our offers.\n",
    "            gender_response[offer_type] = gender_response[offer_type].add(profile[profile['id'].isin(full_df[full_df[offer_id]>0].index)]['gender'].value_counts(), fill_value=0)\n",
    "            # count the total number of offer sent\n",
    "            gender_sent[offer_type] = gender_sent[offer_type].add(profile[profile['id'].isin(full_df[full_df[offer_id]>=0].index)]['gender'].value_counts(), fill_value=0)\n",
    "        \n",
    "    gender_offer = (gender_response / gender_sent * 100).plot(kind='bar', title='Percentage of customer response')\n",
    "    gender_offer.set_xlabel(\"Gender\")\n",
    "    gender_offer.set_ylabel(\"Percentage\")"
   ]
  },
  {
   "cell_type": "code",
   "execution_count": 84,
   "metadata": {},
   "outputs": [
    {
     "data": {
      "image/png": "[encoded data removed]",
      "text/plain": [
       "<Figure size 432x288 with 1 Axes>"
      ]
     },
     "metadata": {
      "needs_background": "light"
     },
     "output_type": "display_data"
    }
   ],
   "source": [
    "gender_offer(full_df)"
   ]
  },
  {
   "cell_type": "code",
   "execution_count": 91,
   "metadata": {},
   "outputs": [],
   "source": [
    "def gender_offer_channel(full_df):\n",
    "    '''\n",
    "    Find out which type of offer (bogo/discount) attracts most to different gender\n",
    "    Return with a plotted bar chart\n",
    "    '''\n",
    "    \n",
    "    # initialize the gender response and the gender sent dataframe\n",
    "    gender_response = pd.DataFrame(data=[[0,0,0,0],[0,0,0,0],[0,0,0,0]], index=['M', 'F', 'O'], columns=['web', 'email', 'mobile', 'social'])\n",
    "    gender_sent = pd.DataFrame(data=[[0,0,0,0],[0,0,0,0],[0,0,0,0]], index=['M', 'F', 'O'], columns=['web', 'email', 'mobile', 'social'])\n",
    "\n",
    "    # We count the number of offer completed base on the customer gender\n",
    "    for channel_type in ['web', 'email', 'mobile', 'social']:\n",
    "        for offer_id in new_clean_portfolio[(new_clean_portfolio[channel_type]==1)&(new_clean_portfolio['informational']!=1)]['offer_id']:\n",
    "            # count the total number of customers responsed our offers.\n",
    "            gender_response[channel_type] = gender_response[channel_type].add(profile[profile['id'].isin(full_df[full_df[offer_id]>0].index)]['gender'].value_counts(), fill_value=0)\n",
    "            # count the total number of offer sent\n",
    "            gender_sent[channel_type] = gender_sent[channel_type].add(profile[profile['id'].isin(full_df[full_df[offer_id]>=0].index)]['gender'].value_counts(), fill_value=0)\n",
    "        \n",
    "    gender_offer = (gender_response / gender_sent * 100).plot(kind='bar', title='Percentage of customer response')\n",
    "    gender_offer.set_xlabel(\"Gender\")\n",
    "    gender_offer.set_ylabel(\"Percentage\")"
   ]
  },
  {
   "cell_type": "code",
   "execution_count": 92,
   "metadata": {},
   "outputs": [
    {
     "data": {
      "image/png": "[encoded data removed]",
      "text/plain": [
       "<Figure size 432x288 with 1 Axes>"
      ]
     },
     "metadata": {
      "needs_background": "light"
     },
     "output_type": "display_data"
    }
   ],
   "source": [
    "gender_offer_channel(full_df)"
   ]
  },
  {
   "cell_type": "code",
   "execution_count": 93,
   "metadata": {},
   "outputs": [],
   "source": [
    "def best_sale_offer(user_item_matrix):\n",
    "    # Find out which offer sells the best\n",
    "\n",
    "    offer_gain = []\n",
    "    for offer_id in user_item_matrix.columns:\n",
    "        offer_gain.append([offer_id, transcript[(transcript['person'].isin(list(user_item_matrix[user_item_matrix[offer_id]>=1].index)))&(transcript['event']=='transaction')]['value'].apply(lambda x: x['amount']).sum()])\n",
    "    offer_value = pd.DataFrame(offer_gain, columns=['offer_id', 'gain'])\n",
    "    offer_value['gain'] = pd.to_numeric(offer_value['gain'])\n",
    "    offer_value.sort_values(by='gain', ascending=False, inplace=True)\n",
    "    print(offer_value)\n",
    "    \n",
    "    best_sale = offer_value.plot(kind='bar', title='Sale Amount of Different Offers')\n",
    "    best_sale.set_xlabel('Offer number')\n",
    "    best_sale.set_ylabel('Sale Amount')\n",
    "    \n",
    "    return offer_value"
   ]
  },
  {
   "cell_type": "code",
   "execution_count": 94,
   "metadata": {},
   "outputs": [
    {
     "name": "stdout",
     "output_type": "stream",
     "text": [
      "                           offer_id       gain\n",
      "7  fafdcd668e3743c1bb461111dcafc2a4  596220.84\n",
      "1  2298d6c36e964ae4a3e7e9706d1fb8c2  538027.98\n",
      "6  f19421c1d4aa40978ebb69ca19b0e20d  480555.03\n",
      "3  4d5c57ea9a6940dd891ad53e9dbe8da0  441918.93\n",
      "5  ae264e3637204a6fb9bb56bc8210ddfd  423683.27\n",
      "2  2906b810c7d4411798c6938adc9daaa5  305568.42\n",
      "4  9b98b8c7a33c4b65b9aebfe6a799e6d9  304361.77\n",
      "0  0b1e1539f2cc45b7b9fa7c272da2e1d7  218905.94\n"
     ]
    },
    {
     "data": {
      "text/html": [
       "<div>\n",
       "<style scoped>\n",
       "    .dataframe tbody tr th:only-of-type {\n",
       "        vertical-align: middle;\n",
       "    }\n",
       "\n",
       "    .dataframe tbody tr th {\n",
       "        vertical-align: top;\n",
       "    }\n",
       "\n",
       "    .dataframe thead th {\n",
       "        text-align: right;\n",
       "    }\n",
       "</style>\n",
       "<table border=\"1\" class=\"dataframe\">\n",
       "  <thead>\n",
       "    <tr style=\"text-align: right;\">\n",
       "      <th></th>\n",
       "      <th>offer_id</th>\n",
       "      <th>gain</th>\n",
       "    </tr>\n",
       "  </thead>\n",
       "  <tbody>\n",
       "    <tr>\n",
       "      <th>7</th>\n",
       "      <td>fafdcd668e3743c1bb461111dcafc2a4</td>\n",
       "      <td>596220.84</td>\n",
       "    </tr>\n",
       "    <tr>\n",
       "      <th>1</th>\n",
       "      <td>2298d6c36e964ae4a3e7e9706d1fb8c2</td>\n",
       "      <td>538027.98</td>\n",
       "    </tr>\n",
       "    <tr>\n",
       "      <th>6</th>\n",
       "      <td>f19421c1d4aa40978ebb69ca19b0e20d</td>\n",
       "      <td>480555.03</td>\n",
       "    </tr>\n",
       "    <tr>\n",
       "      <th>3</th>\n",
       "      <td>4d5c57ea9a6940dd891ad53e9dbe8da0</td>\n",
       "      <td>441918.93</td>\n",
       "    </tr>\n",
       "    <tr>\n",
       "      <th>5</th>\n",
       "      <td>ae264e3637204a6fb9bb56bc8210ddfd</td>\n",
       "      <td>423683.27</td>\n",
       "    </tr>\n",
       "    <tr>\n",
       "      <th>2</th>\n",
       "      <td>2906b810c7d4411798c6938adc9daaa5</td>\n",
       "      <td>305568.42</td>\n",
       "    </tr>\n",
       "    <tr>\n",
       "      <th>4</th>\n",
       "      <td>9b98b8c7a33c4b65b9aebfe6a799e6d9</td>\n",
       "      <td>304361.77</td>\n",
       "    </tr>\n",
       "    <tr>\n",
       "      <th>0</th>\n",
       "      <td>0b1e1539f2cc45b7b9fa7c272da2e1d7</td>\n",
       "      <td>218905.94</td>\n",
       "    </tr>\n",
       "  </tbody>\n",
       "</table>\n",
       "</div>"
      ],
      "text/plain": [
       "                           offer_id       gain\n",
       "7  fafdcd668e3743c1bb461111dcafc2a4  596220.84\n",
       "1  2298d6c36e964ae4a3e7e9706d1fb8c2  538027.98\n",
       "6  f19421c1d4aa40978ebb69ca19b0e20d  480555.03\n",
       "3  4d5c57ea9a6940dd891ad53e9dbe8da0  441918.93\n",
       "5  ae264e3637204a6fb9bb56bc8210ddfd  423683.27\n",
       "2  2906b810c7d4411798c6938adc9daaa5  305568.42\n",
       "4  9b98b8c7a33c4b65b9aebfe6a799e6d9  304361.77\n",
       "0  0b1e1539f2cc45b7b9fa7c272da2e1d7  218905.94"
      ]
     },
     "execution_count": 94,
     "metadata": {},
     "output_type": "execute_result"
    },
    {
     "data": {
      "image/png": "[encoded data removed]",
      "text/plain": [
       "<Figure size 432x288 with 1 Axes>"
      ]
     },
     "metadata": {
      "needs_background": "light"
     },
     "output_type": "display_data"
    }
   ],
   "source": [
    "best_sale_offer(full_df)"
   ]
  },
  {
   "cell_type": "code",
   "execution_count": null,
   "metadata": {},
   "outputs": [],
   "source": []
  },
  {
   "cell_type": "code",
   "execution_count": null,
   "metadata": {},
   "outputs": [],
   "source": []
  }
 ],
 "metadata": {
  "kernelspec": {
   "display_name": "Python 3",
   "language": "python",
   "name": "python3"
  },
  "language_info": {
   "codemirror_mode": {
    "name": "ipython",
    "version": 3
   },
   "file_extension": ".py",
   "mimetype": "text/x-python",
   "name": "python",
   "nbconvert_exporter": "python",
   "pygments_lexer": "ipython3",
   "version": "3.8.5"
  }
 },
 "nbformat": 4,
 "nbformat_minor": 2
}
