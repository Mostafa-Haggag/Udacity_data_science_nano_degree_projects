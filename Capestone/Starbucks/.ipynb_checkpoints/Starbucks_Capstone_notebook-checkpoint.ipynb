{
 "cells": [
  {
   "cell_type": "markdown",
   "metadata": {},
   "source": [
    "# Starbucks Capstone Challenge\n",
    "\n",
    "### Introduction\n",
    "\n",
    "This data set contains simulated data that mimics customer behavior on the Starbucks rewards mobile app. Once every few days, Starbucks sends out an offer to users of the mobile app. An offer can be merely an advertisement for a drink or an actual offer such as a discount or BOGO (buy one get one free). Some users might not receive any offer during certain weeks. \n",
    "\n",
    "Not all users receive the same offer, and that is the challenge to solve with this data set.\n",
    "\n",
    "Your task is to combine transaction, demographic and offer data to determine which demographic groups respond best to which offer type. This data set is a simplified version of the real Starbucks app because the underlying simulator only has one product whereas Starbucks actually sells dozens of products.\n",
    "\n",
    "Every offer has a validity period before the offer expires. As an example, a BOGO offer might be valid for only 5 days. You'll see in the data set that informational offers have a validity period even though these ads are merely providing information about a product; for example, if an informational offer has 7 days of validity, you can assume the customer is feeling the influence of the offer for 7 days after receiving the advertisement.\n",
    "\n",
    "You'll be given transactional data showing user purchases made on the app including the timestamp of purchase and the amount of money spent on a purchase. This transactional data also has a record for each offer that a user receives as well as a record for when a user actually views the offer. There are also records for when a user completes an offer. \n",
    "\n",
    "Keep in mind as well that someone using the app might make a purchase through the app without having received an offer or seen an offer.\n",
    "\n",
    "### Example\n",
    "\n",
    "To give an example, a user could receive a discount offer buy 10 dollars get 2 off on Monday. The offer is valid for 10 days from receipt. If the customer accumulates at least 10 dollars in purchases during the validity period, the customer completes the offer.\n",
    "\n",
    "However, there are a few things to watch out for in this data set. Customers do not opt into the offers that they receive; in other words, a user can receive an offer, never actually view the offer, and still complete the offer. For example, a user might receive the \"buy 10 dollars get 2 dollars off offer\", but the user never opens the offer during the 10 day validity period. The customer spends 15 dollars during those ten days. There will be an offer completion record in the data set; however, the customer was not influenced by the offer because the customer never viewed the offer.\n",
    "\n",
    "### Cleaning\n",
    "\n",
    "This makes data cleaning especially important and tricky.\n",
    "\n",
    "You'll also want to take into account that some demographic groups will make purchases even if they don't receive an offer. From a business perspective, if a customer is going to make a 10 dollar purchase without an offer anyway, you wouldn't want to send a buy 10 dollars get 2 dollars off offer. You'll want to try to assess what a certain demographic group will buy when not receiving any offers.\n",
    "\n",
    "### Final Advice\n",
    "\n",
    "Because this is a capstone project, you are free to analyze the data any way you see fit. For example, you could build a machine learning model that predicts how much someone will spend based on demographics and offer type. Or you could build a model that predicts whether or not someone will respond to an offer. Or, you don't need to build a machine learning model at all. You could develop a set of heuristics that determine what offer you should send to each customer (i.e., 75 percent of women customers who were 35 years old responded to offer A vs 40 percent from the same demographic to offer B, so send offer A)."
   ]
  },
  {
   "cell_type": "markdown",
   "metadata": {},
   "source": [
    "# Data Sets\n",
    "\n",
    "The data is contained in three files:\n",
    "\n",
    "* portfolio.json - containing offer ids and meta data about each offer (duration, type, etc.)\n",
    "* profile.json - demographic data for each customer\n",
    "* transcript.json - records for transactions, offers received, offers viewed, and offers completed\n",
    "\n",
    "Here is the schema and explanation of each variable in the files:\n",
    "\n",
    "**portfolio.json**\n",
    "* id (string) - offer id\n",
    "* offer_type (string) - type of offer ie BOGO, discount, informational\n",
    "* difficulty (int) - minimum required spend to complete an offer\n",
    "* reward (int) - reward given for completing an offer\n",
    "* duration (int) - time for offer to be open, in days\n",
    "* channels (list of strings)\n",
    "\n",
    "**profile.json**\n",
    "* age (int) - age of the customer \n",
    "* became_member_on (int) - date when customer created an app account\n",
    "* gender (str) - gender of the customer (note some entries contain 'O' for other rather than M or F)\n",
    "* id (str) - customer id\n",
    "* income (float) - customer's income\n",
    "\n",
    "**transcript.json**\n",
    "* event (str) - record description (ie transaction, offer received, offer viewed, etc.)\n",
    "* person (str) - customer id\n",
    "* time (int) - time in hours since start of test. The data begins at time t=0\n",
    "* value - (dict of strings) - either an offer id or transaction amount depending on the record\n",
    "\n",
    "**Note:** If you are using the workspace, you will need to go to the terminal and run the command `conda update pandas` before reading in the files. This is because the version of pandas in the workspace cannot read in the transcript.json file correctly, but the newest version of pandas can. You can access the termnal from the orange icon in the top left of this notebook.  \n",
    "\n",
    "You can see how to access the terminal and how the install works using the two images below.  First you need to access the terminal:\n",
    "\n",
    "<img src=\"pic1.png\"/>\n",
    "\n",
    "Then you will want to run the above command:\n",
    "\n",
    "<img src=\"pic2.png\"/>\n",
    "\n",
    "Finally, when you enter back into the notebook (use the jupyter icon again), you should be able to run the below cell without any errors."
   ]
  },
  {
   "cell_type": "code",
   "execution_count": 1,
   "metadata": {},
   "outputs": [],
   "source": [
    "import pandas as pd\n",
    "import numpy as np\n",
    "import math\n",
    "import json\n",
    "import datetime\n",
    "import matplotlib.pyplot as plt\n",
    "import seaborn as sns\n",
    "import pickle\n",
    "%matplotlib inline\n"
   ]
  },
  {
   "cell_type": "code",
   "execution_count": 2,
   "metadata": {},
   "outputs": [],
   "source": [
    "\n",
    "# read in the json files\n",
    "portfolio = pd.read_json('data/portfolio.json', orient='records', lines=True)\n",
    "profile = pd.read_json('data/profile.json', orient='records', lines=True)\n",
    "transcript = pd.read_json('data/transcript.json', orient='records', lines=True)"
   ]
  },
  {
   "cell_type": "markdown",
   "metadata": {},
   "source": [
    "# Begining of cleaning  in the display data set"
   ]
  },
  {
   "cell_type": "code",
   "execution_count": 3,
   "metadata": {},
   "outputs": [
    {
     "data": {
      "text/html": [
       "<div>\n",
       "<style scoped>\n",
       "    .dataframe tbody tr th:only-of-type {\n",
       "        vertical-align: middle;\n",
       "    }\n",
       "\n",
       "    .dataframe tbody tr th {\n",
       "        vertical-align: top;\n",
       "    }\n",
       "\n",
       "    .dataframe thead th {\n",
       "        text-align: right;\n",
       "    }\n",
       "</style>\n",
       "<table border=\"1\" class=\"dataframe\">\n",
       "  <thead>\n",
       "    <tr style=\"text-align: right;\">\n",
       "      <th></th>\n",
       "      <th>gender</th>\n",
       "      <th>age</th>\n",
       "      <th>id</th>\n",
       "      <th>became_member_on</th>\n",
       "      <th>income</th>\n",
       "    </tr>\n",
       "  </thead>\n",
       "  <tbody>\n",
       "    <tr>\n",
       "      <th>0</th>\n",
       "      <td>None</td>\n",
       "      <td>118</td>\n",
       "      <td>68be06ca386d4c31939f3a4f0e3dd783</td>\n",
       "      <td>20170212</td>\n",
       "      <td>NaN</td>\n",
       "    </tr>\n",
       "    <tr>\n",
       "      <th>1</th>\n",
       "      <td>F</td>\n",
       "      <td>55</td>\n",
       "      <td>0610b486422d4921ae7d2bf64640c50b</td>\n",
       "      <td>20170715</td>\n",
       "      <td>112000.0</td>\n",
       "    </tr>\n",
       "    <tr>\n",
       "      <th>2</th>\n",
       "      <td>None</td>\n",
       "      <td>118</td>\n",
       "      <td>38fe809add3b4fcf9315a9694bb96ff5</td>\n",
       "      <td>20180712</td>\n",
       "      <td>NaN</td>\n",
       "    </tr>\n",
       "    <tr>\n",
       "      <th>3</th>\n",
       "      <td>F</td>\n",
       "      <td>75</td>\n",
       "      <td>78afa995795e4d85b5d9ceeca43f5fef</td>\n",
       "      <td>20170509</td>\n",
       "      <td>100000.0</td>\n",
       "    </tr>\n",
       "    <tr>\n",
       "      <th>4</th>\n",
       "      <td>None</td>\n",
       "      <td>118</td>\n",
       "      <td>a03223e636434f42ac4c3df47e8bac43</td>\n",
       "      <td>20170804</td>\n",
       "      <td>NaN</td>\n",
       "    </tr>\n",
       "  </tbody>\n",
       "</table>\n",
       "</div>"
      ],
      "text/plain": [
       "  gender  age                                id  became_member_on    income\n",
       "0   None  118  68be06ca386d4c31939f3a4f0e3dd783          20170212       NaN\n",
       "1      F   55  0610b486422d4921ae7d2bf64640c50b          20170715  112000.0\n",
       "2   None  118  38fe809add3b4fcf9315a9694bb96ff5          20180712       NaN\n",
       "3      F   75  78afa995795e4d85b5d9ceeca43f5fef          20170509  100000.0\n",
       "4   None  118  a03223e636434f42ac4c3df47e8bac43          20170804       NaN"
      ]
     },
     "execution_count": 3,
     "metadata": {},
     "output_type": "execute_result"
    }
   ],
   "source": [
    "profile.head()"
   ]
  },
  {
   "cell_type": "code",
   "execution_count": 4,
   "metadata": {},
   "outputs": [
    {
     "data": {
      "text/plain": [
       "(17000, 5)"
      ]
     },
     "execution_count": 4,
     "metadata": {},
     "output_type": "execute_result"
    }
   ],
   "source": [
    "profile.shape"
   ]
  },
  {
   "cell_type": "code",
   "execution_count": 5,
   "metadata": {},
   "outputs": [
    {
     "data": {
      "text/plain": [
       "gender              2175\n",
       "age                    0\n",
       "id                     0\n",
       "became_member_on       0\n",
       "income              2175\n",
       "dtype: int64"
      ]
     },
     "execution_count": 5,
     "metadata": {},
     "output_type": "execute_result"
    }
   ],
   "source": [
    "profile.isnull().sum()"
   ]
  },
  {
   "cell_type": "code",
   "execution_count": 6,
   "metadata": {},
   "outputs": [
    {
     "name": "stdout",
     "output_type": "stream",
     "text": [
      "gender                 0\n",
      "age                 2175\n",
      "id                  2175\n",
      "became_member_on    2175\n",
      "income                 0\n",
      "dtype: int64\n"
     ]
    }
   ],
   "source": [
    "print(profile[profile['age']==118].count())"
   ]
  },
  {
   "cell_type": "code",
   "execution_count": 7,
   "metadata": {},
   "outputs": [
    {
     "data": {
      "text/html": [
       "<div>\n",
       "<style scoped>\n",
       "    .dataframe tbody tr th:only-of-type {\n",
       "        vertical-align: middle;\n",
       "    }\n",
       "\n",
       "    .dataframe tbody tr th {\n",
       "        vertical-align: top;\n",
       "    }\n",
       "\n",
       "    .dataframe thead th {\n",
       "        text-align: right;\n",
       "    }\n",
       "</style>\n",
       "<table border=\"1\" class=\"dataframe\">\n",
       "  <thead>\n",
       "    <tr style=\"text-align: right;\">\n",
       "      <th></th>\n",
       "      <th>gender</th>\n",
       "      <th>income</th>\n",
       "      <th>age</th>\n",
       "    </tr>\n",
       "  </thead>\n",
       "  <tbody>\n",
       "    <tr>\n",
       "      <th>0</th>\n",
       "      <td>None</td>\n",
       "      <td>NaN</td>\n",
       "      <td>118</td>\n",
       "    </tr>\n",
       "    <tr>\n",
       "      <th>2</th>\n",
       "      <td>None</td>\n",
       "      <td>NaN</td>\n",
       "      <td>118</td>\n",
       "    </tr>\n",
       "    <tr>\n",
       "      <th>4</th>\n",
       "      <td>None</td>\n",
       "      <td>NaN</td>\n",
       "      <td>118</td>\n",
       "    </tr>\n",
       "    <tr>\n",
       "      <th>6</th>\n",
       "      <td>None</td>\n",
       "      <td>NaN</td>\n",
       "      <td>118</td>\n",
       "    </tr>\n",
       "    <tr>\n",
       "      <th>7</th>\n",
       "      <td>None</td>\n",
       "      <td>NaN</td>\n",
       "      <td>118</td>\n",
       "    </tr>\n",
       "  </tbody>\n",
       "</table>\n",
       "</div>"
      ],
      "text/plain": [
       "  gender  income  age\n",
       "0   None     NaN  118\n",
       "2   None     NaN  118\n",
       "4   None     NaN  118\n",
       "6   None     NaN  118\n",
       "7   None     NaN  118"
      ]
     },
     "execution_count": 7,
     "metadata": {},
     "output_type": "execute_result"
    }
   ],
   "source": [
    "profile[['gender','income','age']][profile['age']==118].head()"
   ]
  },
  {
   "cell_type": "code",
   "execution_count": 91,
   "metadata": {},
   "outputs": [
    {
     "data": {
      "text/plain": [
       "array([112000., 100000.,  70000.,  53000.,  51000.,  57000.,  46000.,\n",
       "        71000.,  52000.,  42000.,  40000.,  69000.,  88000.,  59000.,\n",
       "        41000.,  96000.,  89000.,  33000.,  68000.,  63000.,  30000.,\n",
       "        98000.,  37000.,  80000.,  48000.,  38000.,  56000.,  93000.,\n",
       "        50000.,  35000.,  47000.,  87000.,  76000.,  64000.,  72000.,\n",
       "       117000.,  55000.,  77000.,  85000.,  36000.,  91000., 107000.,\n",
       "        66000.,  58000.,  74000.,  84000.,  54000.,  49000.,  73000.,\n",
       "        78000.,  31000.,  60000.,  44000., 114000.,  65000.,  79000.,\n",
       "        67000.,  94000., 108000.,  61000.,  43000.,  92000.,  62000.,\n",
       "        83000.,  34000., 105000.,  82000., 118000., 109000.,  99000.,\n",
       "        45000., 106000.,  95000., 103000., 101000., 110000.,  86000.,\n",
       "        39000.,  75000.,  90000.,  81000.,  32000., 120000., 119000.,\n",
       "        97000., 104000., 113000., 115000., 111000., 102000., 116000.])"
      ]
     },
     "execution_count": 91,
     "metadata": {},
     "output_type": "execute_result"
    }
   ],
   "source": [
    "profile.income.unique()"
   ]
  },
  {
   "cell_type": "markdown",
   "metadata": {},
   "source": [
    "We can deduce that he is using 118 nulls"
   ]
  },
  {
   "cell_type": "code",
   "execution_count": 8,
   "metadata": {},
   "outputs": [],
   "source": [
    "new_clean_profile =profile.copy()"
   ]
  },
  {
   "cell_type": "code",
   "execution_count": 9,
   "metadata": {},
   "outputs": [],
   "source": [
    "new_clean_profile['age']=new_clean_profile['age'].apply(lambda x: np.nan if x==118 else x)"
   ]
  },
  {
   "cell_type": "code",
   "execution_count": 10,
   "metadata": {},
   "outputs": [
    {
     "data": {
      "text/html": [
       "<div>\n",
       "<style scoped>\n",
       "    .dataframe tbody tr th:only-of-type {\n",
       "        vertical-align: middle;\n",
       "    }\n",
       "\n",
       "    .dataframe tbody tr th {\n",
       "        vertical-align: top;\n",
       "    }\n",
       "\n",
       "    .dataframe thead th {\n",
       "        text-align: right;\n",
       "    }\n",
       "</style>\n",
       "<table border=\"1\" class=\"dataframe\">\n",
       "  <thead>\n",
       "    <tr style=\"text-align: right;\">\n",
       "      <th></th>\n",
       "      <th>gender</th>\n",
       "      <th>age</th>\n",
       "      <th>id</th>\n",
       "      <th>became_member_on</th>\n",
       "      <th>income</th>\n",
       "    </tr>\n",
       "  </thead>\n",
       "  <tbody>\n",
       "    <tr>\n",
       "      <th>0</th>\n",
       "      <td>None</td>\n",
       "      <td>NaN</td>\n",
       "      <td>68be06ca386d4c31939f3a4f0e3dd783</td>\n",
       "      <td>20170212</td>\n",
       "      <td>NaN</td>\n",
       "    </tr>\n",
       "    <tr>\n",
       "      <th>1</th>\n",
       "      <td>F</td>\n",
       "      <td>55.0</td>\n",
       "      <td>0610b486422d4921ae7d2bf64640c50b</td>\n",
       "      <td>20170715</td>\n",
       "      <td>112000.0</td>\n",
       "    </tr>\n",
       "    <tr>\n",
       "      <th>2</th>\n",
       "      <td>None</td>\n",
       "      <td>NaN</td>\n",
       "      <td>38fe809add3b4fcf9315a9694bb96ff5</td>\n",
       "      <td>20180712</td>\n",
       "      <td>NaN</td>\n",
       "    </tr>\n",
       "    <tr>\n",
       "      <th>3</th>\n",
       "      <td>F</td>\n",
       "      <td>75.0</td>\n",
       "      <td>78afa995795e4d85b5d9ceeca43f5fef</td>\n",
       "      <td>20170509</td>\n",
       "      <td>100000.0</td>\n",
       "    </tr>\n",
       "    <tr>\n",
       "      <th>4</th>\n",
       "      <td>None</td>\n",
       "      <td>NaN</td>\n",
       "      <td>a03223e636434f42ac4c3df47e8bac43</td>\n",
       "      <td>20170804</td>\n",
       "      <td>NaN</td>\n",
       "    </tr>\n",
       "  </tbody>\n",
       "</table>\n",
       "</div>"
      ],
      "text/plain": [
       "  gender   age                                id  became_member_on    income\n",
       "0   None   NaN  68be06ca386d4c31939f3a4f0e3dd783          20170212       NaN\n",
       "1      F  55.0  0610b486422d4921ae7d2bf64640c50b          20170715  112000.0\n",
       "2   None   NaN  38fe809add3b4fcf9315a9694bb96ff5          20180712       NaN\n",
       "3      F  75.0  78afa995795e4d85b5d9ceeca43f5fef          20170509  100000.0\n",
       "4   None   NaN  a03223e636434f42ac4c3df47e8bac43          20170804       NaN"
      ]
     },
     "execution_count": 10,
     "metadata": {},
     "output_type": "execute_result"
    }
   ],
   "source": [
    "new_clean_profile.head()"
   ]
  },
  {
   "cell_type": "code",
   "execution_count": 11,
   "metadata": {},
   "outputs": [],
   "source": [
    "profile.dropna(inplace=True)"
   ]
  },
  {
   "cell_type": "code",
   "execution_count": 12,
   "metadata": {},
   "outputs": [],
   "source": [
    "new_clean_profile['memberdays'] = datetime.datetime.today().date() - pd.to_datetime(new_clean_profile['became_member_on'], format='%Y%m%d').dt.date\n",
    "new_clean_profile['memberdays'] = new_clean_profile['memberdays'].dt.days"
   ]
  },
  {
   "cell_type": "code",
   "execution_count": 13,
   "metadata": {},
   "outputs": [
    {
     "data": {
      "text/html": [
       "<div>\n",
       "<style scoped>\n",
       "    .dataframe tbody tr th:only-of-type {\n",
       "        vertical-align: middle;\n",
       "    }\n",
       "\n",
       "    .dataframe tbody tr th {\n",
       "        vertical-align: top;\n",
       "    }\n",
       "\n",
       "    .dataframe thead th {\n",
       "        text-align: right;\n",
       "    }\n",
       "</style>\n",
       "<table border=\"1\" class=\"dataframe\">\n",
       "  <thead>\n",
       "    <tr style=\"text-align: right;\">\n",
       "      <th></th>\n",
       "      <th>gender</th>\n",
       "      <th>age</th>\n",
       "      <th>id</th>\n",
       "      <th>became_member_on</th>\n",
       "      <th>income</th>\n",
       "      <th>memberdays</th>\n",
       "    </tr>\n",
       "  </thead>\n",
       "  <tbody>\n",
       "    <tr>\n",
       "      <th>0</th>\n",
       "      <td>None</td>\n",
       "      <td>NaN</td>\n",
       "      <td>68be06ca386d4c31939f3a4f0e3dd783</td>\n",
       "      <td>20170212</td>\n",
       "      <td>NaN</td>\n",
       "      <td>1476</td>\n",
       "    </tr>\n",
       "    <tr>\n",
       "      <th>1</th>\n",
       "      <td>F</td>\n",
       "      <td>55.0</td>\n",
       "      <td>0610b486422d4921ae7d2bf64640c50b</td>\n",
       "      <td>20170715</td>\n",
       "      <td>112000.0</td>\n",
       "      <td>1323</td>\n",
       "    </tr>\n",
       "    <tr>\n",
       "      <th>2</th>\n",
       "      <td>None</td>\n",
       "      <td>NaN</td>\n",
       "      <td>38fe809add3b4fcf9315a9694bb96ff5</td>\n",
       "      <td>20180712</td>\n",
       "      <td>NaN</td>\n",
       "      <td>961</td>\n",
       "    </tr>\n",
       "    <tr>\n",
       "      <th>3</th>\n",
       "      <td>F</td>\n",
       "      <td>75.0</td>\n",
       "      <td>78afa995795e4d85b5d9ceeca43f5fef</td>\n",
       "      <td>20170509</td>\n",
       "      <td>100000.0</td>\n",
       "      <td>1390</td>\n",
       "    </tr>\n",
       "    <tr>\n",
       "      <th>4</th>\n",
       "      <td>None</td>\n",
       "      <td>NaN</td>\n",
       "      <td>a03223e636434f42ac4c3df47e8bac43</td>\n",
       "      <td>20170804</td>\n",
       "      <td>NaN</td>\n",
       "      <td>1303</td>\n",
       "    </tr>\n",
       "  </tbody>\n",
       "</table>\n",
       "</div>"
      ],
      "text/plain": [
       "  gender   age                                id  became_member_on    income  \\\n",
       "0   None   NaN  68be06ca386d4c31939f3a4f0e3dd783          20170212       NaN   \n",
       "1      F  55.0  0610b486422d4921ae7d2bf64640c50b          20170715  112000.0   \n",
       "2   None   NaN  38fe809add3b4fcf9315a9694bb96ff5          20180712       NaN   \n",
       "3      F  75.0  78afa995795e4d85b5d9ceeca43f5fef          20170509  100000.0   \n",
       "4   None   NaN  a03223e636434f42ac4c3df47e8bac43          20170804       NaN   \n",
       "\n",
       "   memberdays  \n",
       "0        1476  \n",
       "1        1323  \n",
       "2         961  \n",
       "3        1390  \n",
       "4        1303  "
      ]
     },
     "execution_count": 13,
     "metadata": {},
     "output_type": "execute_result"
    }
   ],
   "source": [
    "new_clean_profile.head()"
   ]
  },
  {
   "cell_type": "code",
   "execution_count": 14,
   "metadata": {},
   "outputs": [
    {
     "data": {
      "image/png": "[encoded data removed]",
      "text/plain": [
       "<Figure size 432x288 with 1 Axes>"
      ]
     },
     "metadata": {
      "needs_background": "light"
     },
     "output_type": "display_data"
    }
   ],
   "source": [
    "plt.figure()\n",
    "new_clean_profile['age'].plot(kind='hist', bins=20, title='Distribution of Age')\n",
    "plt.xlabel(\"Distribution of age\");"
   ]
  },
  {
   "cell_type": "code",
   "execution_count": 15,
   "metadata": {},
   "outputs": [
    {
     "data": {
      "image/png": "[encoded data removed]",
      "text/plain": [
       "<Figure size 432x288 with 1 Axes>"
      ]
     },
     "metadata": {
      "needs_background": "light"
     },
     "output_type": "display_data"
    }
   ],
   "source": [
    " plt.figure()\n",
    "new_clean_profile['memberdays'].plot(kind='hist', bins=50, title='How long did the users become starbucks members?')\n",
    "plt.xlabel(\"Days\");"
   ]
  },
  {
   "cell_type": "code",
   "execution_count": 16,
   "metadata": {
    "scrolled": true
   },
   "outputs": [
    {
     "data": {
      "text/plain": [
       "Text(0.5, 0, 'Income')"
      ]
     },
     "execution_count": 16,
     "metadata": {},
     "output_type": "execute_result"
    },
    {
     "data": {
      "image/png": "[encoded data removed]",
      "text/plain": [
       "<Figure size 432x288 with 1 Axes>"
      ]
     },
     "metadata": {
      "needs_background": "light"
     },
     "output_type": "display_data"
    }
   ],
   "source": [
    "plt.figure()\n",
    "new_clean_profile['income'].plot(kind='hist', bins=20, title='Distribution of  Income')\n",
    "plt.xlabel(\"Income\")"
   ]
  },
  {
   "cell_type": "code",
   "execution_count": 17,
   "metadata": {},
   "outputs": [],
   "source": [
    "new_clean_profile.rename(columns={'id':'the_id'}, inplace=True)"
   ]
  },
  {
   "cell_type": "code",
   "execution_count": 18,
   "metadata": {},
   "outputs": [
    {
     "data": {
      "image/png": "[encoded data removed]",
      "text/plain": [
       "<Figure size 432x288 with 1 Axes>"
      ]
     },
     "metadata": {
      "needs_background": "light"
     },
     "output_type": "display_data"
    }
   ],
   "source": [
    "sns.countplot(x=new_clean_profile[new_clean_profile['gender'] != 'NA']['gender'])\n",
    "plt.title('Income vs Gender')\n",
    "plt.ylabel('Income')\n",
    "plt.xlabel('Gender')\n",
    "plt.xticks(rotation = 0)\n",
    "plt.savefig('Age range.png')"
   ]
  },
  {
   "cell_type": "markdown",
   "metadata": {},
   "source": [
    "# End of cleaning in the display data set"
   ]
  },
  {
   "cell_type": "markdown",
   "metadata": {},
   "source": [
    "# Begining of cleaning in the Portfolio data set"
   ]
  },
  {
   "cell_type": "markdown",
   "metadata": {},
   "source": [
    "# Portfolio.json\n",
    "\n",
    "* id (string) - offer id\n",
    "* offer_type (string) - type of offer ie BOGO, discount, informational\n",
    "* difficulty (int) - minimum required spend to complete an offer\n",
    "* reward (int) - reward given for completing an offer\n",
    "* duration (int) - time for offer to be open, in days\n",
    "* channels (list of strings)"
   ]
  },
  {
   "cell_type": "code",
   "execution_count": 19,
   "metadata": {},
   "outputs": [
    {
     "data": {
      "text/html": [
       "<div>\n",
       "<style scoped>\n",
       "    .dataframe tbody tr th:only-of-type {\n",
       "        vertical-align: middle;\n",
       "    }\n",
       "\n",
       "    .dataframe tbody tr th {\n",
       "        vertical-align: top;\n",
       "    }\n",
       "\n",
       "    .dataframe thead th {\n",
       "        text-align: right;\n",
       "    }\n",
       "</style>\n",
       "<table border=\"1\" class=\"dataframe\">\n",
       "  <thead>\n",
       "    <tr style=\"text-align: right;\">\n",
       "      <th></th>\n",
       "      <th>reward</th>\n",
       "      <th>channels</th>\n",
       "      <th>difficulty</th>\n",
       "      <th>duration</th>\n",
       "      <th>offer_type</th>\n",
       "      <th>id</th>\n",
       "    </tr>\n",
       "  </thead>\n",
       "  <tbody>\n",
       "    <tr>\n",
       "      <th>0</th>\n",
       "      <td>10</td>\n",
       "      <td>[email, mobile, social]</td>\n",
       "      <td>10</td>\n",
       "      <td>7</td>\n",
       "      <td>bogo</td>\n",
       "      <td>ae264e3637204a6fb9bb56bc8210ddfd</td>\n",
       "    </tr>\n",
       "    <tr>\n",
       "      <th>1</th>\n",
       "      <td>10</td>\n",
       "      <td>[web, email, mobile, social]</td>\n",
       "      <td>10</td>\n",
       "      <td>5</td>\n",
       "      <td>bogo</td>\n",
       "      <td>4d5c57ea9a6940dd891ad53e9dbe8da0</td>\n",
       "    </tr>\n",
       "    <tr>\n",
       "      <th>2</th>\n",
       "      <td>0</td>\n",
       "      <td>[web, email, mobile]</td>\n",
       "      <td>0</td>\n",
       "      <td>4</td>\n",
       "      <td>informational</td>\n",
       "      <td>3f207df678b143eea3cee63160fa8bed</td>\n",
       "    </tr>\n",
       "    <tr>\n",
       "      <th>3</th>\n",
       "      <td>5</td>\n",
       "      <td>[web, email, mobile]</td>\n",
       "      <td>5</td>\n",
       "      <td>7</td>\n",
       "      <td>bogo</td>\n",
       "      <td>9b98b8c7a33c4b65b9aebfe6a799e6d9</td>\n",
       "    </tr>\n",
       "    <tr>\n",
       "      <th>4</th>\n",
       "      <td>5</td>\n",
       "      <td>[web, email]</td>\n",
       "      <td>20</td>\n",
       "      <td>10</td>\n",
       "      <td>discount</td>\n",
       "      <td>0b1e1539f2cc45b7b9fa7c272da2e1d7</td>\n",
       "    </tr>\n",
       "  </tbody>\n",
       "</table>\n",
       "</div>"
      ],
      "text/plain": [
       "   reward                      channels  difficulty  duration     offer_type  \\\n",
       "0      10       [email, mobile, social]          10         7           bogo   \n",
       "1      10  [web, email, mobile, social]          10         5           bogo   \n",
       "2       0          [web, email, mobile]           0         4  informational   \n",
       "3       5          [web, email, mobile]           5         7           bogo   \n",
       "4       5                  [web, email]          20        10       discount   \n",
       "\n",
       "                                 id  \n",
       "0  ae264e3637204a6fb9bb56bc8210ddfd  \n",
       "1  4d5c57ea9a6940dd891ad53e9dbe8da0  \n",
       "2  3f207df678b143eea3cee63160fa8bed  \n",
       "3  9b98b8c7a33c4b65b9aebfe6a799e6d9  \n",
       "4  0b1e1539f2cc45b7b9fa7c272da2e1d7  "
      ]
     },
     "execution_count": 19,
     "metadata": {},
     "output_type": "execute_result"
    }
   ],
   "source": [
    "portfolio.head()"
   ]
  },
  {
   "cell_type": "code",
   "execution_count": 20,
   "metadata": {},
   "outputs": [
    {
     "data": {
      "text/plain": [
       "reward        0\n",
       "channels      0\n",
       "difficulty    0\n",
       "duration      0\n",
       "offer_type    0\n",
       "id            0\n",
       "dtype: int64"
      ]
     },
     "execution_count": 20,
     "metadata": {},
     "output_type": "execute_result"
    }
   ],
   "source": [
    "portfolio.isnull().sum()"
   ]
  },
  {
   "cell_type": "code",
   "execution_count": 94,
   "metadata": {},
   "outputs": [
    {
     "data": {
      "text/plain": [
       "array([10,  0,  5,  3,  2])"
      ]
     },
     "execution_count": 94,
     "metadata": {},
     "output_type": "execute_result"
    }
   ],
   "source": [
    "portfolio.reward.unique()"
   ]
  },
  {
   "cell_type": "code",
   "execution_count": 21,
   "metadata": {},
   "outputs": [
    {
     "data": {
      "text/plain": [
       "10"
      ]
     },
     "execution_count": 21,
     "metadata": {},
     "output_type": "execute_result"
    }
   ],
   "source": [
    "portfolio.id.nunique()"
   ]
  },
  {
   "cell_type": "code",
   "execution_count": 22,
   "metadata": {},
   "outputs": [
    {
     "data": {
      "text/plain": [
       "array(['ae264e3637204a6fb9bb56bc8210ddfd',\n",
       "       '4d5c57ea9a6940dd891ad53e9dbe8da0',\n",
       "       '3f207df678b143eea3cee63160fa8bed',\n",
       "       '9b98b8c7a33c4b65b9aebfe6a799e6d9',\n",
       "       '0b1e1539f2cc45b7b9fa7c272da2e1d7',\n",
       "       '2298d6c36e964ae4a3e7e9706d1fb8c2',\n",
       "       'fafdcd668e3743c1bb461111dcafc2a4',\n",
       "       '5a8bc65990b245e5a138643cd4eb9837',\n",
       "       'f19421c1d4aa40978ebb69ca19b0e20d',\n",
       "       '2906b810c7d4411798c6938adc9daaa5'], dtype=object)"
      ]
     },
     "execution_count": 22,
     "metadata": {},
     "output_type": "execute_result"
    }
   ],
   "source": [
    "portfolio.id.unique()"
   ]
  },
  {
   "cell_type": "code",
   "execution_count": 23,
   "metadata": {},
   "outputs": [
    {
     "data": {
      "text/plain": [
       "array(['bogo', 'informational', 'discount'], dtype=object)"
      ]
     },
     "execution_count": 23,
     "metadata": {},
     "output_type": "execute_result"
    }
   ],
   "source": [
    "portfolio.offer_type.unique()"
   ]
  },
  {
   "cell_type": "code",
   "execution_count": 24,
   "metadata": {},
   "outputs": [
    {
     "data": {
      "text/plain": [
       "3"
      ]
     },
     "execution_count": 24,
     "metadata": {},
     "output_type": "execute_result"
    }
   ],
   "source": [
    "portfolio.offer_type.nunique()"
   ]
  },
  {
   "cell_type": "code",
   "execution_count": 25,
   "metadata": {},
   "outputs": [
    {
     "data": {
      "text/plain": [
       "offer_type\n",
       "bogo             4\n",
       "discount         4\n",
       "informational    2\n",
       "Name: id, dtype: int64"
      ]
     },
     "execution_count": 25,
     "metadata": {},
     "output_type": "execute_result"
    }
   ],
   "source": [
    "portfolio.groupby('offer_type')['id'].count()"
   ]
  },
  {
   "cell_type": "code",
   "execution_count": 26,
   "metadata": {},
   "outputs": [],
   "source": [
    "new_clean_portfolio =portfolio.copy()"
   ]
  },
  {
   "cell_type": "code",
   "execution_count": 27,
   "metadata": {},
   "outputs": [],
   "source": [
    "new_clean_portfolio['duration'] = new_clean_portfolio['duration'] * 24 # this is used to change the duration into hours\n"
   ]
  },
  {
   "cell_type": "code",
   "execution_count": 28,
   "metadata": {},
   "outputs": [],
   "source": [
    "new_clean_portfolio['web'] = new_clean_portfolio['channels'].apply(lambda x: 1 if 'web' in x else 0)\n",
    "new_clean_portfolio['email'] = new_clean_portfolio['channels'].apply(lambda x: 1 if 'email' in x else 0)\n",
    "new_clean_portfolio['mobile'] = new_clean_portfolio['channels'].apply(lambda x: 1 if 'mobile' in x else 0)\n",
    "new_clean_portfolio['social'] = new_clean_portfolio['channels'].apply(lambda x: 1 if 'social' in x else 0)"
   ]
  },
  {
   "cell_type": "code",
   "execution_count": 29,
   "metadata": {},
   "outputs": [],
   "source": [
    "offer_type = pd.get_dummies(new_clean_portfolio['offer_type'])\n"
   ]
  },
  {
   "cell_type": "code",
   "execution_count": 30,
   "metadata": {},
   "outputs": [
    {
     "data": {
      "text/html": [
       "<div>\n",
       "<style scoped>\n",
       "    .dataframe tbody tr th:only-of-type {\n",
       "        vertical-align: middle;\n",
       "    }\n",
       "\n",
       "    .dataframe tbody tr th {\n",
       "        vertical-align: top;\n",
       "    }\n",
       "\n",
       "    .dataframe thead th {\n",
       "        text-align: right;\n",
       "    }\n",
       "</style>\n",
       "<table border=\"1\" class=\"dataframe\">\n",
       "  <thead>\n",
       "    <tr style=\"text-align: right;\">\n",
       "      <th></th>\n",
       "      <th>reward</th>\n",
       "      <th>channels</th>\n",
       "      <th>difficulty</th>\n",
       "      <th>duration</th>\n",
       "      <th>offer_type</th>\n",
       "      <th>id</th>\n",
       "      <th>web</th>\n",
       "      <th>email</th>\n",
       "      <th>mobile</th>\n",
       "      <th>social</th>\n",
       "    </tr>\n",
       "  </thead>\n",
       "  <tbody>\n",
       "    <tr>\n",
       "      <th>0</th>\n",
       "      <td>10</td>\n",
       "      <td>[email, mobile, social]</td>\n",
       "      <td>10</td>\n",
       "      <td>168</td>\n",
       "      <td>bogo</td>\n",
       "      <td>ae264e3637204a6fb9bb56bc8210ddfd</td>\n",
       "      <td>0</td>\n",
       "      <td>1</td>\n",
       "      <td>1</td>\n",
       "      <td>1</td>\n",
       "    </tr>\n",
       "    <tr>\n",
       "      <th>1</th>\n",
       "      <td>10</td>\n",
       "      <td>[web, email, mobile, social]</td>\n",
       "      <td>10</td>\n",
       "      <td>120</td>\n",
       "      <td>bogo</td>\n",
       "      <td>4d5c57ea9a6940dd891ad53e9dbe8da0</td>\n",
       "      <td>1</td>\n",
       "      <td>1</td>\n",
       "      <td>1</td>\n",
       "      <td>1</td>\n",
       "    </tr>\n",
       "    <tr>\n",
       "      <th>2</th>\n",
       "      <td>0</td>\n",
       "      <td>[web, email, mobile]</td>\n",
       "      <td>0</td>\n",
       "      <td>96</td>\n",
       "      <td>informational</td>\n",
       "      <td>3f207df678b143eea3cee63160fa8bed</td>\n",
       "      <td>1</td>\n",
       "      <td>1</td>\n",
       "      <td>1</td>\n",
       "      <td>0</td>\n",
       "    </tr>\n",
       "    <tr>\n",
       "      <th>3</th>\n",
       "      <td>5</td>\n",
       "      <td>[web, email, mobile]</td>\n",
       "      <td>5</td>\n",
       "      <td>168</td>\n",
       "      <td>bogo</td>\n",
       "      <td>9b98b8c7a33c4b65b9aebfe6a799e6d9</td>\n",
       "      <td>1</td>\n",
       "      <td>1</td>\n",
       "      <td>1</td>\n",
       "      <td>0</td>\n",
       "    </tr>\n",
       "    <tr>\n",
       "      <th>4</th>\n",
       "      <td>5</td>\n",
       "      <td>[web, email]</td>\n",
       "      <td>20</td>\n",
       "      <td>240</td>\n",
       "      <td>discount</td>\n",
       "      <td>0b1e1539f2cc45b7b9fa7c272da2e1d7</td>\n",
       "      <td>1</td>\n",
       "      <td>1</td>\n",
       "      <td>0</td>\n",
       "      <td>0</td>\n",
       "    </tr>\n",
       "  </tbody>\n",
       "</table>\n",
       "</div>"
      ],
      "text/plain": [
       "   reward                      channels  difficulty  duration     offer_type  \\\n",
       "0      10       [email, mobile, social]          10       168           bogo   \n",
       "1      10  [web, email, mobile, social]          10       120           bogo   \n",
       "2       0          [web, email, mobile]           0        96  informational   \n",
       "3       5          [web, email, mobile]           5       168           bogo   \n",
       "4       5                  [web, email]          20       240       discount   \n",
       "\n",
       "                                 id  web  email  mobile  social  \n",
       "0  ae264e3637204a6fb9bb56bc8210ddfd    0      1       1       1  \n",
       "1  4d5c57ea9a6940dd891ad53e9dbe8da0    1      1       1       1  \n",
       "2  3f207df678b143eea3cee63160fa8bed    1      1       1       0  \n",
       "3  9b98b8c7a33c4b65b9aebfe6a799e6d9    1      1       1       0  \n",
       "4  0b1e1539f2cc45b7b9fa7c272da2e1d7    1      1       0       0  "
      ]
     },
     "execution_count": 30,
     "metadata": {},
     "output_type": "execute_result"
    }
   ],
   "source": [
    "new_clean_portfolio.head()"
   ]
  },
  {
   "cell_type": "code",
   "execution_count": 31,
   "metadata": {},
   "outputs": [
    {
     "data": {
      "text/html": [
       "<div>\n",
       "<style scoped>\n",
       "    .dataframe tbody tr th:only-of-type {\n",
       "        vertical-align: middle;\n",
       "    }\n",
       "\n",
       "    .dataframe tbody tr th {\n",
       "        vertical-align: top;\n",
       "    }\n",
       "\n",
       "    .dataframe thead th {\n",
       "        text-align: right;\n",
       "    }\n",
       "</style>\n",
       "<table border=\"1\" class=\"dataframe\">\n",
       "  <thead>\n",
       "    <tr style=\"text-align: right;\">\n",
       "      <th></th>\n",
       "      <th>bogo</th>\n",
       "      <th>discount</th>\n",
       "      <th>informational</th>\n",
       "    </tr>\n",
       "  </thead>\n",
       "  <tbody>\n",
       "    <tr>\n",
       "      <th>0</th>\n",
       "      <td>1</td>\n",
       "      <td>0</td>\n",
       "      <td>0</td>\n",
       "    </tr>\n",
       "    <tr>\n",
       "      <th>1</th>\n",
       "      <td>1</td>\n",
       "      <td>0</td>\n",
       "      <td>0</td>\n",
       "    </tr>\n",
       "    <tr>\n",
       "      <th>2</th>\n",
       "      <td>0</td>\n",
       "      <td>0</td>\n",
       "      <td>1</td>\n",
       "    </tr>\n",
       "    <tr>\n",
       "      <th>3</th>\n",
       "      <td>1</td>\n",
       "      <td>0</td>\n",
       "      <td>0</td>\n",
       "    </tr>\n",
       "    <tr>\n",
       "      <th>4</th>\n",
       "      <td>0</td>\n",
       "      <td>1</td>\n",
       "      <td>0</td>\n",
       "    </tr>\n",
       "  </tbody>\n",
       "</table>\n",
       "</div>"
      ],
      "text/plain": [
       "   bogo  discount  informational\n",
       "0     1         0              0\n",
       "1     1         0              0\n",
       "2     0         0              1\n",
       "3     1         0              0\n",
       "4     0         1              0"
      ]
     },
     "execution_count": 31,
     "metadata": {},
     "output_type": "execute_result"
    }
   ],
   "source": [
    "offer_type.head()"
   ]
  },
  {
   "cell_type": "code",
   "execution_count": 32,
   "metadata": {},
   "outputs": [],
   "source": [
    "new_clean_portfolio.drop(['channels', 'offer_type'], axis=1, inplace=True)\n"
   ]
  },
  {
   "cell_type": "code",
   "execution_count": 33,
   "metadata": {},
   "outputs": [],
   "source": [
    "new_clean_portfolio = pd.concat([new_clean_portfolio, offer_type], axis=1, sort=False)\n"
   ]
  },
  {
   "cell_type": "code",
   "execution_count": 34,
   "metadata": {},
   "outputs": [
    {
     "data": {
      "text/html": [
       "<div>\n",
       "<style scoped>\n",
       "    .dataframe tbody tr th:only-of-type {\n",
       "        vertical-align: middle;\n",
       "    }\n",
       "\n",
       "    .dataframe tbody tr th {\n",
       "        vertical-align: top;\n",
       "    }\n",
       "\n",
       "    .dataframe thead th {\n",
       "        text-align: right;\n",
       "    }\n",
       "</style>\n",
       "<table border=\"1\" class=\"dataframe\">\n",
       "  <thead>\n",
       "    <tr style=\"text-align: right;\">\n",
       "      <th></th>\n",
       "      <th>reward</th>\n",
       "      <th>difficulty</th>\n",
       "      <th>duration</th>\n",
       "      <th>id</th>\n",
       "      <th>web</th>\n",
       "      <th>email</th>\n",
       "      <th>mobile</th>\n",
       "      <th>social</th>\n",
       "      <th>bogo</th>\n",
       "      <th>discount</th>\n",
       "      <th>informational</th>\n",
       "    </tr>\n",
       "  </thead>\n",
       "  <tbody>\n",
       "    <tr>\n",
       "      <th>0</th>\n",
       "      <td>10</td>\n",
       "      <td>10</td>\n",
       "      <td>168</td>\n",
       "      <td>ae264e3637204a6fb9bb56bc8210ddfd</td>\n",
       "      <td>0</td>\n",
       "      <td>1</td>\n",
       "      <td>1</td>\n",
       "      <td>1</td>\n",
       "      <td>1</td>\n",
       "      <td>0</td>\n",
       "      <td>0</td>\n",
       "    </tr>\n",
       "    <tr>\n",
       "      <th>1</th>\n",
       "      <td>10</td>\n",
       "      <td>10</td>\n",
       "      <td>120</td>\n",
       "      <td>4d5c57ea9a6940dd891ad53e9dbe8da0</td>\n",
       "      <td>1</td>\n",
       "      <td>1</td>\n",
       "      <td>1</td>\n",
       "      <td>1</td>\n",
       "      <td>1</td>\n",
       "      <td>0</td>\n",
       "      <td>0</td>\n",
       "    </tr>\n",
       "    <tr>\n",
       "      <th>2</th>\n",
       "      <td>0</td>\n",
       "      <td>0</td>\n",
       "      <td>96</td>\n",
       "      <td>3f207df678b143eea3cee63160fa8bed</td>\n",
       "      <td>1</td>\n",
       "      <td>1</td>\n",
       "      <td>1</td>\n",
       "      <td>0</td>\n",
       "      <td>0</td>\n",
       "      <td>0</td>\n",
       "      <td>1</td>\n",
       "    </tr>\n",
       "    <tr>\n",
       "      <th>3</th>\n",
       "      <td>5</td>\n",
       "      <td>5</td>\n",
       "      <td>168</td>\n",
       "      <td>9b98b8c7a33c4b65b9aebfe6a799e6d9</td>\n",
       "      <td>1</td>\n",
       "      <td>1</td>\n",
       "      <td>1</td>\n",
       "      <td>0</td>\n",
       "      <td>1</td>\n",
       "      <td>0</td>\n",
       "      <td>0</td>\n",
       "    </tr>\n",
       "    <tr>\n",
       "      <th>4</th>\n",
       "      <td>5</td>\n",
       "      <td>20</td>\n",
       "      <td>240</td>\n",
       "      <td>0b1e1539f2cc45b7b9fa7c272da2e1d7</td>\n",
       "      <td>1</td>\n",
       "      <td>1</td>\n",
       "      <td>0</td>\n",
       "      <td>0</td>\n",
       "      <td>0</td>\n",
       "      <td>1</td>\n",
       "      <td>0</td>\n",
       "    </tr>\n",
       "  </tbody>\n",
       "</table>\n",
       "</div>"
      ],
      "text/plain": [
       "   reward  difficulty  duration                                id  web  email  \\\n",
       "0      10          10       168  ae264e3637204a6fb9bb56bc8210ddfd    0      1   \n",
       "1      10          10       120  4d5c57ea9a6940dd891ad53e9dbe8da0    1      1   \n",
       "2       0           0        96  3f207df678b143eea3cee63160fa8bed    1      1   \n",
       "3       5           5       168  9b98b8c7a33c4b65b9aebfe6a799e6d9    1      1   \n",
       "4       5          20       240  0b1e1539f2cc45b7b9fa7c272da2e1d7    1      1   \n",
       "\n",
       "   mobile  social  bogo  discount  informational  \n",
       "0       1       1     1         0              0  \n",
       "1       1       1     1         0              0  \n",
       "2       1       0     0         0              1  \n",
       "3       1       0     1         0              0  \n",
       "4       0       0     0         1              0  "
      ]
     },
     "execution_count": 34,
     "metadata": {},
     "output_type": "execute_result"
    }
   ],
   "source": [
    "new_clean_portfolio.head()"
   ]
  },
  {
   "cell_type": "code",
   "execution_count": 35,
   "metadata": {},
   "outputs": [
    {
     "data": {
      "text/plain": [
       "reward           0\n",
       "difficulty       0\n",
       "duration         0\n",
       "id               0\n",
       "web              0\n",
       "email            0\n",
       "mobile           0\n",
       "social           0\n",
       "bogo             0\n",
       "discount         0\n",
       "informational    0\n",
       "dtype: int64"
      ]
     },
     "execution_count": 35,
     "metadata": {},
     "output_type": "execute_result"
    }
   ],
   "source": [
    "new_clean_portfolio.isnull().sum()"
   ]
  },
  {
   "cell_type": "code",
   "execution_count": 36,
   "metadata": {},
   "outputs": [],
   "source": [
    "new_clean_portfolio.rename(columns={'id':'offer_id'}, inplace=True)\n"
   ]
  },
  {
   "cell_type": "code",
   "execution_count": 37,
   "metadata": {},
   "outputs": [],
   "source": [
    "offer_id = {'ae264e3637204a6fb9bb56bc8210ddfd': 'O0',\n",
    "                '4d5c57ea9a6940dd891ad53e9dbe8da0': 'O1',\n",
    "                '9b98b8c7a33c4b65b9aebfe6a799e6d9': 'O2',\n",
    "                'f19421c1d4aa40978ebb69ca19b0e20d': 'O3',\n",
    "                '0b1e1539f2cc45b7b9fa7c272da2e1d7': 'O4',\n",
    "                '2298d6c36e964ae4a3e7e9706d1fb8c2': 'O5',\n",
    "                'fafdcd668e3743c1bb461111dcafc2a4': 'O6',\n",
    "                '2906b810c7d4411798c6938adc9daaa5': 'O7',\n",
    "                '3f207df678b143eea3cee63160fa8bed': 'O8',\n",
    "                '5a8bc65990b245e5a138643cd4eb9837': 'O9'}\n",
    "new_clean_portfolio.offer_id = new_clean_portfolio.offer_id.apply(lambda x: offer_id[x] if x else None)\n"
   ]
  },
  {
   "cell_type": "code",
   "execution_count": 38,
   "metadata": {},
   "outputs": [],
   "source": [
    "portfolio.id = portfolio.id.apply(lambda x: offer_id[x] if x else None)"
   ]
  },
  {
   "cell_type": "code",
   "execution_count": 39,
   "metadata": {},
   "outputs": [
    {
     "data": {
      "text/html": [
       "<div>\n",
       "<style scoped>\n",
       "    .dataframe tbody tr th:only-of-type {\n",
       "        vertical-align: middle;\n",
       "    }\n",
       "\n",
       "    .dataframe tbody tr th {\n",
       "        vertical-align: top;\n",
       "    }\n",
       "\n",
       "    .dataframe thead th {\n",
       "        text-align: right;\n",
       "    }\n",
       "</style>\n",
       "<table border=\"1\" class=\"dataframe\">\n",
       "  <thead>\n",
       "    <tr style=\"text-align: right;\">\n",
       "      <th></th>\n",
       "      <th>reward</th>\n",
       "      <th>channels</th>\n",
       "      <th>difficulty</th>\n",
       "      <th>duration</th>\n",
       "      <th>offer_type</th>\n",
       "      <th>id</th>\n",
       "    </tr>\n",
       "  </thead>\n",
       "  <tbody>\n",
       "    <tr>\n",
       "      <th>0</th>\n",
       "      <td>10</td>\n",
       "      <td>[email, mobile, social]</td>\n",
       "      <td>10</td>\n",
       "      <td>7</td>\n",
       "      <td>bogo</td>\n",
       "      <td>O0</td>\n",
       "    </tr>\n",
       "    <tr>\n",
       "      <th>1</th>\n",
       "      <td>10</td>\n",
       "      <td>[web, email, mobile, social]</td>\n",
       "      <td>10</td>\n",
       "      <td>5</td>\n",
       "      <td>bogo</td>\n",
       "      <td>O1</td>\n",
       "    </tr>\n",
       "    <tr>\n",
       "      <th>2</th>\n",
       "      <td>0</td>\n",
       "      <td>[web, email, mobile]</td>\n",
       "      <td>0</td>\n",
       "      <td>4</td>\n",
       "      <td>informational</td>\n",
       "      <td>O8</td>\n",
       "    </tr>\n",
       "    <tr>\n",
       "      <th>3</th>\n",
       "      <td>5</td>\n",
       "      <td>[web, email, mobile]</td>\n",
       "      <td>5</td>\n",
       "      <td>7</td>\n",
       "      <td>bogo</td>\n",
       "      <td>O2</td>\n",
       "    </tr>\n",
       "    <tr>\n",
       "      <th>4</th>\n",
       "      <td>5</td>\n",
       "      <td>[web, email]</td>\n",
       "      <td>20</td>\n",
       "      <td>10</td>\n",
       "      <td>discount</td>\n",
       "      <td>O4</td>\n",
       "    </tr>\n",
       "    <tr>\n",
       "      <th>5</th>\n",
       "      <td>3</td>\n",
       "      <td>[web, email, mobile, social]</td>\n",
       "      <td>7</td>\n",
       "      <td>7</td>\n",
       "      <td>discount</td>\n",
       "      <td>O5</td>\n",
       "    </tr>\n",
       "    <tr>\n",
       "      <th>6</th>\n",
       "      <td>2</td>\n",
       "      <td>[web, email, mobile, social]</td>\n",
       "      <td>10</td>\n",
       "      <td>10</td>\n",
       "      <td>discount</td>\n",
       "      <td>O6</td>\n",
       "    </tr>\n",
       "    <tr>\n",
       "      <th>7</th>\n",
       "      <td>0</td>\n",
       "      <td>[email, mobile, social]</td>\n",
       "      <td>0</td>\n",
       "      <td>3</td>\n",
       "      <td>informational</td>\n",
       "      <td>O9</td>\n",
       "    </tr>\n",
       "    <tr>\n",
       "      <th>8</th>\n",
       "      <td>5</td>\n",
       "      <td>[web, email, mobile, social]</td>\n",
       "      <td>5</td>\n",
       "      <td>5</td>\n",
       "      <td>bogo</td>\n",
       "      <td>O3</td>\n",
       "    </tr>\n",
       "    <tr>\n",
       "      <th>9</th>\n",
       "      <td>2</td>\n",
       "      <td>[web, email, mobile]</td>\n",
       "      <td>10</td>\n",
       "      <td>7</td>\n",
       "      <td>discount</td>\n",
       "      <td>O7</td>\n",
       "    </tr>\n",
       "  </tbody>\n",
       "</table>\n",
       "</div>"
      ],
      "text/plain": [
       "   reward                      channels  difficulty  duration     offer_type  \\\n",
       "0      10       [email, mobile, social]          10         7           bogo   \n",
       "1      10  [web, email, mobile, social]          10         5           bogo   \n",
       "2       0          [web, email, mobile]           0         4  informational   \n",
       "3       5          [web, email, mobile]           5         7           bogo   \n",
       "4       5                  [web, email]          20        10       discount   \n",
       "5       3  [web, email, mobile, social]           7         7       discount   \n",
       "6       2  [web, email, mobile, social]          10        10       discount   \n",
       "7       0       [email, mobile, social]           0         3  informational   \n",
       "8       5  [web, email, mobile, social]           5         5           bogo   \n",
       "9       2          [web, email, mobile]          10         7       discount   \n",
       "\n",
       "   id  \n",
       "0  O0  \n",
       "1  O1  \n",
       "2  O8  \n",
       "3  O2  \n",
       "4  O4  \n",
       "5  O5  \n",
       "6  O6  \n",
       "7  O9  \n",
       "8  O3  \n",
       "9  O7  "
      ]
     },
     "execution_count": 39,
     "metadata": {},
     "output_type": "execute_result"
    }
   ],
   "source": [
    "portfolio"
   ]
  },
  {
   "cell_type": "code",
   "execution_count": 40,
   "metadata": {},
   "outputs": [
    {
     "data": {
      "text/html": [
       "<div>\n",
       "<style scoped>\n",
       "    .dataframe tbody tr th:only-of-type {\n",
       "        vertical-align: middle;\n",
       "    }\n",
       "\n",
       "    .dataframe tbody tr th {\n",
       "        vertical-align: top;\n",
       "    }\n",
       "\n",
       "    .dataframe thead th {\n",
       "        text-align: right;\n",
       "    }\n",
       "</style>\n",
       "<table border=\"1\" class=\"dataframe\">\n",
       "  <thead>\n",
       "    <tr style=\"text-align: right;\">\n",
       "      <th></th>\n",
       "      <th>reward</th>\n",
       "      <th>difficulty</th>\n",
       "      <th>duration</th>\n",
       "      <th>offer_id</th>\n",
       "      <th>web</th>\n",
       "      <th>email</th>\n",
       "      <th>mobile</th>\n",
       "      <th>social</th>\n",
       "      <th>bogo</th>\n",
       "      <th>discount</th>\n",
       "      <th>informational</th>\n",
       "    </tr>\n",
       "  </thead>\n",
       "  <tbody>\n",
       "    <tr>\n",
       "      <th>0</th>\n",
       "      <td>10</td>\n",
       "      <td>10</td>\n",
       "      <td>168</td>\n",
       "      <td>O0</td>\n",
       "      <td>0</td>\n",
       "      <td>1</td>\n",
       "      <td>1</td>\n",
       "      <td>1</td>\n",
       "      <td>1</td>\n",
       "      <td>0</td>\n",
       "      <td>0</td>\n",
       "    </tr>\n",
       "    <tr>\n",
       "      <th>1</th>\n",
       "      <td>10</td>\n",
       "      <td>10</td>\n",
       "      <td>120</td>\n",
       "      <td>O1</td>\n",
       "      <td>1</td>\n",
       "      <td>1</td>\n",
       "      <td>1</td>\n",
       "      <td>1</td>\n",
       "      <td>1</td>\n",
       "      <td>0</td>\n",
       "      <td>0</td>\n",
       "    </tr>\n",
       "    <tr>\n",
       "      <th>2</th>\n",
       "      <td>0</td>\n",
       "      <td>0</td>\n",
       "      <td>96</td>\n",
       "      <td>O8</td>\n",
       "      <td>1</td>\n",
       "      <td>1</td>\n",
       "      <td>1</td>\n",
       "      <td>0</td>\n",
       "      <td>0</td>\n",
       "      <td>0</td>\n",
       "      <td>1</td>\n",
       "    </tr>\n",
       "    <tr>\n",
       "      <th>3</th>\n",
       "      <td>5</td>\n",
       "      <td>5</td>\n",
       "      <td>168</td>\n",
       "      <td>O2</td>\n",
       "      <td>1</td>\n",
       "      <td>1</td>\n",
       "      <td>1</td>\n",
       "      <td>0</td>\n",
       "      <td>1</td>\n",
       "      <td>0</td>\n",
       "      <td>0</td>\n",
       "    </tr>\n",
       "    <tr>\n",
       "      <th>4</th>\n",
       "      <td>5</td>\n",
       "      <td>20</td>\n",
       "      <td>240</td>\n",
       "      <td>O4</td>\n",
       "      <td>1</td>\n",
       "      <td>1</td>\n",
       "      <td>0</td>\n",
       "      <td>0</td>\n",
       "      <td>0</td>\n",
       "      <td>1</td>\n",
       "      <td>0</td>\n",
       "    </tr>\n",
       "  </tbody>\n",
       "</table>\n",
       "</div>"
      ],
      "text/plain": [
       "   reward  difficulty  duration offer_id  web  email  mobile  social  bogo  \\\n",
       "0      10          10       168       O0    0      1       1       1     1   \n",
       "1      10          10       120       O1    1      1       1       1     1   \n",
       "2       0           0        96       O8    1      1       1       0     0   \n",
       "3       5           5       168       O2    1      1       1       0     1   \n",
       "4       5          20       240       O4    1      1       0       0     0   \n",
       "\n",
       "   discount  informational  \n",
       "0         0              0  \n",
       "1         0              0  \n",
       "2         0              1  \n",
       "3         0              0  \n",
       "4         1              0  "
      ]
     },
     "execution_count": 40,
     "metadata": {},
     "output_type": "execute_result"
    }
   ],
   "source": [
    "new_clean_portfolio.head()"
   ]
  },
  {
   "cell_type": "markdown",
   "metadata": {},
   "source": [
    "# End of cleaning in the Portfolio data set"
   ]
  },
  {
   "cell_type": "markdown",
   "metadata": {},
   "source": [
    "# Begining of cleaning in Transcrip dataset"
   ]
  },
  {
   "cell_type": "markdown",
   "metadata": {},
   "source": [
    "* event (str) - record description (ie transaction, offer received, offer viewed, etc.)\n",
    "* person (str) - customer id\n",
    "* time (int) - time in hours since start of test. The data begins at time t=0\n",
    "* value - (dict of strings) - either an offer id or transaction amount depending on the record"
   ]
  },
  {
   "cell_type": "code",
   "execution_count": 41,
   "metadata": {},
   "outputs": [
    {
     "data": {
      "text/html": [
       "<div>\n",
       "<style scoped>\n",
       "    .dataframe tbody tr th:only-of-type {\n",
       "        vertical-align: middle;\n",
       "    }\n",
       "\n",
       "    .dataframe tbody tr th {\n",
       "        vertical-align: top;\n",
       "    }\n",
       "\n",
       "    .dataframe thead th {\n",
       "        text-align: right;\n",
       "    }\n",
       "</style>\n",
       "<table border=\"1\" class=\"dataframe\">\n",
       "  <thead>\n",
       "    <tr style=\"text-align: right;\">\n",
       "      <th></th>\n",
       "      <th>person</th>\n",
       "      <th>event</th>\n",
       "      <th>value</th>\n",
       "      <th>time</th>\n",
       "    </tr>\n",
       "  </thead>\n",
       "  <tbody>\n",
       "    <tr>\n",
       "      <th>0</th>\n",
       "      <td>78afa995795e4d85b5d9ceeca43f5fef</td>\n",
       "      <td>offer received</td>\n",
       "      <td>{'offer id': '9b98b8c7a33c4b65b9aebfe6a799e6d9'}</td>\n",
       "      <td>0</td>\n",
       "    </tr>\n",
       "    <tr>\n",
       "      <th>1</th>\n",
       "      <td>a03223e636434f42ac4c3df47e8bac43</td>\n",
       "      <td>offer received</td>\n",
       "      <td>{'offer id': '0b1e1539f2cc45b7b9fa7c272da2e1d7'}</td>\n",
       "      <td>0</td>\n",
       "    </tr>\n",
       "    <tr>\n",
       "      <th>2</th>\n",
       "      <td>e2127556f4f64592b11af22de27a7932</td>\n",
       "      <td>offer received</td>\n",
       "      <td>{'offer id': '2906b810c7d4411798c6938adc9daaa5'}</td>\n",
       "      <td>0</td>\n",
       "    </tr>\n",
       "    <tr>\n",
       "      <th>3</th>\n",
       "      <td>8ec6ce2a7e7949b1bf142def7d0e0586</td>\n",
       "      <td>offer received</td>\n",
       "      <td>{'offer id': 'fafdcd668e3743c1bb461111dcafc2a4'}</td>\n",
       "      <td>0</td>\n",
       "    </tr>\n",
       "    <tr>\n",
       "      <th>4</th>\n",
       "      <td>68617ca6246f4fbc85e91a2a49552598</td>\n",
       "      <td>offer received</td>\n",
       "      <td>{'offer id': '4d5c57ea9a6940dd891ad53e9dbe8da0'}</td>\n",
       "      <td>0</td>\n",
       "    </tr>\n",
       "  </tbody>\n",
       "</table>\n",
       "</div>"
      ],
      "text/plain": [
       "                             person           event  \\\n",
       "0  78afa995795e4d85b5d9ceeca43f5fef  offer received   \n",
       "1  a03223e636434f42ac4c3df47e8bac43  offer received   \n",
       "2  e2127556f4f64592b11af22de27a7932  offer received   \n",
       "3  8ec6ce2a7e7949b1bf142def7d0e0586  offer received   \n",
       "4  68617ca6246f4fbc85e91a2a49552598  offer received   \n",
       "\n",
       "                                              value  time  \n",
       "0  {'offer id': '9b98b8c7a33c4b65b9aebfe6a799e6d9'}     0  \n",
       "1  {'offer id': '0b1e1539f2cc45b7b9fa7c272da2e1d7'}     0  \n",
       "2  {'offer id': '2906b810c7d4411798c6938adc9daaa5'}     0  \n",
       "3  {'offer id': 'fafdcd668e3743c1bb461111dcafc2a4'}     0  \n",
       "4  {'offer id': '4d5c57ea9a6940dd891ad53e9dbe8da0'}     0  "
      ]
     },
     "execution_count": 41,
     "metadata": {},
     "output_type": "execute_result"
    }
   ],
   "source": [
    "transcript.head()"
   ]
  },
  {
   "cell_type": "code",
   "execution_count": 42,
   "metadata": {},
   "outputs": [
    {
     "data": {
      "text/plain": [
       "array(['offer received', 'offer viewed', 'transaction', 'offer completed'],\n",
       "      dtype=object)"
      ]
     },
     "execution_count": 42,
     "metadata": {},
     "output_type": "execute_result"
    }
   ],
   "source": [
    "transcript.event.unique()"
   ]
  },
  {
   "cell_type": "code",
   "execution_count": 43,
   "metadata": {},
   "outputs": [
    {
     "data": {
      "text/plain": [
       "4"
      ]
     },
     "execution_count": 43,
     "metadata": {},
     "output_type": "execute_result"
    }
   ],
   "source": [
    "transcript.event.nunique()"
   ]
  },
  {
   "cell_type": "code",
   "execution_count": 44,
   "metadata": {},
   "outputs": [
    {
     "data": {
      "text/plain": [
       "17000"
      ]
     },
     "execution_count": 44,
     "metadata": {},
     "output_type": "execute_result"
    }
   ],
   "source": [
    "transcript.person.nunique()"
   ]
  },
  {
   "cell_type": "code",
   "execution_count": 45,
   "metadata": {},
   "outputs": [
    {
     "data": {
      "text/plain": [
       "person    0\n",
       "event     0\n",
       "value     0\n",
       "time      0\n",
       "dtype: int64"
      ]
     },
     "execution_count": 45,
     "metadata": {},
     "output_type": "execute_result"
    }
   ],
   "source": [
    "transcript.isnull().sum()"
   ]
  },
  {
   "cell_type": "code",
   "execution_count": 46,
   "metadata": {},
   "outputs": [
    {
     "data": {
      "text/plain": [
       "{'amount': 1.5899999999999999}"
      ]
     },
     "execution_count": 46,
     "metadata": {},
     "output_type": "execute_result"
    }
   ],
   "source": [
    "transcript.value[306529]"
   ]
  },
  {
   "cell_type": "code",
   "execution_count": 47,
   "metadata": {},
   "outputs": [],
   "source": [
    "event_type = pd.get_dummies(transcript['event'])"
   ]
  },
  {
   "cell_type": "code",
   "execution_count": 48,
   "metadata": {
    "scrolled": true
   },
   "outputs": [
    {
     "data": {
      "text/html": [
       "<div>\n",
       "<style scoped>\n",
       "    .dataframe tbody tr th:only-of-type {\n",
       "        vertical-align: middle;\n",
       "    }\n",
       "\n",
       "    .dataframe tbody tr th {\n",
       "        vertical-align: top;\n",
       "    }\n",
       "\n",
       "    .dataframe thead th {\n",
       "        text-align: right;\n",
       "    }\n",
       "</style>\n",
       "<table border=\"1\" class=\"dataframe\">\n",
       "  <thead>\n",
       "    <tr style=\"text-align: right;\">\n",
       "      <th></th>\n",
       "      <th>offer completed</th>\n",
       "      <th>offer received</th>\n",
       "      <th>offer viewed</th>\n",
       "      <th>transaction</th>\n",
       "    </tr>\n",
       "  </thead>\n",
       "  <tbody>\n",
       "    <tr>\n",
       "      <th>0</th>\n",
       "      <td>0</td>\n",
       "      <td>1</td>\n",
       "      <td>0</td>\n",
       "      <td>0</td>\n",
       "    </tr>\n",
       "    <tr>\n",
       "      <th>1</th>\n",
       "      <td>0</td>\n",
       "      <td>1</td>\n",
       "      <td>0</td>\n",
       "      <td>0</td>\n",
       "    </tr>\n",
       "    <tr>\n",
       "      <th>2</th>\n",
       "      <td>0</td>\n",
       "      <td>1</td>\n",
       "      <td>0</td>\n",
       "      <td>0</td>\n",
       "    </tr>\n",
       "    <tr>\n",
       "      <th>3</th>\n",
       "      <td>0</td>\n",
       "      <td>1</td>\n",
       "      <td>0</td>\n",
       "      <td>0</td>\n",
       "    </tr>\n",
       "    <tr>\n",
       "      <th>4</th>\n",
       "      <td>0</td>\n",
       "      <td>1</td>\n",
       "      <td>0</td>\n",
       "      <td>0</td>\n",
       "    </tr>\n",
       "  </tbody>\n",
       "</table>\n",
       "</div>"
      ],
      "text/plain": [
       "   offer completed  offer received  offer viewed  transaction\n",
       "0                0               1             0            0\n",
       "1                0               1             0            0\n",
       "2                0               1             0            0\n",
       "3                0               1             0            0\n",
       "4                0               1             0            0"
      ]
     },
     "execution_count": 48,
     "metadata": {},
     "output_type": "execute_result"
    }
   ],
   "source": [
    "event_type.head()"
   ]
  },
  {
   "cell_type": "code",
   "execution_count": 49,
   "metadata": {},
   "outputs": [
    {
     "data": {
      "text/plain": [
       "array(['offer received', 'offer viewed', 'transaction', 'offer completed'],\n",
       "      dtype=object)"
      ]
     },
     "execution_count": 49,
     "metadata": {},
     "output_type": "execute_result"
    }
   ],
   "source": [
    "transcript.event.unique()"
   ]
  },
  {
   "cell_type": "code",
   "execution_count": 50,
   "metadata": {},
   "outputs": [
    {
     "data": {
      "text/plain": [
       "33579"
      ]
     },
     "execution_count": 50,
     "metadata": {},
     "output_type": "execute_result"
    }
   ],
   "source": [
    "event_type['offer completed'].sum()"
   ]
  },
  {
   "cell_type": "code",
   "execution_count": 51,
   "metadata": {
    "scrolled": true
   },
   "outputs": [
    {
     "data": {
      "text/plain": [
       "'9b98b8c7a33c4b65b9aebfe6a799e6d9'"
      ]
     },
     "execution_count": 51,
     "metadata": {},
     "output_type": "execute_result"
    }
   ],
   "source": [
    "transcript[transcript['value'].apply(lambda x: True if ('offer id' in x) or ('offer_id' in x) else False)].value[0]['offer id']"
   ]
  },
  {
   "cell_type": "code",
   "execution_count": 52,
   "metadata": {},
   "outputs": [],
   "source": [
    "offer = transcript.copy()"
   ]
  },
  {
   "cell_type": "code",
   "execution_count": 53,
   "metadata": {},
   "outputs": [],
   "source": [
    "offer = offer[offer['value'].apply(lambda x: True if ('offer id' in x) or ('offer_id' in x) else False)]\n",
    "offer['offer_id'] = offer['value'].apply(lambda x: x['offer id'] if ('offer id' in x) else x['offer_id'])# becuase this is a dictionary and you can access it according to 2 things"
   ]
  },
  {
   "cell_type": "code",
   "execution_count": 54,
   "metadata": {},
   "outputs": [
    {
     "data": {
      "text/html": [
       "<div>\n",
       "<style scoped>\n",
       "    .dataframe tbody tr th:only-of-type {\n",
       "        vertical-align: middle;\n",
       "    }\n",
       "\n",
       "    .dataframe tbody tr th {\n",
       "        vertical-align: top;\n",
       "    }\n",
       "\n",
       "    .dataframe thead th {\n",
       "        text-align: right;\n",
       "    }\n",
       "</style>\n",
       "<table border=\"1\" class=\"dataframe\">\n",
       "  <thead>\n",
       "    <tr style=\"text-align: right;\">\n",
       "      <th></th>\n",
       "      <th>person</th>\n",
       "      <th>event</th>\n",
       "      <th>value</th>\n",
       "      <th>time</th>\n",
       "      <th>offer_id</th>\n",
       "    </tr>\n",
       "  </thead>\n",
       "  <tbody>\n",
       "    <tr>\n",
       "      <th>0</th>\n",
       "      <td>78afa995795e4d85b5d9ceeca43f5fef</td>\n",
       "      <td>offer received</td>\n",
       "      <td>{'offer id': '9b98b8c7a33c4b65b9aebfe6a799e6d9'}</td>\n",
       "      <td>0</td>\n",
       "      <td>9b98b8c7a33c4b65b9aebfe6a799e6d9</td>\n",
       "    </tr>\n",
       "    <tr>\n",
       "      <th>1</th>\n",
       "      <td>a03223e636434f42ac4c3df47e8bac43</td>\n",
       "      <td>offer received</td>\n",
       "      <td>{'offer id': '0b1e1539f2cc45b7b9fa7c272da2e1d7'}</td>\n",
       "      <td>0</td>\n",
       "      <td>0b1e1539f2cc45b7b9fa7c272da2e1d7</td>\n",
       "    </tr>\n",
       "    <tr>\n",
       "      <th>2</th>\n",
       "      <td>e2127556f4f64592b11af22de27a7932</td>\n",
       "      <td>offer received</td>\n",
       "      <td>{'offer id': '2906b810c7d4411798c6938adc9daaa5'}</td>\n",
       "      <td>0</td>\n",
       "      <td>2906b810c7d4411798c6938adc9daaa5</td>\n",
       "    </tr>\n",
       "    <tr>\n",
       "      <th>3</th>\n",
       "      <td>8ec6ce2a7e7949b1bf142def7d0e0586</td>\n",
       "      <td>offer received</td>\n",
       "      <td>{'offer id': 'fafdcd668e3743c1bb461111dcafc2a4'}</td>\n",
       "      <td>0</td>\n",
       "      <td>fafdcd668e3743c1bb461111dcafc2a4</td>\n",
       "    </tr>\n",
       "    <tr>\n",
       "      <th>4</th>\n",
       "      <td>68617ca6246f4fbc85e91a2a49552598</td>\n",
       "      <td>offer received</td>\n",
       "      <td>{'offer id': '4d5c57ea9a6940dd891ad53e9dbe8da0'}</td>\n",
       "      <td>0</td>\n",
       "      <td>4d5c57ea9a6940dd891ad53e9dbe8da0</td>\n",
       "    </tr>\n",
       "    <tr>\n",
       "      <th>...</th>\n",
       "      <td>...</td>\n",
       "      <td>...</td>\n",
       "      <td>...</td>\n",
       "      <td>...</td>\n",
       "      <td>...</td>\n",
       "    </tr>\n",
       "    <tr>\n",
       "      <th>306497</th>\n",
       "      <td>a6f84f4e976f44508c358cc9aba6d2b3</td>\n",
       "      <td>offer completed</td>\n",
       "      <td>{'offer_id': '2298d6c36e964ae4a3e7e9706d1fb8c2...</td>\n",
       "      <td>714</td>\n",
       "      <td>2298d6c36e964ae4a3e7e9706d1fb8c2</td>\n",
       "    </tr>\n",
       "    <tr>\n",
       "      <th>306506</th>\n",
       "      <td>b895c57e8cd047a8872ce02aa54759d6</td>\n",
       "      <td>offer completed</td>\n",
       "      <td>{'offer_id': 'fafdcd668e3743c1bb461111dcafc2a4...</td>\n",
       "      <td>714</td>\n",
       "      <td>fafdcd668e3743c1bb461111dcafc2a4</td>\n",
       "    </tr>\n",
       "    <tr>\n",
       "      <th>306507</th>\n",
       "      <td>8dda575c2a1d44b9ac8e8b07b93d1f8e</td>\n",
       "      <td>offer viewed</td>\n",
       "      <td>{'offer id': '0b1e1539f2cc45b7b9fa7c272da2e1d7'}</td>\n",
       "      <td>714</td>\n",
       "      <td>0b1e1539f2cc45b7b9fa7c272da2e1d7</td>\n",
       "    </tr>\n",
       "    <tr>\n",
       "      <th>306509</th>\n",
       "      <td>8431c16f8e1d440880db371a68f82dd0</td>\n",
       "      <td>offer completed</td>\n",
       "      <td>{'offer_id': 'fafdcd668e3743c1bb461111dcafc2a4...</td>\n",
       "      <td>714</td>\n",
       "      <td>fafdcd668e3743c1bb461111dcafc2a4</td>\n",
       "    </tr>\n",
       "    <tr>\n",
       "      <th>306527</th>\n",
       "      <td>24f56b5e1849462093931b164eb803b5</td>\n",
       "      <td>offer completed</td>\n",
       "      <td>{'offer_id': 'fafdcd668e3743c1bb461111dcafc2a4...</td>\n",
       "      <td>714</td>\n",
       "      <td>fafdcd668e3743c1bb461111dcafc2a4</td>\n",
       "    </tr>\n",
       "  </tbody>\n",
       "</table>\n",
       "<p>167581 rows × 5 columns</p>\n",
       "</div>"
      ],
      "text/plain": [
       "                                  person            event  \\\n",
       "0       78afa995795e4d85b5d9ceeca43f5fef   offer received   \n",
       "1       a03223e636434f42ac4c3df47e8bac43   offer received   \n",
       "2       e2127556f4f64592b11af22de27a7932   offer received   \n",
       "3       8ec6ce2a7e7949b1bf142def7d0e0586   offer received   \n",
       "4       68617ca6246f4fbc85e91a2a49552598   offer received   \n",
       "...                                  ...              ...   \n",
       "306497  a6f84f4e976f44508c358cc9aba6d2b3  offer completed   \n",
       "306506  b895c57e8cd047a8872ce02aa54759d6  offer completed   \n",
       "306507  8dda575c2a1d44b9ac8e8b07b93d1f8e     offer viewed   \n",
       "306509  8431c16f8e1d440880db371a68f82dd0  offer completed   \n",
       "306527  24f56b5e1849462093931b164eb803b5  offer completed   \n",
       "\n",
       "                                                    value  time  \\\n",
       "0        {'offer id': '9b98b8c7a33c4b65b9aebfe6a799e6d9'}     0   \n",
       "1        {'offer id': '0b1e1539f2cc45b7b9fa7c272da2e1d7'}     0   \n",
       "2        {'offer id': '2906b810c7d4411798c6938adc9daaa5'}     0   \n",
       "3        {'offer id': 'fafdcd668e3743c1bb461111dcafc2a4'}     0   \n",
       "4        {'offer id': '4d5c57ea9a6940dd891ad53e9dbe8da0'}     0   \n",
       "...                                                   ...   ...   \n",
       "306497  {'offer_id': '2298d6c36e964ae4a3e7e9706d1fb8c2...   714   \n",
       "306506  {'offer_id': 'fafdcd668e3743c1bb461111dcafc2a4...   714   \n",
       "306507   {'offer id': '0b1e1539f2cc45b7b9fa7c272da2e1d7'}   714   \n",
       "306509  {'offer_id': 'fafdcd668e3743c1bb461111dcafc2a4...   714   \n",
       "306527  {'offer_id': 'fafdcd668e3743c1bb461111dcafc2a4...   714   \n",
       "\n",
       "                                offer_id  \n",
       "0       9b98b8c7a33c4b65b9aebfe6a799e6d9  \n",
       "1       0b1e1539f2cc45b7b9fa7c272da2e1d7  \n",
       "2       2906b810c7d4411798c6938adc9daaa5  \n",
       "3       fafdcd668e3743c1bb461111dcafc2a4  \n",
       "4       4d5c57ea9a6940dd891ad53e9dbe8da0  \n",
       "...                                  ...  \n",
       "306497  2298d6c36e964ae4a3e7e9706d1fb8c2  \n",
       "306506  fafdcd668e3743c1bb461111dcafc2a4  \n",
       "306507  0b1e1539f2cc45b7b9fa7c272da2e1d7  \n",
       "306509  fafdcd668e3743c1bb461111dcafc2a4  \n",
       "306527  fafdcd668e3743c1bb461111dcafc2a4  \n",
       "\n",
       "[167581 rows x 5 columns]"
      ]
     },
     "execution_count": 54,
     "metadata": {},
     "output_type": "execute_result"
    }
   ],
   "source": [
    "offer"
   ]
  },
  {
   "cell_type": "code",
   "execution_count": 114,
   "metadata": {},
   "outputs": [],
   "source": [
    "from collections import OrderedDict, defaultdict\n",
    "\n",
    "dataa =transcript.value.to_dict()\n"
   ]
  },
  {
   "cell_type": "code",
   "execution_count": 123,
   "metadata": {},
   "outputs": [
    {
     "data": {
      "text/plain": [
       "{'offer id': '9b98b8c7a33c4b65b9aebfe6a799e6d9'}"
      ]
     },
     "execution_count": 123,
     "metadata": {},
     "output_type": "execute_result"
    }
   ],
   "source": [
    "dataa[0]"
   ]
  },
  {
   "cell_type": "code",
   "execution_count": 55,
   "metadata": {},
   "outputs": [],
   "source": [
    "offer.rename(columns={'person':'the_id'}, inplace=True)"
   ]
  },
  {
   "cell_type": "code",
   "execution_count": 56,
   "metadata": {},
   "outputs": [],
   "source": [
    "offer.offer_id = offer.offer_id.apply(lambda x: offer_id[x] if x else None)"
   ]
  },
  {
   "cell_type": "markdown",
   "metadata": {},
   "source": [
    "# Merging the data sets"
   ]
  },
  {
   "cell_type": "code",
   "execution_count": 57,
   "metadata": {},
   "outputs": [],
   "source": [
    "trans_prof = pd.merge(offer, new_clean_profile, on='the_id',\n",
    "                          how=\"left\")"
   ]
  },
  {
   "cell_type": "code",
   "execution_count": 58,
   "metadata": {},
   "outputs": [],
   "source": [
    "df = pd.merge(trans_prof, new_clean_portfolio, on='offer_id',\n",
    "                          how=\"left\")"
   ]
  },
  {
   "cell_type": "code",
   "execution_count": 59,
   "metadata": {
    "scrolled": true
   },
   "outputs": [
    {
     "data": {
      "text/html": [
       "<div>\n",
       "<style scoped>\n",
       "    .dataframe tbody tr th:only-of-type {\n",
       "        vertical-align: middle;\n",
       "    }\n",
       "\n",
       "    .dataframe tbody tr th {\n",
       "        vertical-align: top;\n",
       "    }\n",
       "\n",
       "    .dataframe thead th {\n",
       "        text-align: right;\n",
       "    }\n",
       "</style>\n",
       "<table border=\"1\" class=\"dataframe\">\n",
       "  <thead>\n",
       "    <tr style=\"text-align: right;\">\n",
       "      <th></th>\n",
       "      <th>the_id</th>\n",
       "      <th>event</th>\n",
       "      <th>value</th>\n",
       "      <th>time</th>\n",
       "      <th>offer_id</th>\n",
       "      <th>gender</th>\n",
       "      <th>age</th>\n",
       "      <th>became_member_on</th>\n",
       "      <th>income</th>\n",
       "      <th>memberdays</th>\n",
       "      <th>reward</th>\n",
       "      <th>difficulty</th>\n",
       "      <th>duration</th>\n",
       "      <th>web</th>\n",
       "      <th>email</th>\n",
       "      <th>mobile</th>\n",
       "      <th>social</th>\n",
       "      <th>bogo</th>\n",
       "      <th>discount</th>\n",
       "      <th>informational</th>\n",
       "    </tr>\n",
       "  </thead>\n",
       "  <tbody>\n",
       "    <tr>\n",
       "      <th>0</th>\n",
       "      <td>78afa995795e4d85b5d9ceeca43f5fef</td>\n",
       "      <td>offer received</td>\n",
       "      <td>{'offer id': '9b98b8c7a33c4b65b9aebfe6a799e6d9'}</td>\n",
       "      <td>0</td>\n",
       "      <td>O2</td>\n",
       "      <td>F</td>\n",
       "      <td>75.0</td>\n",
       "      <td>20170509</td>\n",
       "      <td>100000.0</td>\n",
       "      <td>1390</td>\n",
       "      <td>5</td>\n",
       "      <td>5</td>\n",
       "      <td>168</td>\n",
       "      <td>1</td>\n",
       "      <td>1</td>\n",
       "      <td>1</td>\n",
       "      <td>0</td>\n",
       "      <td>1</td>\n",
       "      <td>0</td>\n",
       "      <td>0</td>\n",
       "    </tr>\n",
       "    <tr>\n",
       "      <th>1</th>\n",
       "      <td>a03223e636434f42ac4c3df47e8bac43</td>\n",
       "      <td>offer received</td>\n",
       "      <td>{'offer id': '0b1e1539f2cc45b7b9fa7c272da2e1d7'}</td>\n",
       "      <td>0</td>\n",
       "      <td>O4</td>\n",
       "      <td>None</td>\n",
       "      <td>NaN</td>\n",
       "      <td>20170804</td>\n",
       "      <td>NaN</td>\n",
       "      <td>1303</td>\n",
       "      <td>5</td>\n",
       "      <td>20</td>\n",
       "      <td>240</td>\n",
       "      <td>1</td>\n",
       "      <td>1</td>\n",
       "      <td>0</td>\n",
       "      <td>0</td>\n",
       "      <td>0</td>\n",
       "      <td>1</td>\n",
       "      <td>0</td>\n",
       "    </tr>\n",
       "    <tr>\n",
       "      <th>2</th>\n",
       "      <td>e2127556f4f64592b11af22de27a7932</td>\n",
       "      <td>offer received</td>\n",
       "      <td>{'offer id': '2906b810c7d4411798c6938adc9daaa5'}</td>\n",
       "      <td>0</td>\n",
       "      <td>O7</td>\n",
       "      <td>M</td>\n",
       "      <td>68.0</td>\n",
       "      <td>20180426</td>\n",
       "      <td>70000.0</td>\n",
       "      <td>1038</td>\n",
       "      <td>2</td>\n",
       "      <td>10</td>\n",
       "      <td>168</td>\n",
       "      <td>1</td>\n",
       "      <td>1</td>\n",
       "      <td>1</td>\n",
       "      <td>0</td>\n",
       "      <td>0</td>\n",
       "      <td>1</td>\n",
       "      <td>0</td>\n",
       "    </tr>\n",
       "    <tr>\n",
       "      <th>3</th>\n",
       "      <td>8ec6ce2a7e7949b1bf142def7d0e0586</td>\n",
       "      <td>offer received</td>\n",
       "      <td>{'offer id': 'fafdcd668e3743c1bb461111dcafc2a4'}</td>\n",
       "      <td>0</td>\n",
       "      <td>O6</td>\n",
       "      <td>None</td>\n",
       "      <td>NaN</td>\n",
       "      <td>20170925</td>\n",
       "      <td>NaN</td>\n",
       "      <td>1251</td>\n",
       "      <td>2</td>\n",
       "      <td>10</td>\n",
       "      <td>240</td>\n",
       "      <td>1</td>\n",
       "      <td>1</td>\n",
       "      <td>1</td>\n",
       "      <td>1</td>\n",
       "      <td>0</td>\n",
       "      <td>1</td>\n",
       "      <td>0</td>\n",
       "    </tr>\n",
       "    <tr>\n",
       "      <th>4</th>\n",
       "      <td>68617ca6246f4fbc85e91a2a49552598</td>\n",
       "      <td>offer received</td>\n",
       "      <td>{'offer id': '4d5c57ea9a6940dd891ad53e9dbe8da0'}</td>\n",
       "      <td>0</td>\n",
       "      <td>O1</td>\n",
       "      <td>None</td>\n",
       "      <td>NaN</td>\n",
       "      <td>20171002</td>\n",
       "      <td>NaN</td>\n",
       "      <td>1244</td>\n",
       "      <td>10</td>\n",
       "      <td>10</td>\n",
       "      <td>120</td>\n",
       "      <td>1</td>\n",
       "      <td>1</td>\n",
       "      <td>1</td>\n",
       "      <td>1</td>\n",
       "      <td>1</td>\n",
       "      <td>0</td>\n",
       "      <td>0</td>\n",
       "    </tr>\n",
       "  </tbody>\n",
       "</table>\n",
       "</div>"
      ],
      "text/plain": [
       "                             the_id           event  \\\n",
       "0  78afa995795e4d85b5d9ceeca43f5fef  offer received   \n",
       "1  a03223e636434f42ac4c3df47e8bac43  offer received   \n",
       "2  e2127556f4f64592b11af22de27a7932  offer received   \n",
       "3  8ec6ce2a7e7949b1bf142def7d0e0586  offer received   \n",
       "4  68617ca6246f4fbc85e91a2a49552598  offer received   \n",
       "\n",
       "                                              value  time offer_id gender  \\\n",
       "0  {'offer id': '9b98b8c7a33c4b65b9aebfe6a799e6d9'}     0       O2      F   \n",
       "1  {'offer id': '0b1e1539f2cc45b7b9fa7c272da2e1d7'}     0       O4   None   \n",
       "2  {'offer id': '2906b810c7d4411798c6938adc9daaa5'}     0       O7      M   \n",
       "3  {'offer id': 'fafdcd668e3743c1bb461111dcafc2a4'}     0       O6   None   \n",
       "4  {'offer id': '4d5c57ea9a6940dd891ad53e9dbe8da0'}     0       O1   None   \n",
       "\n",
       "    age  became_member_on    income  memberdays  reward  difficulty  duration  \\\n",
       "0  75.0          20170509  100000.0        1390       5           5       168   \n",
       "1   NaN          20170804       NaN        1303       5          20       240   \n",
       "2  68.0          20180426   70000.0        1038       2          10       168   \n",
       "3   NaN          20170925       NaN        1251       2          10       240   \n",
       "4   NaN          20171002       NaN        1244      10          10       120   \n",
       "\n",
       "   web  email  mobile  social  bogo  discount  informational  \n",
       "0    1      1       1       0     1         0              0  \n",
       "1    1      1       0       0     0         1              0  \n",
       "2    1      1       1       0     0         1              0  \n",
       "3    1      1       1       1     0         1              0  \n",
       "4    1      1       1       1     1         0              0  "
      ]
     },
     "execution_count": 59,
     "metadata": {},
     "output_type": "execute_result"
    }
   ],
   "source": [
    "df.head()"
   ]
  },
  {
   "cell_type": "code",
   "execution_count": 60,
   "metadata": {},
   "outputs": [
    {
     "data": {
      "text/html": [
       "<div>\n",
       "<style scoped>\n",
       "    .dataframe tbody tr th:only-of-type {\n",
       "        vertical-align: middle;\n",
       "    }\n",
       "\n",
       "    .dataframe tbody tr th {\n",
       "        vertical-align: top;\n",
       "    }\n",
       "\n",
       "    .dataframe thead th {\n",
       "        text-align: right;\n",
       "    }\n",
       "</style>\n",
       "<table border=\"1\" class=\"dataframe\">\n",
       "  <thead>\n",
       "    <tr style=\"text-align: right;\">\n",
       "      <th></th>\n",
       "      <th>the_id</th>\n",
       "      <th>event</th>\n",
       "      <th>value</th>\n",
       "      <th>time</th>\n",
       "      <th>offer_id</th>\n",
       "      <th>gender</th>\n",
       "      <th>age</th>\n",
       "      <th>became_member_on</th>\n",
       "      <th>income</th>\n",
       "      <th>memberdays</th>\n",
       "      <th>reward</th>\n",
       "      <th>difficulty</th>\n",
       "      <th>duration</th>\n",
       "      <th>web</th>\n",
       "      <th>email</th>\n",
       "      <th>mobile</th>\n",
       "      <th>social</th>\n",
       "      <th>bogo</th>\n",
       "      <th>discount</th>\n",
       "      <th>informational</th>\n",
       "    </tr>\n",
       "  </thead>\n",
       "  <tbody>\n",
       "    <tr>\n",
       "      <th>0</th>\n",
       "      <td>78afa995795e4d85b5d9ceeca43f5fef</td>\n",
       "      <td>offer received</td>\n",
       "      <td>{'offer id': '9b98b8c7a33c4b65b9aebfe6a799e6d9'}</td>\n",
       "      <td>0</td>\n",
       "      <td>O2</td>\n",
       "      <td>F</td>\n",
       "      <td>75.0</td>\n",
       "      <td>20170509</td>\n",
       "      <td>100000.0</td>\n",
       "      <td>1390</td>\n",
       "      <td>5</td>\n",
       "      <td>5</td>\n",
       "      <td>168</td>\n",
       "      <td>1</td>\n",
       "      <td>1</td>\n",
       "      <td>1</td>\n",
       "      <td>0</td>\n",
       "      <td>1</td>\n",
       "      <td>0</td>\n",
       "      <td>0</td>\n",
       "    </tr>\n",
       "    <tr>\n",
       "      <th>1</th>\n",
       "      <td>a03223e636434f42ac4c3df47e8bac43</td>\n",
       "      <td>offer received</td>\n",
       "      <td>{'offer id': '0b1e1539f2cc45b7b9fa7c272da2e1d7'}</td>\n",
       "      <td>0</td>\n",
       "      <td>O4</td>\n",
       "      <td>None</td>\n",
       "      <td>NaN</td>\n",
       "      <td>20170804</td>\n",
       "      <td>NaN</td>\n",
       "      <td>1303</td>\n",
       "      <td>5</td>\n",
       "      <td>20</td>\n",
       "      <td>240</td>\n",
       "      <td>1</td>\n",
       "      <td>1</td>\n",
       "      <td>0</td>\n",
       "      <td>0</td>\n",
       "      <td>0</td>\n",
       "      <td>1</td>\n",
       "      <td>0</td>\n",
       "    </tr>\n",
       "    <tr>\n",
       "      <th>2</th>\n",
       "      <td>e2127556f4f64592b11af22de27a7932</td>\n",
       "      <td>offer received</td>\n",
       "      <td>{'offer id': '2906b810c7d4411798c6938adc9daaa5'}</td>\n",
       "      <td>0</td>\n",
       "      <td>O7</td>\n",
       "      <td>M</td>\n",
       "      <td>68.0</td>\n",
       "      <td>20180426</td>\n",
       "      <td>70000.0</td>\n",
       "      <td>1038</td>\n",
       "      <td>2</td>\n",
       "      <td>10</td>\n",
       "      <td>168</td>\n",
       "      <td>1</td>\n",
       "      <td>1</td>\n",
       "      <td>1</td>\n",
       "      <td>0</td>\n",
       "      <td>0</td>\n",
       "      <td>1</td>\n",
       "      <td>0</td>\n",
       "    </tr>\n",
       "    <tr>\n",
       "      <th>3</th>\n",
       "      <td>8ec6ce2a7e7949b1bf142def7d0e0586</td>\n",
       "      <td>offer received</td>\n",
       "      <td>{'offer id': 'fafdcd668e3743c1bb461111dcafc2a4'}</td>\n",
       "      <td>0</td>\n",
       "      <td>O6</td>\n",
       "      <td>None</td>\n",
       "      <td>NaN</td>\n",
       "      <td>20170925</td>\n",
       "      <td>NaN</td>\n",
       "      <td>1251</td>\n",
       "      <td>2</td>\n",
       "      <td>10</td>\n",
       "      <td>240</td>\n",
       "      <td>1</td>\n",
       "      <td>1</td>\n",
       "      <td>1</td>\n",
       "      <td>1</td>\n",
       "      <td>0</td>\n",
       "      <td>1</td>\n",
       "      <td>0</td>\n",
       "    </tr>\n",
       "    <tr>\n",
       "      <th>4</th>\n",
       "      <td>68617ca6246f4fbc85e91a2a49552598</td>\n",
       "      <td>offer received</td>\n",
       "      <td>{'offer id': '4d5c57ea9a6940dd891ad53e9dbe8da0'}</td>\n",
       "      <td>0</td>\n",
       "      <td>O1</td>\n",
       "      <td>None</td>\n",
       "      <td>NaN</td>\n",
       "      <td>20171002</td>\n",
       "      <td>NaN</td>\n",
       "      <td>1244</td>\n",
       "      <td>10</td>\n",
       "      <td>10</td>\n",
       "      <td>120</td>\n",
       "      <td>1</td>\n",
       "      <td>1</td>\n",
       "      <td>1</td>\n",
       "      <td>1</td>\n",
       "      <td>1</td>\n",
       "      <td>0</td>\n",
       "      <td>0</td>\n",
       "    </tr>\n",
       "  </tbody>\n",
       "</table>\n",
       "</div>"
      ],
      "text/plain": [
       "                             the_id           event  \\\n",
       "0  78afa995795e4d85b5d9ceeca43f5fef  offer received   \n",
       "1  a03223e636434f42ac4c3df47e8bac43  offer received   \n",
       "2  e2127556f4f64592b11af22de27a7932  offer received   \n",
       "3  8ec6ce2a7e7949b1bf142def7d0e0586  offer received   \n",
       "4  68617ca6246f4fbc85e91a2a49552598  offer received   \n",
       "\n",
       "                                              value  time offer_id gender  \\\n",
       "0  {'offer id': '9b98b8c7a33c4b65b9aebfe6a799e6d9'}     0       O2      F   \n",
       "1  {'offer id': '0b1e1539f2cc45b7b9fa7c272da2e1d7'}     0       O4   None   \n",
       "2  {'offer id': '2906b810c7d4411798c6938adc9daaa5'}     0       O7      M   \n",
       "3  {'offer id': 'fafdcd668e3743c1bb461111dcafc2a4'}     0       O6   None   \n",
       "4  {'offer id': '4d5c57ea9a6940dd891ad53e9dbe8da0'}     0       O1   None   \n",
       "\n",
       "    age  became_member_on    income  memberdays  reward  difficulty  duration  \\\n",
       "0  75.0          20170509  100000.0        1390       5           5       168   \n",
       "1   NaN          20170804       NaN        1303       5          20       240   \n",
       "2  68.0          20180426   70000.0        1038       2          10       168   \n",
       "3   NaN          20170925       NaN        1251       2          10       240   \n",
       "4   NaN          20171002       NaN        1244      10          10       120   \n",
       "\n",
       "   web  email  mobile  social  bogo  discount  informational  \n",
       "0    1      1       1       0     1         0              0  \n",
       "1    1      1       0       0     0         1              0  \n",
       "2    1      1       1       0     0         1              0  \n",
       "3    1      1       1       1     0         1              0  \n",
       "4    1      1       1       1     1         0              0  "
      ]
     },
     "execution_count": 60,
     "metadata": {},
     "output_type": "execute_result"
    }
   ],
   "source": [
    "df.head()"
   ]
  },
  {
   "cell_type": "code",
   "execution_count": 150,
   "metadata": {},
   "outputs": [
    {
     "data": {
      "text/plain": [
       "(167581, 20)"
      ]
     },
     "execution_count": 150,
     "metadata": {},
     "output_type": "execute_result"
    }
   ],
   "source": [
    "df.shape"
   ]
  },
  {
   "cell_type": "code",
   "execution_count": 61,
   "metadata": {},
   "outputs": [
    {
     "name": "stderr",
     "output_type": "stream",
     "text": [
      "/home/mostafahaggag/Data_science_enviroment/data_science_enviroment/lib/python3.8/site-packages/seaborn/_decorators.py:36: FutureWarning: Pass the following variable as a keyword arg: x. From version 0.12, the only valid positional argument will be `data`, and passing other arguments without an explicit keyword will result in an error or misinterpretation.\n",
      "  warnings.warn(\n",
      "/home/mostafahaggag/Data_science_enviroment/data_science_enviroment/lib/python3.8/site-packages/seaborn/_decorators.py:36: FutureWarning: Pass the following variable as a keyword arg: x. From version 0.12, the only valid positional argument will be `data`, and passing other arguments without an explicit keyword will result in an error or misinterpretation.\n",
      "  warnings.warn(\n",
      "/home/mostafahaggag/Data_science_enviroment/data_science_enviroment/lib/python3.8/site-packages/seaborn/_decorators.py:36: FutureWarning: Pass the following variable as a keyword arg: x. From version 0.12, the only valid positional argument will be `data`, and passing other arguments without an explicit keyword will result in an error or misinterpretation.\n",
      "  warnings.warn(\n"
     ]
    },
    {
     "data": {
      "text/plain": [
       "Text(0.5, 1.0, 'Offer Type -informational')"
      ]
     },
     "execution_count": 61,
     "metadata": {},
     "output_type": "execute_result"
    },
    {
     "data": {
      "image/png": "[encoded data removed]",
      "text/plain": [
       "<Figure size 1440x360 with 3 Axes>"
      ]
     },
     "metadata": {
      "needs_background": "light"
     },
     "output_type": "display_data"
    }
   ],
   "source": [
    "fig, ax =plt.subplots(1,3,figsize=(20,5))\n",
    "sns.countplot(df[df.bogo == 1].event,ax=ax[0]);\n",
    "ax[0].set_title('Offer Type -BOGO')\n",
    "sns.countplot(df[df.discount == 1].event,ax=ax[1]);\n",
    "ax[1].set_title('Offer Type -discount')\n",
    "sns.countplot(df[df.informational == 1].event,ax=ax[2]);\n",
    "ax[2].set_title('Offer Type -informational')\n"
   ]
  },
  {
   "cell_type": "code",
   "execution_count": 62,
   "metadata": {
    "scrolled": true
   },
   "outputs": [
    {
     "name": "stderr",
     "output_type": "stream",
     "text": [
      "/home/mostafahaggag/Data_science_enviroment/data_science_enviroment/lib/python3.8/site-packages/seaborn/_decorators.py:36: FutureWarning: Pass the following variable as a keyword arg: x. From version 0.12, the only valid positional argument will be `data`, and passing other arguments without an explicit keyword will result in an error or misinterpretation.\n",
      "  warnings.warn(\n",
      "/home/mostafahaggag/Data_science_enviroment/data_science_enviroment/lib/python3.8/site-packages/seaborn/_decorators.py:36: FutureWarning: Pass the following variable as a keyword arg: x. From version 0.12, the only valid positional argument will be `data`, and passing other arguments without an explicit keyword will result in an error or misinterpretation.\n",
      "  warnings.warn(\n",
      "/home/mostafahaggag/Data_science_enviroment/data_science_enviroment/lib/python3.8/site-packages/seaborn/_decorators.py:36: FutureWarning: Pass the following variable as a keyword arg: x. From version 0.12, the only valid positional argument will be `data`, and passing other arguments without an explicit keyword will result in an error or misinterpretation.\n",
      "  warnings.warn(\n"
     ]
    },
    {
     "data": {
      "text/plain": [
       "Text(0.5, 1.0, 'Most completed offer id')"
      ]
     },
     "execution_count": 62,
     "metadata": {},
     "output_type": "execute_result"
    },
    {
     "data": {
      "image/png": "[encoded data removed]",
      "text/plain": [
       "<Figure size 1440x360 with 3 Axes>"
      ]
     },
     "metadata": {
      "needs_background": "light"
     },
     "output_type": "display_data"
    }
   ],
   "source": [
    "fig, ax =plt.subplots(1,3,figsize=(20,5))\n",
    "sns.countplot(df[df.event == 'offer received'].offer_id,ax=ax[0]);\n",
    "ax[0].set_title('Most recieved')\n",
    "sns.countplot(df[df.event == 'offer viewed'].offer_id,ax=ax[1]);\n",
    "ax[1].set_title('Most viewed offer id')\n",
    "sns.countplot(df[df.event == 'offer completed'].offer_id,ax=ax[2]);\n",
    "ax[2].set_title('Most completed offer id')\n"
   ]
  },
  {
   "cell_type": "code",
   "execution_count": 63,
   "metadata": {},
   "outputs": [],
   "source": [
    "def create_user_item_matrix(offer, filename):\n",
    "    '''\n",
    "    Return the user item matrix that indicate the number of offer complete of a particular user\n",
    "    \n",
    "    INPUT:\n",
    "    offer - the transcript data frame\n",
    "    filename(string) - the file name that you wish to save in a pickle format\n",
    "    \n",
    "    OUTPUT:\n",
    "    user_item_matrix - the user item matrix which \n",
    "        - row is user \n",
    "        - column is offer\n",
    "        - value is the number of offer complete by the user \n",
    "    \n",
    "    '''\n",
    "    # create an empty user item matrix\n",
    "    user_item_matrix = offer.groupby(['the_id', 'offer_id'])['event'].agg(lambda x: np.nan).unstack()    \n",
    "    for offer_id in user_item_matrix.columns:\n",
    "        print(\"Now processing: \", offer_id)\n",
    "        for the_id in user_item_matrix.index:\n",
    "            events = []\n",
    "            for event in offer[(offer['offer_id']==offer_id) & (offer['the_id']==the_id)]['event']:\n",
    "                events.append(event)\n",
    "            if len(events) >= 3:\n",
    "                user_item_matrix.loc[the_id, offer_id] = 0\n",
    "                for i in range(len(events)-2):\n",
    "                    # check if the transaction sequence is offer received -> offer viewed -> offer completed\n",
    "                    # if yes, we assume the user reacted positively with the offer we provided.\n",
    "                    if (events[i] == 'offer received') & (events[i+1] == 'offer viewed') & (events[i+2] == 'offer completed'):\n",
    "                        user_item_matrix.loc[the_id, offer_id] += 1\n",
    "            elif len(events) > 0:\n",
    "                user_item_matrix.loc[the_id, offer_id] = 0\n",
    "    \n",
    "    # store the large martix into file\n",
    "    fh = open(filename, 'wb')\n",
    "    pickle.dump(user_item_matrix,fh)\n",
    "    fh.close()\n",
    "    \n",
    "    return user_item_matrix"
   ]
  },
  {
   "cell_type": "code",
   "execution_count": 64,
   "metadata": {},
   "outputs": [],
   "source": [
    "#full_df = create_user_item_matrix(offer, 'full_data_df.p')"
   ]
  },
  {
   "cell_type": "code",
   "execution_count": 65,
   "metadata": {},
   "outputs": [],
   "source": [
    "full_df = pd.read_pickle('full_data_df.p')"
   ]
  },
  {
   "cell_type": "code",
   "execution_count": 66,
   "metadata": {},
   "outputs": [
    {
     "data": {
      "text/plain": [
       "(117306, 50275)"
      ]
     },
     "execution_count": 66,
     "metadata": {},
     "output_type": "execute_result"
    }
   ],
   "source": [
    "train_size = int(offer.shape[0]*0.7)\n",
    "test_size = offer.shape[0] - train_size\n",
    "train_size, test_size"
   ]
  },
  {
   "cell_type": "code",
   "execution_count": 67,
   "metadata": {},
   "outputs": [],
   "source": [
    "train_offer = offer[:train_size]"
   ]
  },
  {
   "cell_type": "code",
   "execution_count": 68,
   "metadata": {},
   "outputs": [],
   "source": [
    "test_offer = offer[train_size:]"
   ]
  },
  {
   "cell_type": "code",
   "execution_count": null,
   "metadata": {
    "scrolled": true
   },
   "outputs": [],
   "source": [
    "# train_df = create_user_item_matrix(train_offer, 'train_df.p')"
   ]
  },
  {
   "cell_type": "code",
   "execution_count": 69,
   "metadata": {},
   "outputs": [],
   "source": [
    "train_df = pd.read_pickle('train_df.p')"
   ]
  },
  {
   "cell_type": "code",
   "execution_count": null,
   "metadata": {},
   "outputs": [],
   "source": [
    "# test_df = create_user_item_matrix(test_offer, 'test_df.p')"
   ]
  },
  {
   "cell_type": "code",
   "execution_count": 70,
   "metadata": {},
   "outputs": [],
   "source": [
    "test_df = pd.read_pickle('test_df.p')"
   ]
  },
  {
   "cell_type": "code",
   "execution_count": null,
   "metadata": {},
   "outputs": [],
   "source": []
  },
  {
   "cell_type": "code",
   "execution_count": 71,
   "metadata": {},
   "outputs": [],
   "source": [
    "def FunkSVD(complete_mat, latent_features=12, learning_rate=0.0001, iters=100):\n",
    "    '''\n",
    "    This function performs matrix factorization using a basic form of FunkSVD with no regularization\n",
    "    \n",
    "    INPUT:\n",
    "    complete_mat - (numpy array) a matrix with users as rows, offers as columns, and offer completed as values\n",
    "    latent_features - (int) the number of latent features used\n",
    "    learning_rate - (float) the learning rate \n",
    "    iters - (int) the number of iterations\n",
    "    \n",
    "    OUTPUT:\n",
    "    user_mat - (numpy array) a user by latent feature matrix\n",
    "    offer_mat - (numpy array) a latent feature by offer matrix\n",
    "    '''\n",
    "    \n",
    "    # Set up useful values to be used through the rest of the function\n",
    "    n_users = complete_mat.shape[0]\n",
    "    n_offers = complete_mat.shape[1]\n",
    "    num_complete = np.count_nonzero(~np.isnan(complete_mat))\n",
    "    \n",
    "    # initialize the user and movie matrices with random values\n",
    "    user_mat = np.random.rand(n_users, latent_features)\n",
    "    offer_mat = np.random.rand(latent_features, n_offers)\n",
    "    \n",
    "    # initialize sse at 0 for first iteration\n",
    "    sse_accum = 0\n",
    "    \n",
    "    # keep track of iteration and MSE\n",
    "    print(\"Optimizaiton Statistics\")\n",
    "    print(\"Iterations | Mean Squared Error \")\n",
    "    \n",
    "    # for each iteration\n",
    "    for iteration in range(iters):\n",
    "\n",
    "        # update our sse\n",
    "        old_sse = sse_accum\n",
    "        sse_accum = 0\n",
    "        \n",
    "        # For each user-offer pair\n",
    "        for i in range(n_users):\n",
    "            for j in range(n_offers):\n",
    "                \n",
    "                # if the rating exists\n",
    "                if complete_mat[i, j] >= 0:\n",
    "                    \n",
    "                    # compute the error as the actual minus the dot product of the user and offer latent features\n",
    "                    diff = complete_mat[i, j] - np.dot(user_mat[i, :], offer_mat[:, j])\n",
    "                    \n",
    "                    # Keep track of the sum of squared errors for the matrix\n",
    "                    sse_accum += diff**2\n",
    "                    \n",
    "                    # update the values in each matrix in the direction of the gradient\n",
    "                    for k in range(latent_features):\n",
    "                        user_mat[i, k] += learning_rate * (2*diff*offer_mat[k, j])\n",
    "                        offer_mat[k, j] += learning_rate * (2*diff*user_mat[i, k])\n",
    "\n",
    "        # print results\n",
    "        print(\"%d \\t\\t %f\" % (iteration+1, sse_accum / num_complete))\n",
    "        \n",
    "    return user_mat, offer_mat"
   ]
  },
  {
   "cell_type": "code",
   "execution_count": 72,
   "metadata": {},
   "outputs": [
    {
     "name": "stdout",
     "output_type": "stream",
     "text": [
      "Optimizaiton Statistics\n",
      "Iterations | Mean Squared Error \n",
      "1 \t\t 0.319512\n",
      "2 \t\t 0.219119\n",
      "3 \t\t 0.218891\n",
      "4 \t\t 0.218659\n",
      "5 \t\t 0.218419\n",
      "6 \t\t 0.218172\n",
      "7 \t\t 0.217917\n",
      "8 \t\t 0.217652\n",
      "9 \t\t 0.217378\n",
      "10 \t\t 0.217093\n",
      "11 \t\t 0.216797\n",
      "12 \t\t 0.216489\n",
      "13 \t\t 0.216167\n",
      "14 \t\t 0.215832\n",
      "15 \t\t 0.215482\n",
      "16 \t\t 0.215115\n",
      "17 \t\t 0.214731\n",
      "18 \t\t 0.214328\n",
      "19 \t\t 0.213905\n",
      "20 \t\t 0.213459\n",
      "21 \t\t 0.212991\n",
      "22 \t\t 0.212497\n",
      "23 \t\t 0.211977\n",
      "24 \t\t 0.211427\n",
      "25 \t\t 0.210847\n",
      "26 \t\t 0.210233\n",
      "27 \t\t 0.209584\n",
      "28 \t\t 0.208896\n",
      "29 \t\t 0.208168\n",
      "30 \t\t 0.207397\n",
      "31 \t\t 0.206579\n",
      "32 \t\t 0.205713\n",
      "33 \t\t 0.204794\n",
      "34 \t\t 0.203819\n",
      "35 \t\t 0.202786\n",
      "36 \t\t 0.201691\n",
      "37 \t\t 0.200530\n",
      "38 \t\t 0.199301\n",
      "39 \t\t 0.197999\n",
      "40 \t\t 0.196621\n",
      "41 \t\t 0.195164\n",
      "42 \t\t 0.193625\n",
      "43 \t\t 0.192001\n",
      "44 \t\t 0.190288\n",
      "45 \t\t 0.188485\n",
      "46 \t\t 0.186589\n",
      "47 \t\t 0.184598\n",
      "48 \t\t 0.182510\n",
      "49 \t\t 0.180325\n",
      "50 \t\t 0.178043\n",
      "51 \t\t 0.175663\n",
      "52 \t\t 0.173187\n",
      "53 \t\t 0.170616\n",
      "54 \t\t 0.167953\n",
      "55 \t\t 0.165201\n",
      "56 \t\t 0.162363\n",
      "57 \t\t 0.159444\n",
      "58 \t\t 0.156450\n",
      "59 \t\t 0.153387\n",
      "60 \t\t 0.150262\n",
      "61 \t\t 0.147081\n",
      "62 \t\t 0.143853\n",
      "63 \t\t 0.140585\n",
      "64 \t\t 0.137286\n",
      "65 \t\t 0.133965\n",
      "66 \t\t 0.130630\n",
      "67 \t\t 0.127290\n",
      "68 \t\t 0.123953\n",
      "69 \t\t 0.120628\n",
      "70 \t\t 0.117323\n",
      "71 \t\t 0.114044\n",
      "72 \t\t 0.110800\n",
      "73 \t\t 0.107596\n",
      "74 \t\t 0.104438\n",
      "75 \t\t 0.101332\n",
      "76 \t\t 0.098282\n",
      "77 \t\t 0.095293\n",
      "78 \t\t 0.092368\n",
      "79 \t\t 0.089510\n",
      "80 \t\t 0.086721\n",
      "81 \t\t 0.084003\n",
      "82 \t\t 0.081357\n",
      "83 \t\t 0.078784\n",
      "84 \t\t 0.076285\n",
      "85 \t\t 0.073859\n",
      "86 \t\t 0.071507\n",
      "87 \t\t 0.069227\n",
      "88 \t\t 0.067019\n",
      "89 \t\t 0.064882\n",
      "90 \t\t 0.062814\n",
      "91 \t\t 0.060814\n",
      "92 \t\t 0.058881\n",
      "93 \t\t 0.057013\n",
      "94 \t\t 0.055208\n",
      "95 \t\t 0.053464\n",
      "96 \t\t 0.051780\n",
      "97 \t\t 0.050155\n",
      "98 \t\t 0.048585\n",
      "99 \t\t 0.047069\n",
      "100 \t\t 0.045606\n",
      "101 \t\t 0.044194\n",
      "102 \t\t 0.042831\n",
      "103 \t\t 0.041515\n",
      "104 \t\t 0.040245\n",
      "105 \t\t 0.039019\n",
      "106 \t\t 0.037835\n",
      "107 \t\t 0.036692\n",
      "108 \t\t 0.035588\n",
      "109 \t\t 0.034523\n",
      "110 \t\t 0.033493\n",
      "111 \t\t 0.032500\n",
      "112 \t\t 0.031539\n",
      "113 \t\t 0.030612\n",
      "114 \t\t 0.029716\n",
      "115 \t\t 0.028850\n",
      "116 \t\t 0.028013\n",
      "117 \t\t 0.027204\n",
      "118 \t\t 0.026422\n",
      "119 \t\t 0.025665\n",
      "120 \t\t 0.024934\n",
      "121 \t\t 0.024226\n",
      "122 \t\t 0.023541\n",
      "123 \t\t 0.022879\n",
      "124 \t\t 0.022237\n",
      "125 \t\t 0.021616\n",
      "126 \t\t 0.021015\n",
      "127 \t\t 0.020432\n",
      "128 \t\t 0.019868\n",
      "129 \t\t 0.019321\n",
      "130 \t\t 0.018791\n",
      "131 \t\t 0.018277\n",
      "132 \t\t 0.017779\n",
      "133 \t\t 0.017295\n",
      "134 \t\t 0.016826\n",
      "135 \t\t 0.016371\n",
      "136 \t\t 0.015929\n",
      "137 \t\t 0.015500\n",
      "138 \t\t 0.015083\n",
      "139 \t\t 0.014678\n",
      "140 \t\t 0.014285\n",
      "141 \t\t 0.013903\n",
      "142 \t\t 0.013531\n",
      "143 \t\t 0.013170\n",
      "144 \t\t 0.012818\n",
      "145 \t\t 0.012477\n",
      "146 \t\t 0.012144\n",
      "147 \t\t 0.011821\n",
      "148 \t\t 0.011506\n",
      "149 \t\t 0.011199\n",
      "150 \t\t 0.010901\n",
      "151 \t\t 0.010611\n",
      "152 \t\t 0.010328\n",
      "153 \t\t 0.010053\n",
      "154 \t\t 0.009784\n",
      "155 \t\t 0.009523\n",
      "156 \t\t 0.009269\n",
      "157 \t\t 0.009021\n",
      "158 \t\t 0.008779\n",
      "159 \t\t 0.008544\n",
      "160 \t\t 0.008315\n",
      "161 \t\t 0.008091\n",
      "162 \t\t 0.007874\n",
      "163 \t\t 0.007662\n",
      "164 \t\t 0.007455\n",
      "165 \t\t 0.007254\n",
      "166 \t\t 0.007057\n",
      "167 \t\t 0.006866\n",
      "168 \t\t 0.006680\n",
      "169 \t\t 0.006498\n",
      "170 \t\t 0.006321\n",
      "171 \t\t 0.006149\n",
      "172 \t\t 0.005981\n",
      "173 \t\t 0.005817\n",
      "174 \t\t 0.005658\n",
      "175 \t\t 0.005503\n",
      "176 \t\t 0.005352\n",
      "177 \t\t 0.005204\n",
      "178 \t\t 0.005061\n",
      "179 \t\t 0.004921\n",
      "180 \t\t 0.004785\n",
      "181 \t\t 0.004653\n",
      "182 \t\t 0.004524\n",
      "183 \t\t 0.004399\n",
      "184 \t\t 0.004277\n",
      "185 \t\t 0.004158\n",
      "186 \t\t 0.004042\n",
      "187 \t\t 0.003929\n",
      "188 \t\t 0.003820\n",
      "189 \t\t 0.003713\n",
      "190 \t\t 0.003610\n",
      "191 \t\t 0.003509\n",
      "192 \t\t 0.003411\n",
      "193 \t\t 0.003315\n",
      "194 \t\t 0.003223\n",
      "195 \t\t 0.003133\n",
      "196 \t\t 0.003045\n",
      "197 \t\t 0.002960\n",
      "198 \t\t 0.002877\n",
      "199 \t\t 0.002796\n",
      "200 \t\t 0.002718\n",
      "201 \t\t 0.002642\n",
      "202 \t\t 0.002568\n",
      "203 \t\t 0.002496\n",
      "204 \t\t 0.002426\n",
      "205 \t\t 0.002358\n",
      "206 \t\t 0.002292\n",
      "207 \t\t 0.002228\n",
      "208 \t\t 0.002166\n",
      "209 \t\t 0.002106\n",
      "210 \t\t 0.002047\n",
      "211 \t\t 0.001990\n",
      "212 \t\t 0.001935\n",
      "213 \t\t 0.001881\n",
      "214 \t\t 0.001829\n",
      "215 \t\t 0.001778\n",
      "216 \t\t 0.001729\n",
      "217 \t\t 0.001681\n",
      "218 \t\t 0.001635\n",
      "219 \t\t 0.001590\n",
      "220 \t\t 0.001546\n",
      "221 \t\t 0.001503\n",
      "222 \t\t 0.001462\n",
      "223 \t\t 0.001422\n",
      "224 \t\t 0.001384\n",
      "225 \t\t 0.001346\n",
      "226 \t\t 0.001309\n",
      "227 \t\t 0.001274\n",
      "228 \t\t 0.001239\n",
      "229 \t\t 0.001206\n",
      "230 \t\t 0.001174\n",
      "231 \t\t 0.001142\n",
      "232 \t\t 0.001112\n",
      "233 \t\t 0.001082\n",
      "234 \t\t 0.001053\n",
      "235 \t\t 0.001025\n",
      "236 \t\t 0.000998\n",
      "237 \t\t 0.000972\n",
      "238 \t\t 0.000946\n",
      "239 \t\t 0.000922\n",
      "240 \t\t 0.000898\n",
      "241 \t\t 0.000874\n",
      "242 \t\t 0.000852\n",
      "243 \t\t 0.000830\n",
      "244 \t\t 0.000808\n",
      "245 \t\t 0.000788\n",
      "246 \t\t 0.000768\n",
      "247 \t\t 0.000748\n",
      "248 \t\t 0.000729\n",
      "249 \t\t 0.000711\n",
      "250 \t\t 0.000693\n"
     ]
    }
   ],
   "source": [
    "# Create user-by-item matrix - nothing to do here\n",
    "train_data_np = np.array(train_df)\n",
    "\n",
    "# Fit FunkSVD with the specified hyper parameters to the training data\n",
    "user_mat, offer_mat = FunkSVD(train_data_np, latent_features=30, learning_rate=0.005, iters=250)"
   ]
  },
  {
   "cell_type": "code",
   "execution_count": 73,
   "metadata": {},
   "outputs": [
    {
     "name": "stdout",
     "output_type": "stream",
     "text": [
      "Optimizaiton Statistics\n",
      "Iterations | Mean Squared Error \n",
      "1 \t\t 0.286978\n",
      "2 \t\t 0.215450\n",
      "3 \t\t 0.215205\n",
      "4 \t\t 0.214948\n",
      "5 \t\t 0.214686\n",
      "6 \t\t 0.214418\n",
      "7 \t\t 0.214144\n",
      "8 \t\t 0.213864\n",
      "9 \t\t 0.213578\n",
      "10 \t\t 0.213284\n",
      "11 \t\t 0.212983\n",
      "12 \t\t 0.212673\n",
      "13 \t\t 0.212354\n",
      "14 \t\t 0.212026\n",
      "15 \t\t 0.211688\n",
      "16 \t\t 0.211339\n",
      "17 \t\t 0.210978\n",
      "18 \t\t 0.210605\n",
      "19 \t\t 0.210218\n",
      "20 \t\t 0.209817\n",
      "21 \t\t 0.209400\n",
      "22 \t\t 0.208968\n",
      "23 \t\t 0.208517\n",
      "24 \t\t 0.208048\n",
      "25 \t\t 0.207559\n",
      "26 \t\t 0.207049\n",
      "27 \t\t 0.206516\n",
      "28 \t\t 0.205959\n",
      "29 \t\t 0.205375\n",
      "30 \t\t 0.204765\n",
      "31 \t\t 0.204125\n",
      "32 \t\t 0.203454\n",
      "33 \t\t 0.202751\n",
      "34 \t\t 0.202012\n",
      "35 \t\t 0.201237\n",
      "36 \t\t 0.200423\n",
      "37 \t\t 0.199568\n",
      "38 \t\t 0.198669\n",
      "39 \t\t 0.197725\n",
      "40 \t\t 0.196734\n",
      "41 \t\t 0.195692\n",
      "42 \t\t 0.194598\n",
      "43 \t\t 0.193449\n",
      "44 \t\t 0.192244\n",
      "45 \t\t 0.190979\n",
      "46 \t\t 0.189654\n",
      "47 \t\t 0.188265\n",
      "48 \t\t 0.186812\n",
      "49 \t\t 0.185293\n",
      "50 \t\t 0.183705\n",
      "51 \t\t 0.182048\n",
      "52 \t\t 0.180321\n",
      "53 \t\t 0.178524\n",
      "54 \t\t 0.176655\n",
      "55 \t\t 0.174715\n",
      "56 \t\t 0.172704\n",
      "57 \t\t 0.170624\n",
      "58 \t\t 0.168474\n",
      "59 \t\t 0.166257\n",
      "60 \t\t 0.163975\n",
      "61 \t\t 0.161629\n",
      "62 \t\t 0.159224\n",
      "63 \t\t 0.156762\n",
      "64 \t\t 0.154246\n",
      "65 \t\t 0.151681\n",
      "66 \t\t 0.149071\n",
      "67 \t\t 0.146420\n",
      "68 \t\t 0.143734\n",
      "69 \t\t 0.141016\n",
      "70 \t\t 0.138273\n",
      "71 \t\t 0.135508\n",
      "72 \t\t 0.132729\n",
      "73 \t\t 0.129939\n",
      "74 \t\t 0.127143\n",
      "75 \t\t 0.124347\n",
      "76 \t\t 0.121556\n",
      "77 \t\t 0.118774\n",
      "78 \t\t 0.116006\n",
      "79 \t\t 0.113256\n",
      "80 \t\t 0.110527\n",
      "81 \t\t 0.107825\n",
      "82 \t\t 0.105151\n",
      "83 \t\t 0.102509\n",
      "84 \t\t 0.099902\n",
      "85 \t\t 0.097333\n",
      "86 \t\t 0.094804\n",
      "87 \t\t 0.092316\n",
      "88 \t\t 0.089872\n",
      "89 \t\t 0.087472\n",
      "90 \t\t 0.085119\n",
      "91 \t\t 0.082813\n",
      "92 \t\t 0.080555\n",
      "93 \t\t 0.078346\n",
      "94 \t\t 0.076185\n",
      "95 \t\t 0.074074\n",
      "96 \t\t 0.072012\n",
      "97 \t\t 0.069999\n",
      "98 \t\t 0.068035\n",
      "99 \t\t 0.066120\n",
      "100 \t\t 0.064254\n",
      "101 \t\t 0.062435\n",
      "102 \t\t 0.060664\n",
      "103 \t\t 0.058940\n",
      "104 \t\t 0.057262\n",
      "105 \t\t 0.055630\n",
      "106 \t\t 0.054042\n",
      "107 \t\t 0.052498\n",
      "108 \t\t 0.050997\n",
      "109 \t\t 0.049539\n",
      "110 \t\t 0.048122\n",
      "111 \t\t 0.046745\n",
      "112 \t\t 0.045408\n",
      "113 \t\t 0.044110\n",
      "114 \t\t 0.042849\n",
      "115 \t\t 0.041626\n",
      "116 \t\t 0.040439\n",
      "117 \t\t 0.039286\n",
      "118 \t\t 0.038168\n",
      "119 \t\t 0.037084\n",
      "120 \t\t 0.036031\n",
      "121 \t\t 0.035011\n",
      "122 \t\t 0.034021\n",
      "123 \t\t 0.033061\n",
      "124 \t\t 0.032129\n",
      "125 \t\t 0.031227\n",
      "126 \t\t 0.030351\n",
      "127 \t\t 0.029502\n",
      "128 \t\t 0.028679\n",
      "129 \t\t 0.027881\n",
      "130 \t\t 0.027107\n",
      "131 \t\t 0.026357\n",
      "132 \t\t 0.025629\n",
      "133 \t\t 0.024924\n",
      "134 \t\t 0.024239\n",
      "135 \t\t 0.023576\n",
      "136 \t\t 0.022933\n",
      "137 \t\t 0.022308\n",
      "138 \t\t 0.021703\n",
      "139 \t\t 0.021116\n",
      "140 \t\t 0.020546\n",
      "141 \t\t 0.019994\n",
      "142 \t\t 0.019457\n",
      "143 \t\t 0.018937\n",
      "144 \t\t 0.018431\n",
      "145 \t\t 0.017941\n",
      "146 \t\t 0.017465\n",
      "147 \t\t 0.017002\n",
      "148 \t\t 0.016553\n",
      "149 \t\t 0.016117\n",
      "150 \t\t 0.015693\n",
      "151 \t\t 0.015281\n",
      "152 \t\t 0.014881\n",
      "153 \t\t 0.014492\n",
      "154 \t\t 0.014113\n",
      "155 \t\t 0.013746\n",
      "156 \t\t 0.013388\n",
      "157 \t\t 0.013040\n",
      "158 \t\t 0.012701\n",
      "159 \t\t 0.012372\n",
      "160 \t\t 0.012051\n",
      "161 \t\t 0.011739\n",
      "162 \t\t 0.011435\n",
      "163 \t\t 0.011139\n",
      "164 \t\t 0.010851\n",
      "165 \t\t 0.010570\n",
      "166 \t\t 0.010297\n",
      "167 \t\t 0.010030\n",
      "168 \t\t 0.009771\n",
      "169 \t\t 0.009518\n",
      "170 \t\t 0.009271\n",
      "171 \t\t 0.009031\n",
      "172 \t\t 0.008797\n",
      "173 \t\t 0.008569\n",
      "174 \t\t 0.008346\n",
      "175 \t\t 0.008129\n",
      "176 \t\t 0.007918\n",
      "177 \t\t 0.007711\n",
      "178 \t\t 0.007510\n",
      "179 \t\t 0.007314\n",
      "180 \t\t 0.007123\n",
      "181 \t\t 0.006936\n",
      "182 \t\t 0.006754\n",
      "183 \t\t 0.006577\n",
      "184 \t\t 0.006404\n",
      "185 \t\t 0.006236\n",
      "186 \t\t 0.006071\n",
      "187 \t\t 0.005911\n",
      "188 \t\t 0.005754\n",
      "189 \t\t 0.005602\n",
      "190 \t\t 0.005453\n",
      "191 \t\t 0.005309\n",
      "192 \t\t 0.005167\n",
      "193 \t\t 0.005030\n",
      "194 \t\t 0.004895\n",
      "195 \t\t 0.004765\n",
      "196 \t\t 0.004637\n",
      "197 \t\t 0.004513\n",
      "198 \t\t 0.004392\n",
      "199 \t\t 0.004274\n",
      "200 \t\t 0.004159\n",
      "201 \t\t 0.004047\n",
      "202 \t\t 0.003937\n",
      "203 \t\t 0.003831\n",
      "204 \t\t 0.003728\n",
      "205 \t\t 0.003627\n",
      "206 \t\t 0.003528\n",
      "207 \t\t 0.003433\n",
      "208 \t\t 0.003340\n",
      "209 \t\t 0.003249\n",
      "210 \t\t 0.003161\n",
      "211 \t\t 0.003075\n",
      "212 \t\t 0.002991\n",
      "213 \t\t 0.002910\n",
      "214 \t\t 0.002830\n",
      "215 \t\t 0.002753\n",
      "216 \t\t 0.002678\n",
      "217 \t\t 0.002605\n",
      "218 \t\t 0.002534\n",
      "219 \t\t 0.002465\n",
      "220 \t\t 0.002398\n",
      "221 \t\t 0.002332\n",
      "222 \t\t 0.002268\n",
      "223 \t\t 0.002207\n",
      "224 \t\t 0.002146\n",
      "225 \t\t 0.002088\n",
      "226 \t\t 0.002031\n",
      "227 \t\t 0.001975\n",
      "228 \t\t 0.001922\n",
      "229 \t\t 0.001869\n",
      "230 \t\t 0.001818\n",
      "231 \t\t 0.001769\n",
      "232 \t\t 0.001721\n",
      "233 \t\t 0.001674\n",
      "234 \t\t 0.001629\n",
      "235 \t\t 0.001585\n",
      "236 \t\t 0.001542\n",
      "237 \t\t 0.001500\n",
      "238 \t\t 0.001459\n",
      "239 \t\t 0.001420\n",
      "240 \t\t 0.001382\n",
      "241 \t\t 0.001344\n",
      "242 \t\t 0.001308\n",
      "243 \t\t 0.001273\n",
      "244 \t\t 0.001239\n",
      "245 \t\t 0.001206\n",
      "246 \t\t 0.001174\n",
      "247 \t\t 0.001142\n",
      "248 \t\t 0.001112\n",
      "249 \t\t 0.001082\n",
      "250 \t\t 0.001054\n"
     ]
    }
   ],
   "source": [
    "# Test for the best number of latent feature. (with latent features 20)\n",
    "user_mat_10, offer_mat_10 = FunkSVD(train_data_np, latent_features=20, learning_rate=0.005, iters=250)"
   ]
  },
  {
   "cell_type": "code",
   "execution_count": 74,
   "metadata": {},
   "outputs": [
    {
     "name": "stdout",
     "output_type": "stream",
     "text": [
      "Optimizaiton Statistics\n",
      "Iterations | Mean Squared Error \n",
      "1 \t\t 0.243201\n",
      "2 \t\t 0.213695\n",
      "3 \t\t 0.213315\n",
      "4 \t\t 0.212933\n",
      "5 \t\t 0.212548\n",
      "6 \t\t 0.212161\n",
      "7 \t\t 0.211771\n",
      "8 \t\t 0.211378\n",
      "9 \t\t 0.210982\n",
      "10 \t\t 0.210583\n",
      "11 \t\t 0.210180\n",
      "12 \t\t 0.209773\n",
      "13 \t\t 0.209361\n",
      "14 \t\t 0.208946\n",
      "15 \t\t 0.208525\n",
      "16 \t\t 0.208100\n",
      "17 \t\t 0.207668\n",
      "18 \t\t 0.207231\n",
      "19 \t\t 0.206787\n",
      "20 \t\t 0.206337\n",
      "21 \t\t 0.205879\n",
      "22 \t\t 0.205413\n",
      "23 \t\t 0.204939\n",
      "24 \t\t 0.204456\n",
      "25 \t\t 0.203964\n",
      "26 \t\t 0.203461\n",
      "27 \t\t 0.202947\n",
      "28 \t\t 0.202421\n",
      "29 \t\t 0.201883\n",
      "30 \t\t 0.201331\n",
      "31 \t\t 0.200766\n",
      "32 \t\t 0.200185\n",
      "33 \t\t 0.199588\n",
      "34 \t\t 0.198975\n",
      "35 \t\t 0.198343\n",
      "36 \t\t 0.197691\n",
      "37 \t\t 0.197020\n",
      "38 \t\t 0.196327\n",
      "39 \t\t 0.195611\n",
      "40 \t\t 0.194871\n",
      "41 \t\t 0.194106\n",
      "42 \t\t 0.193314\n",
      "43 \t\t 0.192494\n",
      "44 \t\t 0.191645\n",
      "45 \t\t 0.190765\n",
      "46 \t\t 0.189852\n",
      "47 \t\t 0.188906\n",
      "48 \t\t 0.187925\n",
      "49 \t\t 0.186907\n",
      "50 \t\t 0.185851\n",
      "51 \t\t 0.184755\n",
      "52 \t\t 0.183619\n",
      "53 \t\t 0.182441\n",
      "54 \t\t 0.181220\n",
      "55 \t\t 0.179955\n",
      "56 \t\t 0.178645\n",
      "57 \t\t 0.177288\n",
      "58 \t\t 0.175885\n",
      "59 \t\t 0.174434\n",
      "60 \t\t 0.172935\n",
      "61 \t\t 0.171388\n",
      "62 \t\t 0.169793\n",
      "63 \t\t 0.168149\n",
      "64 \t\t 0.166457\n",
      "65 \t\t 0.164718\n",
      "66 \t\t 0.162932\n",
      "67 \t\t 0.161099\n",
      "68 \t\t 0.159222\n",
      "69 \t\t 0.157301\n",
      "70 \t\t 0.155338\n",
      "71 \t\t 0.153335\n",
      "72 \t\t 0.151293\n",
      "73 \t\t 0.149214\n",
      "74 \t\t 0.147102\n",
      "75 \t\t 0.144957\n",
      "76 \t\t 0.142784\n",
      "77 \t\t 0.140583\n",
      "78 \t\t 0.138359\n",
      "79 \t\t 0.136114\n",
      "80 \t\t 0.133850\n",
      "81 \t\t 0.131572\n",
      "82 \t\t 0.129281\n",
      "83 \t\t 0.126981\n",
      "84 \t\t 0.124675\n",
      "85 \t\t 0.122366\n",
      "86 \t\t 0.120056\n",
      "87 \t\t 0.117748\n",
      "88 \t\t 0.115446\n",
      "89 \t\t 0.113152\n",
      "90 \t\t 0.110868\n",
      "91 \t\t 0.108597\n",
      "92 \t\t 0.106342\n",
      "93 \t\t 0.104104\n",
      "94 \t\t 0.101885\n",
      "95 \t\t 0.099688\n",
      "96 \t\t 0.097515\n",
      "97 \t\t 0.095366\n",
      "98 \t\t 0.093245\n",
      "99 \t\t 0.091151\n",
      "100 \t\t 0.089087\n",
      "101 \t\t 0.087053\n",
      "102 \t\t 0.085051\n",
      "103 \t\t 0.083081\n",
      "104 \t\t 0.081145\n",
      "105 \t\t 0.079243\n",
      "106 \t\t 0.077375\n",
      "107 \t\t 0.075543\n",
      "108 \t\t 0.073746\n",
      "109 \t\t 0.071984\n",
      "110 \t\t 0.070259\n",
      "111 \t\t 0.068570\n",
      "112 \t\t 0.066917\n",
      "113 \t\t 0.065300\n",
      "114 \t\t 0.063719\n",
      "115 \t\t 0.062174\n",
      "116 \t\t 0.060665\n",
      "117 \t\t 0.059191\n",
      "118 \t\t 0.057753\n",
      "119 \t\t 0.056349\n",
      "120 \t\t 0.054979\n",
      "121 \t\t 0.053644\n",
      "122 \t\t 0.052342\n",
      "123 \t\t 0.051073\n",
      "124 \t\t 0.049837\n",
      "125 \t\t 0.048633\n",
      "126 \t\t 0.047459\n",
      "127 \t\t 0.046317\n",
      "128 \t\t 0.045205\n",
      "129 \t\t 0.044122\n",
      "130 \t\t 0.043068\n",
      "131 \t\t 0.042043\n",
      "132 \t\t 0.041045\n",
      "133 \t\t 0.040074\n",
      "134 \t\t 0.039129\n",
      "135 \t\t 0.038210\n",
      "136 \t\t 0.037316\n",
      "137 \t\t 0.036446\n",
      "138 \t\t 0.035600\n",
      "139 \t\t 0.034776\n",
      "140 \t\t 0.033976\n",
      "141 \t\t 0.033196\n",
      "142 \t\t 0.032438\n",
      "143 \t\t 0.031701\n",
      "144 \t\t 0.030983\n",
      "145 \t\t 0.030285\n",
      "146 \t\t 0.029605\n",
      "147 \t\t 0.028943\n",
      "148 \t\t 0.028299\n",
      "149 \t\t 0.027672\n",
      "150 \t\t 0.027061\n",
      "151 \t\t 0.026467\n",
      "152 \t\t 0.025887\n",
      "153 \t\t 0.025323\n",
      "154 \t\t 0.024773\n",
      "155 \t\t 0.024237\n",
      "156 \t\t 0.023714\n",
      "157 \t\t 0.023205\n",
      "158 \t\t 0.022708\n",
      "159 \t\t 0.022223\n",
      "160 \t\t 0.021750\n",
      "161 \t\t 0.021289\n",
      "162 \t\t 0.020838\n",
      "163 \t\t 0.020398\n",
      "164 \t\t 0.019969\n",
      "165 \t\t 0.019549\n",
      "166 \t\t 0.019139\n",
      "167 \t\t 0.018739\n",
      "168 \t\t 0.018347\n",
      "169 \t\t 0.017964\n",
      "170 \t\t 0.017589\n",
      "171 \t\t 0.017223\n",
      "172 \t\t 0.016865\n",
      "173 \t\t 0.016514\n",
      "174 \t\t 0.016170\n",
      "175 \t\t 0.015834\n",
      "176 \t\t 0.015505\n",
      "177 \t\t 0.015183\n",
      "178 \t\t 0.014867\n",
      "179 \t\t 0.014557\n",
      "180 \t\t 0.014254\n",
      "181 \t\t 0.013956\n",
      "182 \t\t 0.013665\n",
      "183 \t\t 0.013379\n",
      "184 \t\t 0.013098\n",
      "185 \t\t 0.012823\n",
      "186 \t\t 0.012554\n",
      "187 \t\t 0.012289\n",
      "188 \t\t 0.012029\n",
      "189 \t\t 0.011774\n",
      "190 \t\t 0.011524\n",
      "191 \t\t 0.011279\n",
      "192 \t\t 0.011038\n",
      "193 \t\t 0.010802\n",
      "194 \t\t 0.010570\n",
      "195 \t\t 0.010342\n",
      "196 \t\t 0.010118\n",
      "197 \t\t 0.009899\n",
      "198 \t\t 0.009683\n",
      "199 \t\t 0.009472\n",
      "200 \t\t 0.009264\n",
      "201 \t\t 0.009060\n",
      "202 \t\t 0.008860\n",
      "203 \t\t 0.008663\n",
      "204 \t\t 0.008471\n",
      "205 \t\t 0.008281\n",
      "206 \t\t 0.008095\n",
      "207 \t\t 0.007913\n",
      "208 \t\t 0.007734\n",
      "209 \t\t 0.007559\n",
      "210 \t\t 0.007386\n",
      "211 \t\t 0.007218\n",
      "212 \t\t 0.007052\n",
      "213 \t\t 0.006889\n",
      "214 \t\t 0.006730\n",
      "215 \t\t 0.006573\n",
      "216 \t\t 0.006420\n",
      "217 \t\t 0.006270\n",
      "218 \t\t 0.006122\n",
      "219 \t\t 0.005978\n",
      "220 \t\t 0.005836\n",
      "221 \t\t 0.005697\n",
      "222 \t\t 0.005562\n",
      "223 \t\t 0.005428\n",
      "224 \t\t 0.005298\n",
      "225 \t\t 0.005170\n",
      "226 \t\t 0.005045\n",
      "227 \t\t 0.004923\n",
      "228 \t\t 0.004803\n",
      "229 \t\t 0.004685\n",
      "230 \t\t 0.004570\n",
      "231 \t\t 0.004458\n",
      "232 \t\t 0.004348\n",
      "233 \t\t 0.004240\n",
      "234 \t\t 0.004135\n",
      "235 \t\t 0.004032\n",
      "236 \t\t 0.003932\n",
      "237 \t\t 0.003833\n",
      "238 \t\t 0.003737\n",
      "239 \t\t 0.003643\n",
      "240 \t\t 0.003551\n",
      "241 \t\t 0.003461\n",
      "242 \t\t 0.003373\n",
      "243 \t\t 0.003288\n",
      "244 \t\t 0.003204\n",
      "245 \t\t 0.003122\n",
      "246 \t\t 0.003042\n",
      "247 \t\t 0.002964\n",
      "248 \t\t 0.002888\n",
      "249 \t\t 0.002814\n",
      "250 \t\t 0.002741\n"
     ]
    }
   ],
   "source": [
    "# Test for the best number of latent feature. (with latent features 10)\n",
    "user_mat_5, offer_mat_5 = FunkSVD(train_data_np, latent_features=10, learning_rate=0.005, iters=250)"
   ]
  },
  {
   "cell_type": "code",
   "execution_count": 75,
   "metadata": {},
   "outputs": [],
   "source": [
    "def predict_reaction(user_matrix, offer_matrix, user_id, offer_id):\n",
    "    '''\n",
    "    We can use this to make predictions for how users would react with the offers\n",
    "    \n",
    "    INPUT:\n",
    "    user_matrix - user by latent factor matrix\n",
    "    offer_matrix - latent factor by offer matrix\n",
    "    user_id - the user_id from the reviews df\n",
    "    offer_id - the offer_id according the offers df\n",
    "    \n",
    "    OUTPUT:\n",
    "    pred - the predicted reaction for user_id-offer_id according to FunkSVD\n",
    "    '''\n",
    "    try:\n",
    "        # Use the training data to create a series of users and offers that matches the ordering in training data\n",
    "        user_ids_series = np.array(train_df.index)\n",
    "        offer_ids_series = np.array(train_df.columns)\n",
    "\n",
    "        # User row and Offer Column\n",
    "        user_row = np.where(user_ids_series == user_id)[0][0]\n",
    "        offer_col = np.where(offer_ids_series == offer_id)[0][0]\n",
    "\n",
    "        # Take dot product of that row and column in U and V to make prediction\n",
    "        pred = np.dot(user_matrix[user_row, :], offer_matrix[:, offer_col])\n",
    "        \n",
    "        return pred\n",
    "    \n",
    "    except:    \n",
    "        return None"
   ]
  },
  {
   "cell_type": "code",
   "execution_count": 76,
   "metadata": {},
   "outputs": [],
   "source": [
    "def validation(test_df, user_mat, offer_mat):\n",
    "    num_complete = np.count_nonzero(~np.isnan(test_df))    \n",
    "    sse_accum = 0\n",
    "    for user_id in test_df.index:\n",
    "        for offer_id in test_df.columns:\n",
    "            if ~np.isnan(test_df.loc[user_id, offer_id]):\n",
    "                predict_value = predict_reaction(user_mat, offer_mat, user_id, offer_id)\n",
    "                if predict_value != None:\n",
    "                    diff = test_df.loc[user_id, offer_id] - predict_reaction(user_mat, offer_mat, user_id, offer_id)\n",
    "                    sse_accum += diff**2\n",
    "    print(sse_accum / num_complete)"
   ]
  },
  {
   "cell_type": "code",
   "execution_count": 77,
   "metadata": {},
   "outputs": [
    {
     "name": "stdout",
     "output_type": "stream",
     "text": [
      "0.26915991809118134\n"
     ]
    }
   ],
   "source": [
    "validation(test_df, user_mat, offer_mat)"
   ]
  },
  {
   "cell_type": "code",
   "execution_count": 78,
   "metadata": {},
   "outputs": [
    {
     "name": "stdout",
     "output_type": "stream",
     "text": [
      "0.27415502180973084\n"
     ]
    }
   ],
   "source": [
    "validation(test_df, user_mat_10, offer_mat_10)"
   ]
  },
  {
   "cell_type": "code",
   "execution_count": 79,
   "metadata": {
    "scrolled": true
   },
   "outputs": [
    {
     "name": "stdout",
     "output_type": "stream",
     "text": [
      "0.2711645280350609\n"
     ]
    }
   ],
   "source": [
    "validation(test_df, user_mat_5, offer_mat_5)"
   ]
  },
  {
   "cell_type": "code",
   "execution_count": 81,
   "metadata": {},
   "outputs": [
    {
     "data": {
      "text/plain": [
       "596220.84"
      ]
     },
     "execution_count": 81,
     "metadata": {},
     "output_type": "execute_result"
    }
   ],
   "source": [
    "transcript[transcript['person'].isin(list(full_df[full_df['O6']>=1].index))&(transcript['event']=='transaction')]['value'].apply(lambda x: x['amount']).sum()"
   ]
  },
  {
   "cell_type": "code",
   "execution_count": 141,
   "metadata": {
    "scrolled": true
   },
   "outputs": [
    {
     "data": {
      "text/plain": [
       "12670     19.51\n",
       "12686      0.22\n",
       "12785     14.27\n",
       "12840     10.37\n",
       "12886      2.44\n",
       "          ...  \n",
       "306516     9.20\n",
       "306517    11.70\n",
       "306518    40.67\n",
       "306525    43.58\n",
       "306526    22.64\n",
       "Name: value, Length: 43095, dtype: float64"
      ]
     },
     "execution_count": 141,
     "metadata": {},
     "output_type": "execute_result"
    }
   ],
   "source": [
    "transcript[transcript['person'].isin(list(full_df[full_df['O6']>=1].index))&(transcript['event']=='transaction')]['value'].apply(lambda x: x['amount'])"
   ]
  },
  {
   "cell_type": "code",
   "execution_count": 142,
   "metadata": {},
   "outputs": [
    {
     "data": {
      "text/plain": [
       "12670     19.51\n",
       "12686      0.22\n",
       "12785     14.27\n",
       "12840     10.37\n",
       "12886      2.44\n",
       "          ...  \n",
       "306516     9.20\n",
       "306517    11.70\n",
       "306518    40.67\n",
       "306525    43.58\n",
       "306526    22.64\n",
       "Name: value, Length: 43095, dtype: float64"
      ]
     },
     "execution_count": 142,
     "metadata": {},
     "output_type": "execute_result"
    }
   ],
   "source": [
    "transcript[transcript['person'].isin(list(full_df[full_df['O6']>=1].index))&(transcript['event']=='transaction')]['value'].apply(lambda x: x['amount'])"
   ]
  },
  {
   "cell_type": "code",
   "execution_count": 82,
   "metadata": {},
   "outputs": [],
   "source": [
    "def best_sale_offer(user_item_matrix):\n",
    "    # Find out which offer sells the best\n",
    "\n",
    "    offer_gain = []\n",
    "    for offer_id in user_item_matrix.columns:\n",
    "        offer_gain.append([offer_id, transcript[(transcript['person'].isin(list(user_item_matrix[user_item_matrix[offer_id]>=1].index)))&(transcript['event']=='transaction')]['value'].apply(lambda x: x['amount']).sum()])\n",
    "\n",
    "    offer_value = pd.DataFrame(offer_gain, columns=['offer_id', 'gain'])\n",
    "    offer_value['gain'] = pd.to_numeric(offer_value['gain'])\n",
    "    offer_value.sort_values(by='gain', ascending=False, inplace=True)\n",
    "    print(offer_value)\n",
    "    \n",
    "    best_sale = offer_value.plot(kind='bar', title='Sale Amount of Different Offers')\n",
    "    best_sale.set_xlabel('Offer number')\n",
    "    best_sale.set_ylabel('Sale Amount')\n",
    "    \n",
    "    return offer_value"
   ]
  },
  {
   "cell_type": "code",
   "execution_count": 83,
   "metadata": {},
   "outputs": [],
   "source": [
    "\n",
    "def recommend_offer(user_id, user_mat, offer_mat):\n",
    "    recommend = {}\n",
    "    for offer_id in train_df.columns:\n",
    "        pred_val = predict_reaction(user_mat, offer_mat, user_id, offer_id)\n",
    "        if pred_val != None:\n",
    "            recommend[offer_id] = pred_val\n",
    "        else:\n",
    "            break\n",
    "    if pred_val == None:\n",
    "        print(\"Because this user wasn't in our database, we are giving back the top best sale offer recommendations for all users.\")\n",
    "        top_offer = best_sale_offer(full_df)\n",
    "        for offer_id in top_offer['offer_id']:\n",
    "            print(\"offer id: \", offer_id)\n",
    "    else:\n",
    "        print(\"recommend offer for user \", user_id)\n",
    "        for offer_id, pred_val in sorted(recommend.items(), key=lambda item:item[1], reverse=True):\n",
    "            print(\"offer id: \", offer_id, \" predicted value: \", round(pred_val,2))"
   ]
  },
  {
   "cell_type": "code",
   "execution_count": 84,
   "metadata": {},
   "outputs": [
    {
     "name": "stdout",
     "output_type": "stream",
     "text": [
      "recommend offer for user  0610b486422d4921ae7d2bf64640c50b\n",
      "offer id:  O5  predicted value:  1.1\n",
      "offer id:  O6  predicted value:  0.9\n",
      "offer id:  O7  predicted value:  0.64\n",
      "offer id:  O3  predicted value:  0.44\n",
      "offer id:  O1  predicted value:  0.34\n",
      "offer id:  O0  predicted value:  0.3\n",
      "offer id:  O4  predicted value:  0.1\n",
      "offer id:  O2  predicted value:  0.03\n",
      "offer id:  O9  predicted value:  -0.0\n",
      "offer id:  O8  predicted value:  -0.0\n"
     ]
    }
   ],
   "source": [
    "recommend_offer('0610b486422d4921ae7d2bf64640c50b', user_mat, offer_mat)"
   ]
  },
  {
   "cell_type": "code",
   "execution_count": 85,
   "metadata": {
    "scrolled": true
   },
   "outputs": [
    {
     "name": "stdout",
     "output_type": "stream",
     "text": [
      "Because this user wasn't in our database, we are giving back the top best sale offer recommendations for all users.\n",
      "  offer_id       gain\n",
      "6       O6  596220.84\n",
      "5       O5  538027.98\n",
      "3       O3  480555.03\n",
      "1       O1  441918.93\n",
      "0       O0  423683.27\n",
      "7       O7  305568.42\n",
      "2       O2  304361.77\n",
      "4       O4  218905.94\n",
      "8       O8       0.00\n",
      "9       O9       0.00\n",
      "offer id:  O6\n",
      "offer id:  O5\n",
      "offer id:  O3\n",
      "offer id:  O1\n",
      "offer id:  O0\n",
      "offer id:  O7\n",
      "offer id:  O2\n",
      "offer id:  O4\n",
      "offer id:  O8\n",
      "offer id:  O9\n"
     ]
    },
    {
     "data": {
      "image/png": "[encoded data removed]",
      "text/plain": [
       "<Figure size 432x288 with 1 Axes>"
      ]
     },
     "metadata": {
      "needs_background": "light"
     },
     "output_type": "display_data"
    }
   ],
   "source": [
    "recommend_offer('new_user', user_mat, offer_mat)"
   ]
  },
  {
   "cell_type": "code",
   "execution_count": 143,
   "metadata": {},
   "outputs": [],
   "source": [
    "def gender_offer(full_df):\n",
    "    '''\n",
    "    Find out which type of offer (bogo/discount) attracts most to different gender\n",
    "    Return with a plotted bar chart\n",
    "    '''\n",
    "    \n",
    "    # initialize the gender response and the gender sent dataframe\n",
    "    gender_response = pd.DataFrame(data=[[0,0],[0,0],[0,0]], index=['M', 'F', 'O'], columns=['bogo', 'discount'])\n",
    "    gender_sent = pd.DataFrame(data=[[0,0],[0,0],[0,0]], index=['M', 'F', 'O'], columns=['bogo', 'discount'])\n",
    "\n",
    "    # We count the number of offer completed base on the customer gender\n",
    "    for offer_type in ['bogo', 'discount']:\n",
    "        for offer_id in portfolio[portfolio['offer_type']==offer_type]['id']:\n",
    "            # count the total number of customers responsed our offers.\n",
    "            gender_response[offer_type] = gender_response[offer_type].add(profile[profile['id'].isin(full_df[full_df[offer_id]>0].index)]['gender'].value_counts(), fill_value=0)\n",
    "            # count the total number of offer sent\n",
    "            gender_sent[offer_type] = gender_sent[offer_type].add(profile[profile['id'].isin(full_df[full_df[offer_id]>=0].index)]['gender'].value_counts(), fill_value=0)\n",
    "        \n",
    "    gender_offer = (gender_response / gender_sent * 100).plot(kind='bar', title='Percentage of customer response')\n",
    "    gender_offer.set_xlabel(\"Gender\")\n",
    "    gender_offer.set_ylabel(\"Percentage\")"
   ]
  },
  {
   "cell_type": "code",
   "execution_count": 144,
   "metadata": {
    "scrolled": true
   },
   "outputs": [
    {
     "data": {
      "image/png": "[encoded data removed]",
      "text/plain": [
       "<Figure size 432x288 with 1 Axes>"
      ]
     },
     "metadata": {
      "needs_background": "light"
     },
     "output_type": "display_data"
    }
   ],
   "source": [
    "gender_offer(full_df)"
   ]
  },
  {
   "cell_type": "code",
   "execution_count": 145,
   "metadata": {},
   "outputs": [
    {
     "data": {
      "text/plain": [
       "0    O0\n",
       "1    O1\n",
       "3    O2\n",
       "8    O3\n",
       "Name: id, dtype: object"
      ]
     },
     "execution_count": 145,
     "metadata": {},
     "output_type": "execute_result"
    }
   ],
   "source": [
    "portfolio[portfolio['offer_type']=='bogo']['id']"
   ]
  },
  {
   "cell_type": "code",
   "execution_count": 146,
   "metadata": {},
   "outputs": [],
   "source": [
    "def gender_offer_channel(full_df):\n",
    "    '''\n",
    "    Find out which type of offer (bogo/discount) attracts most to different gender\n",
    "    Return with a plotted bar chart\n",
    "    '''\n",
    "    \n",
    "    # initialize the gender response and the gender sent dataframe\n",
    "    gender_response = pd.DataFrame(data=[[0,0,0,0],[0,0,0,0],[0,0,0,0]], index=['M', 'F', 'O'], columns=['web', 'email', 'mobile', 'social'])\n",
    "    gender_sent = pd.DataFrame(data=[[0,0,0,0],[0,0,0,0],[0,0,0,0]], index=['M', 'F', 'O'], columns=['web', 'email', 'mobile', 'social'])\n",
    "\n",
    "    # We count the number of offer completed base on the customer gender\n",
    "    for channel_type in ['web', 'email', 'mobile', 'social']:\n",
    "        for offer_id in new_clean_portfolio[(new_clean_portfolio[channel_type]==1)&(new_clean_portfolio['informational']!=1)]['offer_id']:\n",
    "            # count the total number of customers responsed our offers.\n",
    "            gender_response[channel_type] = gender_response[channel_type].add(profile[profile['id'].isin(full_df[full_df[offer_id]>0].index)]['gender'].value_counts(), fill_value=0)\n",
    "            # count the total number of offer sent\n",
    "            gender_sent[channel_type] = gender_sent[channel_type].add(profile[profile['id'].isin(full_df[full_df[offer_id]>=0].index)]['gender'].value_counts(), fill_value=0)\n",
    "        \n",
    "    gender_offer = (gender_response / gender_sent * 100).plot(kind='bar', title='Percentage of customer response')\n",
    "    gender_offer.set_xlabel(\"Gender\")\n",
    "    gender_offer.set_ylabel(\"Percentage\")"
   ]
  },
  {
   "cell_type": "code",
   "execution_count": 147,
   "metadata": {},
   "outputs": [
    {
     "data": {
      "image/png": "[encoded data removed]",
      "text/plain": [
       "<Figure size 432x288 with 1 Axes>"
      ]
     },
     "metadata": {
      "needs_background": "light"
     },
     "output_type": "display_data"
    }
   ],
   "source": [
    "gender_offer_channel(full_df)"
   ]
  },
  {
   "cell_type": "code",
   "execution_count": 148,
   "metadata": {},
   "outputs": [],
   "source": [
    "def best_sale_offer(user_item_matrix):\n",
    "    # Find out which offer sells the best\n",
    "\n",
    "    offer_gain = []\n",
    "    for offer_id in user_item_matrix.columns:\n",
    "        offer_gain.append([offer_id, transcript[(transcript['person'].isin(list(user_item_matrix[user_item_matrix[offer_id]>=1].index)))&(transcript['event']=='transaction')]['value'].apply(lambda x: x['amount']).sum()])\n",
    "    offer_value = pd.DataFrame(offer_gain, columns=['offer_id', 'gain'])\n",
    "    offer_value['gain'] = pd.to_numeric(offer_value['gain'])\n",
    "    offer_value.sort_values(by='gain', ascending=False, inplace=True)\n",
    "    print(offer_value)\n",
    "    \n",
    "    best_sale = offer_value.plot(kind='bar', title='Sale Amount of Different Offers')\n",
    "    best_sale.set_xlabel('Offer number')\n",
    "    best_sale.set_ylabel('Sale Amount')\n",
    "    \n",
    "    return offer_value"
   ]
  },
  {
   "cell_type": "code",
   "execution_count": 149,
   "metadata": {},
   "outputs": [
    {
     "name": "stdout",
     "output_type": "stream",
     "text": [
      "  offer_id       gain\n",
      "6       O6  596220.84\n",
      "5       O5  538027.98\n",
      "3       O3  480555.03\n",
      "1       O1  441918.93\n",
      "0       O0  423683.27\n",
      "7       O7  305568.42\n",
      "2       O2  304361.77\n",
      "4       O4  218905.94\n",
      "8       O8       0.00\n",
      "9       O9       0.00\n"
     ]
    },
    {
     "data": {
      "text/html": [
       "<div>\n",
       "<style scoped>\n",
       "    .dataframe tbody tr th:only-of-type {\n",
       "        vertical-align: middle;\n",
       "    }\n",
       "\n",
       "    .dataframe tbody tr th {\n",
       "        vertical-align: top;\n",
       "    }\n",
       "\n",
       "    .dataframe thead th {\n",
       "        text-align: right;\n",
       "    }\n",
       "</style>\n",
       "<table border=\"1\" class=\"dataframe\">\n",
       "  <thead>\n",
       "    <tr style=\"text-align: right;\">\n",
       "      <th></th>\n",
       "      <th>offer_id</th>\n",
       "      <th>gain</th>\n",
       "    </tr>\n",
       "  </thead>\n",
       "  <tbody>\n",
       "    <tr>\n",
       "      <th>6</th>\n",
       "      <td>O6</td>\n",
       "      <td>596220.84</td>\n",
       "    </tr>\n",
       "    <tr>\n",
       "      <th>5</th>\n",
       "      <td>O5</td>\n",
       "      <td>538027.98</td>\n",
       "    </tr>\n",
       "    <tr>\n",
       "      <th>3</th>\n",
       "      <td>O3</td>\n",
       "      <td>480555.03</td>\n",
       "    </tr>\n",
       "    <tr>\n",
       "      <th>1</th>\n",
       "      <td>O1</td>\n",
       "      <td>441918.93</td>\n",
       "    </tr>\n",
       "    <tr>\n",
       "      <th>0</th>\n",
       "      <td>O0</td>\n",
       "      <td>423683.27</td>\n",
       "    </tr>\n",
       "    <tr>\n",
       "      <th>7</th>\n",
       "      <td>O7</td>\n",
       "      <td>305568.42</td>\n",
       "    </tr>\n",
       "    <tr>\n",
       "      <th>2</th>\n",
       "      <td>O2</td>\n",
       "      <td>304361.77</td>\n",
       "    </tr>\n",
       "    <tr>\n",
       "      <th>4</th>\n",
       "      <td>O4</td>\n",
       "      <td>218905.94</td>\n",
       "    </tr>\n",
       "    <tr>\n",
       "      <th>8</th>\n",
       "      <td>O8</td>\n",
       "      <td>0.00</td>\n",
       "    </tr>\n",
       "    <tr>\n",
       "      <th>9</th>\n",
       "      <td>O9</td>\n",
       "      <td>0.00</td>\n",
       "    </tr>\n",
       "  </tbody>\n",
       "</table>\n",
       "</div>"
      ],
      "text/plain": [
       "  offer_id       gain\n",
       "6       O6  596220.84\n",
       "5       O5  538027.98\n",
       "3       O3  480555.03\n",
       "1       O1  441918.93\n",
       "0       O0  423683.27\n",
       "7       O7  305568.42\n",
       "2       O2  304361.77\n",
       "4       O4  218905.94\n",
       "8       O8       0.00\n",
       "9       O9       0.00"
      ]
     },
     "execution_count": 149,
     "metadata": {},
     "output_type": "execute_result"
    },
    {
     "data": {
      "image/png": "[encoded data removed]",
      "text/plain": [
       "<Figure size 432x288 with 1 Axes>"
      ]
     },
     "metadata": {
      "needs_background": "light"
     },
     "output_type": "display_data"
    }
   ],
   "source": [
    "best_sale_offer(full_df)"
   ]
  },
  {
   "cell_type": "code",
   "execution_count": null,
   "metadata": {},
   "outputs": [],
   "source": []
  },
  {
   "cell_type": "code",
   "execution_count": null,
   "metadata": {},
   "outputs": [],
   "source": []
  }
 ],
 "metadata": {
  "kernelspec": {
   "display_name": "Python 3",
   "language": "python",
   "name": "python3"
  },
  "language_info": {
   "codemirror_mode": {
    "name": "ipython",
    "version": 3
   },
   "file_extension": ".py",
   "mimetype": "text/x-python",
   "name": "python",
   "nbconvert_exporter": "python",
   "pygments_lexer": "ipython3",
   "version": "3.8.5"
  }
 },
 "nbformat": 4,
 "nbformat_minor": 2
}
